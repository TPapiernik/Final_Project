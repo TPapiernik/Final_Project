{
 "cells": [
  {
   "cell_type": "markdown",
   "metadata": {},
   "source": [
    "## Part 0: Import Dependencies and Set-Up"
   ]
  },
  {
   "cell_type": "code",
   "execution_count": 58,
   "metadata": {},
   "outputs": [],
   "source": [
    "# Import Dependencies\n",
    "import hvplot.pandas\n",
    "import numpy as np\n",
    "import os\n",
    "import pandas as pd\n",
    "import plotly.express as px\n",
    "import plotly.figure_factory as ff\n",
    "import random\n",
    "from scipy.spatial import distance\n",
    "#from sklearn.cluster import KMeans\n",
    "from sklearn.cluster import AgglomerativeClustering\n",
    "from sklearn.decomposition import PCA\n",
    "from sklearn.preprocessing import MinMaxScaler, MultiLabelBinarizer, StandardScaler\n"
   ]
  },
  {
   "cell_type": "code",
   "execution_count": 3,
   "metadata": {},
   "outputs": [],
   "source": [
    "# Pandas Settings\n",
    "\n",
    "# Display All Columns\n",
    "pd.set_option('display.max_columns', None)\n"
   ]
  },
  {
   "cell_type": "code",
   "execution_count": 4,
   "metadata": {},
   "outputs": [],
   "source": [
    "# Path to file directory and variables for input files.\n",
    "file_dir = os.path.join(\"Data\")\n",
    "\n",
    "# imdb Titles metadata (Extracted from title.basics.tsv)\n",
    "titles_metadata_file = f'{file_dir}/title_basics_non-adult_movies.tsv'\n",
    "\n",
    "# imdb US Titles only ids (Extracted from title.akas.tsv)\n",
    "titles_us_ids_only_file = f'{file_dir}/US_title_ids.csv'\n",
    "\n",
    "# imdb Ratings data (Derived from title.ratings.tsv)\n",
    "ratings_data_file = f'{file_dir}/title_ratings.csv'\n"
   ]
  },
  {
   "cell_type": "code",
   "execution_count": 5,
   "metadata": {},
   "outputs": [],
   "source": [
    "# Set Viewer Title for Testing\n",
    "#viewerTitle = \"Apocalypse Now\"\n",
    "viewerTitle = \"The Maltese Falcon (1941)\"\n",
    "#viewerTitle = \"Toy Story\"\n",
    "#viewerTitle = \"Witness (1985)\"\n"
   ]
  },
  {
   "cell_type": "markdown",
   "metadata": {},
   "source": [
    "## Part 1: Import Data, Clean and Transform Data"
   ]
  },
  {
   "cell_type": "code",
   "execution_count": 6,
   "metadata": {},
   "outputs": [],
   "source": [
    "# Import imdb Titles metadata, imdb US Title IDs, imdb Ratings data\n",
    "\n",
    "titles_metadata = pd.read_csv(titles_metadata_file, sep='\\t')\n",
    "titles_us_ids_only = pd.read_csv(titles_us_ids_only_file)\n",
    "ratings_data = pd.read_csv(ratings_data_file)\n"
   ]
  },
  {
   "cell_type": "code",
   "execution_count": 7,
   "metadata": {},
   "outputs": [
    {
     "name": "stdout",
     "output_type": "stream",
     "text": [
      "(584642, 9)\n"
     ]
    },
    {
     "data": {
      "text/html": [
       "<div>\n",
       "<style scoped>\n",
       "    .dataframe tbody tr th:only-of-type {\n",
       "        vertical-align: middle;\n",
       "    }\n",
       "\n",
       "    .dataframe tbody tr th {\n",
       "        vertical-align: top;\n",
       "    }\n",
       "\n",
       "    .dataframe thead th {\n",
       "        text-align: right;\n",
       "    }\n",
       "</style>\n",
       "<table border=\"1\" class=\"dataframe\">\n",
       "  <thead>\n",
       "    <tr style=\"text-align: right;\">\n",
       "      <th></th>\n",
       "      <th>tconst</th>\n",
       "      <th>titleType</th>\n",
       "      <th>primaryTitle</th>\n",
       "      <th>originalTitle</th>\n",
       "      <th>isAdult</th>\n",
       "      <th>startYear</th>\n",
       "      <th>endYear</th>\n",
       "      <th>runtimeMinutes</th>\n",
       "      <th>genres</th>\n",
       "    </tr>\n",
       "  </thead>\n",
       "  <tbody>\n",
       "    <tr>\n",
       "      <th>0</th>\n",
       "      <td>tt0000502</td>\n",
       "      <td>movie</td>\n",
       "      <td>Bohemios</td>\n",
       "      <td>Bohemios</td>\n",
       "      <td>0</td>\n",
       "      <td>1905</td>\n",
       "      <td>\\N</td>\n",
       "      <td>100</td>\n",
       "      <td>\\N</td>\n",
       "    </tr>\n",
       "    <tr>\n",
       "      <th>1</th>\n",
       "      <td>tt0000574</td>\n",
       "      <td>movie</td>\n",
       "      <td>The Story of the Kelly Gang</td>\n",
       "      <td>The Story of the Kelly Gang</td>\n",
       "      <td>0</td>\n",
       "      <td>1906</td>\n",
       "      <td>\\N</td>\n",
       "      <td>70</td>\n",
       "      <td>Action,Adventure,Biography</td>\n",
       "    </tr>\n",
       "    <tr>\n",
       "      <th>2</th>\n",
       "      <td>tt0000591</td>\n",
       "      <td>movie</td>\n",
       "      <td>The Prodigal Son</td>\n",
       "      <td>L'enfant prodigue</td>\n",
       "      <td>0</td>\n",
       "      <td>1907</td>\n",
       "      <td>\\N</td>\n",
       "      <td>90</td>\n",
       "      <td>Drama</td>\n",
       "    </tr>\n",
       "    <tr>\n",
       "      <th>3</th>\n",
       "      <td>tt0000615</td>\n",
       "      <td>movie</td>\n",
       "      <td>Robbery Under Arms</td>\n",
       "      <td>Robbery Under Arms</td>\n",
       "      <td>0</td>\n",
       "      <td>1907</td>\n",
       "      <td>\\N</td>\n",
       "      <td>\\N</td>\n",
       "      <td>Drama</td>\n",
       "    </tr>\n",
       "    <tr>\n",
       "      <th>4</th>\n",
       "      <td>tt0000630</td>\n",
       "      <td>movie</td>\n",
       "      <td>Hamlet</td>\n",
       "      <td>Amleto</td>\n",
       "      <td>0</td>\n",
       "      <td>1908</td>\n",
       "      <td>\\N</td>\n",
       "      <td>\\N</td>\n",
       "      <td>Drama</td>\n",
       "    </tr>\n",
       "  </tbody>\n",
       "</table>\n",
       "</div>"
      ],
      "text/plain": [
       "      tconst titleType                 primaryTitle  \\\n",
       "0  tt0000502     movie                     Bohemios   \n",
       "1  tt0000574     movie  The Story of the Kelly Gang   \n",
       "2  tt0000591     movie             The Prodigal Son   \n",
       "3  tt0000615     movie           Robbery Under Arms   \n",
       "4  tt0000630     movie                       Hamlet   \n",
       "\n",
       "                 originalTitle  isAdult startYear endYear runtimeMinutes  \\\n",
       "0                     Bohemios        0      1905      \\N            100   \n",
       "1  The Story of the Kelly Gang        0      1906      \\N             70   \n",
       "2            L'enfant prodigue        0      1907      \\N             90   \n",
       "3           Robbery Under Arms        0      1907      \\N             \\N   \n",
       "4                       Amleto        0      1908      \\N             \\N   \n",
       "\n",
       "                       genres  \n",
       "0                          \\N  \n",
       "1  Action,Adventure,Biography  \n",
       "2                       Drama  \n",
       "3                       Drama  \n",
       "4                       Drama  "
      ]
     },
     "execution_count": 7,
     "metadata": {},
     "output_type": "execute_result"
    }
   ],
   "source": [
    "# Check titles_metadata DataFrame\n",
    "print(titles_metadata.shape)\n",
    "titles_metadata.count()\n",
    "titles_metadata.head()\n"
   ]
  },
  {
   "cell_type": "code",
   "execution_count": 8,
   "metadata": {},
   "outputs": [],
   "source": [
    "# Drop all Titles where primaryTitle differs from originalTitle\n",
    "# (Since language of titles is not often available, this is an attempt\n",
    "# to filter out obscure non-English language films)\n",
    "\n",
    "titles_metadata = titles_metadata.loc[titles_metadata['primaryTitle'] == titles_metadata['originalTitle']]\n"
   ]
  },
  {
   "cell_type": "code",
   "execution_count": 9,
   "metadata": {},
   "outputs": [
    {
     "data": {
      "text/html": [
       "<div>\n",
       "<style scoped>\n",
       "    .dataframe tbody tr th:only-of-type {\n",
       "        vertical-align: middle;\n",
       "    }\n",
       "\n",
       "    .dataframe tbody tr th {\n",
       "        vertical-align: top;\n",
       "    }\n",
       "\n",
       "    .dataframe thead th {\n",
       "        text-align: right;\n",
       "    }\n",
       "</style>\n",
       "<table border=\"1\" class=\"dataframe\">\n",
       "  <thead>\n",
       "    <tr style=\"text-align: right;\">\n",
       "      <th></th>\n",
       "      <th>tconst</th>\n",
       "      <th>titleType</th>\n",
       "      <th>primaryTitle</th>\n",
       "      <th>originalTitle</th>\n",
       "      <th>isAdult</th>\n",
       "      <th>startYear</th>\n",
       "      <th>endYear</th>\n",
       "      <th>runtimeMinutes</th>\n",
       "      <th>genres</th>\n",
       "    </tr>\n",
       "  </thead>\n",
       "  <tbody>\n",
       "    <tr>\n",
       "      <th>417445</th>\n",
       "      <td>tt3120962</td>\n",
       "      <td>movie</td>\n",
       "      <td>#5 (2013)</td>\n",
       "      <td>#5 (2013)</td>\n",
       "      <td>0</td>\n",
       "      <td>2013</td>\n",
       "      <td>\\N</td>\n",
       "      <td>68</td>\n",
       "      <td>Biography,Comedy,Fantasy</td>\n",
       "    </tr>\n",
       "    <tr>\n",
       "      <th>553039</th>\n",
       "      <td>tt8219776</td>\n",
       "      <td>movie</td>\n",
       "      <td>#5 (2018)</td>\n",
       "      <td>#5 (2018)</td>\n",
       "      <td>0</td>\n",
       "      <td>2018</td>\n",
       "      <td>\\N</td>\n",
       "      <td>\\N</td>\n",
       "      <td>Documentary</td>\n",
       "    </tr>\n",
       "    <tr>\n",
       "      <th>262785</th>\n",
       "      <td>tt11803670</td>\n",
       "      <td>movie</td>\n",
       "      <td>#Love (\\N)</td>\n",
       "      <td>#Love (\\N)</td>\n",
       "      <td>0</td>\n",
       "      <td>\\N</td>\n",
       "      <td>\\N</td>\n",
       "      <td>\\N</td>\n",
       "      <td>Drama</td>\n",
       "    </tr>\n",
       "    <tr>\n",
       "      <th>342883</th>\n",
       "      <td>tt15521960</td>\n",
       "      <td>movie</td>\n",
       "      <td>#Love (\\N)</td>\n",
       "      <td>#Love (\\N)</td>\n",
       "      <td>0</td>\n",
       "      <td>\\N</td>\n",
       "      <td>\\N</td>\n",
       "      <td>\\N</td>\n",
       "      <td>Comedy,Romance</td>\n",
       "    </tr>\n",
       "    <tr>\n",
       "      <th>446725</th>\n",
       "      <td>tt4004608</td>\n",
       "      <td>movie</td>\n",
       "      <td>$elfie Shootout (2016)</td>\n",
       "      <td>$elfie Shootout (2016)</td>\n",
       "      <td>0</td>\n",
       "      <td>2016</td>\n",
       "      <td>\\N</td>\n",
       "      <td>86</td>\n",
       "      <td>Comedy</td>\n",
       "    </tr>\n",
       "    <tr>\n",
       "      <th>...</th>\n",
       "      <td>...</td>\n",
       "      <td>...</td>\n",
       "      <td>...</td>\n",
       "      <td>...</td>\n",
       "      <td>...</td>\n",
       "      <td>...</td>\n",
       "      <td>...</td>\n",
       "      <td>...</td>\n",
       "      <td>...</td>\n",
       "    </tr>\n",
       "    <tr>\n",
       "      <th>580668</th>\n",
       "      <td>tt9686590</td>\n",
       "      <td>movie</td>\n",
       "      <td>Ûmi no kyodai (1935)</td>\n",
       "      <td>Ûmi no kyodai (1935)</td>\n",
       "      <td>0</td>\n",
       "      <td>1935</td>\n",
       "      <td>\\N</td>\n",
       "      <td>\\N</td>\n",
       "      <td>Drama</td>\n",
       "    </tr>\n",
       "    <tr>\n",
       "      <th>450813</th>\n",
       "      <td>tt4149802</td>\n",
       "      <td>movie</td>\n",
       "      <td>Ümmü Sibyan: Zifir (2014)</td>\n",
       "      <td>Ümmü Sibyan: Zifir (2014)</td>\n",
       "      <td>0</td>\n",
       "      <td>2014</td>\n",
       "      <td>\\N</td>\n",
       "      <td>\\N</td>\n",
       "      <td>Horror</td>\n",
       "    </tr>\n",
       "    <tr>\n",
       "      <th>513928</th>\n",
       "      <td>tt6448010</td>\n",
       "      <td>movie</td>\n",
       "      <td>Ümmü Sibyan: Zifir (2015)</td>\n",
       "      <td>Ümmü Sibyan: Zifir (2015)</td>\n",
       "      <td>0</td>\n",
       "      <td>2015</td>\n",
       "      <td>\\N</td>\n",
       "      <td>\\N</td>\n",
       "      <td>\\N</td>\n",
       "    </tr>\n",
       "    <tr>\n",
       "      <th>195195</th>\n",
       "      <td>tt0431498</td>\n",
       "      <td>movie</td>\n",
       "      <td>Üvey ana (1967)</td>\n",
       "      <td>Üvey ana (1967)</td>\n",
       "      <td>0</td>\n",
       "      <td>1967</td>\n",
       "      <td>\\N</td>\n",
       "      <td>\\N</td>\n",
       "      <td>Drama,Romance</td>\n",
       "    </tr>\n",
       "    <tr>\n",
       "      <th>204275</th>\n",
       "      <td>tt0475031</td>\n",
       "      <td>movie</td>\n",
       "      <td>Üvey ana (1971)</td>\n",
       "      <td>Üvey ana (1971)</td>\n",
       "      <td>0</td>\n",
       "      <td>1971</td>\n",
       "      <td>\\N</td>\n",
       "      <td>83</td>\n",
       "      <td>Drama</td>\n",
       "    </tr>\n",
       "  </tbody>\n",
       "</table>\n",
       "<p>92378 rows × 9 columns</p>\n",
       "</div>"
      ],
      "text/plain": [
       "            tconst titleType               primaryTitle  \\\n",
       "417445   tt3120962     movie                  #5 (2013)   \n",
       "553039   tt8219776     movie                  #5 (2018)   \n",
       "262785  tt11803670     movie                 #Love (\\N)   \n",
       "342883  tt15521960     movie                 #Love (\\N)   \n",
       "446725   tt4004608     movie     $elfie Shootout (2016)   \n",
       "...            ...       ...                        ...   \n",
       "580668   tt9686590     movie       Ûmi no kyodai (1935)   \n",
       "450813   tt4149802     movie  Ümmü Sibyan: Zifir (2014)   \n",
       "513928   tt6448010     movie  Ümmü Sibyan: Zifir (2015)   \n",
       "195195   tt0431498     movie            Üvey ana (1967)   \n",
       "204275   tt0475031     movie            Üvey ana (1971)   \n",
       "\n",
       "                    originalTitle  isAdult startYear endYear runtimeMinutes  \\\n",
       "417445                  #5 (2013)        0      2013      \\N             68   \n",
       "553039                  #5 (2018)        0      2018      \\N             \\N   \n",
       "262785                 #Love (\\N)        0        \\N      \\N             \\N   \n",
       "342883                 #Love (\\N)        0        \\N      \\N             \\N   \n",
       "446725     $elfie Shootout (2016)        0      2016      \\N             86   \n",
       "...                           ...      ...       ...     ...            ...   \n",
       "580668       Ûmi no kyodai (1935)        0      1935      \\N             \\N   \n",
       "450813  Ümmü Sibyan: Zifir (2014)        0      2014      \\N             \\N   \n",
       "513928  Ümmü Sibyan: Zifir (2015)        0      2015      \\N             \\N   \n",
       "195195            Üvey ana (1967)        0      1967      \\N             \\N   \n",
       "204275            Üvey ana (1971)        0      1971      \\N             83   \n",
       "\n",
       "                          genres  \n",
       "417445  Biography,Comedy,Fantasy  \n",
       "553039               Documentary  \n",
       "262785                     Drama  \n",
       "342883            Comedy,Romance  \n",
       "446725                    Comedy  \n",
       "...                          ...  \n",
       "580668                     Drama  \n",
       "450813                    Horror  \n",
       "513928                        \\N  \n",
       "195195             Drama,Romance  \n",
       "204275                     Drama  \n",
       "\n",
       "[92378 rows x 9 columns]"
      ]
     },
     "execution_count": 9,
     "metadata": {},
     "output_type": "execute_result"
    }
   ],
   "source": [
    "# Look for Films with the same primaryTitle\n",
    "# and set primaryTitle to primaryTitle + (startYear)\n",
    "\n",
    "duplicate_titles_df = pd.concat(g for _, g in titles_metadata.groupby('primaryTitle') if len(g) > 1)\n",
    "\n",
    "duplicate_titles_df['primaryTitle'] = duplicate_titles_df.apply(lambda row: \"\".join([row['primaryTitle'], \" (\", str(row['startYear']), \")\"]), axis=1)\n",
    "duplicate_titles_df['originalTitle'] = duplicate_titles_df['primaryTitle']\n",
    "\n",
    "duplicate_titles_df\n"
   ]
  },
  {
   "cell_type": "code",
   "execution_count": 10,
   "metadata": {},
   "outputs": [],
   "source": [
    "# Merge duplicate_titles_df back with titles_metadata\n",
    "\n",
    "cols = list(titles_metadata.columns)\n",
    "titles_metadata.loc[titles_metadata['tconst'].isin(duplicate_titles_df['tconst']), cols] = duplicate_titles_df[cols]\n"
   ]
  },
  {
   "cell_type": "code",
   "execution_count": 11,
   "metadata": {},
   "outputs": [
    {
     "name": "stdout",
     "output_type": "stream",
     "text": [
      "(1308380, 1)\n"
     ]
    },
    {
     "data": {
      "text/html": [
       "<div>\n",
       "<style scoped>\n",
       "    .dataframe tbody tr th:only-of-type {\n",
       "        vertical-align: middle;\n",
       "    }\n",
       "\n",
       "    .dataframe tbody tr th {\n",
       "        vertical-align: top;\n",
       "    }\n",
       "\n",
       "    .dataframe thead th {\n",
       "        text-align: right;\n",
       "    }\n",
       "</style>\n",
       "<table border=\"1\" class=\"dataframe\">\n",
       "  <thead>\n",
       "    <tr style=\"text-align: right;\">\n",
       "      <th></th>\n",
       "      <th>tconst</th>\n",
       "    </tr>\n",
       "  </thead>\n",
       "  <tbody>\n",
       "    <tr>\n",
       "      <th>0</th>\n",
       "      <td>tt0000001</td>\n",
       "    </tr>\n",
       "    <tr>\n",
       "      <th>1</th>\n",
       "      <td>tt0000002</td>\n",
       "    </tr>\n",
       "    <tr>\n",
       "      <th>2</th>\n",
       "      <td>tt0000005</td>\n",
       "    </tr>\n",
       "    <tr>\n",
       "      <th>3</th>\n",
       "      <td>tt0000005</td>\n",
       "    </tr>\n",
       "    <tr>\n",
       "      <th>4</th>\n",
       "      <td>tt0000005</td>\n",
       "    </tr>\n",
       "  </tbody>\n",
       "</table>\n",
       "</div>"
      ],
      "text/plain": [
       "      tconst\n",
       "0  tt0000001\n",
       "1  tt0000002\n",
       "2  tt0000005\n",
       "3  tt0000005\n",
       "4  tt0000005"
      ]
     },
     "execution_count": 11,
     "metadata": {},
     "output_type": "execute_result"
    }
   ],
   "source": [
    "# Check titles_us_ids_only DataFrame\n",
    "print(titles_us_ids_only.shape)\n",
    "titles_us_ids_only.count\n",
    "titles_us_ids_only.head()\n"
   ]
  },
  {
   "cell_type": "code",
   "execution_count": 12,
   "metadata": {},
   "outputs": [],
   "source": [
    "# Drop all Titles from titles_metadata that are not in titles_us_ids_only\n",
    "\n",
    "titles_metadata = pd.merge(titles_metadata, titles_us_ids_only, on='tconst', how='inner')\n",
    "titles_metadata = titles_metadata.drop_duplicates()\n"
   ]
  },
  {
   "cell_type": "code",
   "execution_count": 13,
   "metadata": {},
   "outputs": [
    {
     "name": "stdout",
     "output_type": "stream",
     "text": [
      "(207524, 9)\n"
     ]
    },
    {
     "data": {
      "text/html": [
       "<div>\n",
       "<style scoped>\n",
       "    .dataframe tbody tr th:only-of-type {\n",
       "        vertical-align: middle;\n",
       "    }\n",
       "\n",
       "    .dataframe tbody tr th {\n",
       "        vertical-align: top;\n",
       "    }\n",
       "\n",
       "    .dataframe thead th {\n",
       "        text-align: right;\n",
       "    }\n",
       "</style>\n",
       "<table border=\"1\" class=\"dataframe\">\n",
       "  <thead>\n",
       "    <tr style=\"text-align: right;\">\n",
       "      <th></th>\n",
       "      <th>tconst</th>\n",
       "      <th>titleType</th>\n",
       "      <th>primaryTitle</th>\n",
       "      <th>originalTitle</th>\n",
       "      <th>isAdult</th>\n",
       "      <th>startYear</th>\n",
       "      <th>endYear</th>\n",
       "      <th>runtimeMinutes</th>\n",
       "      <th>genres</th>\n",
       "    </tr>\n",
       "  </thead>\n",
       "  <tbody>\n",
       "    <tr>\n",
       "      <th>0</th>\n",
       "      <td>tt0000574</td>\n",
       "      <td>movie</td>\n",
       "      <td>The Story of the Kelly Gang</td>\n",
       "      <td>The Story of the Kelly Gang</td>\n",
       "      <td>0</td>\n",
       "      <td>1906</td>\n",
       "      <td>\\N</td>\n",
       "      <td>70</td>\n",
       "      <td>Action,Adventure,Biography</td>\n",
       "    </tr>\n",
       "    <tr>\n",
       "      <th>1</th>\n",
       "      <td>tt0000679</td>\n",
       "      <td>movie</td>\n",
       "      <td>The Fairylogue and Radio-Plays</td>\n",
       "      <td>The Fairylogue and Radio-Plays</td>\n",
       "      <td>0</td>\n",
       "      <td>1908</td>\n",
       "      <td>\\N</td>\n",
       "      <td>120</td>\n",
       "      <td>Adventure,Fantasy</td>\n",
       "    </tr>\n",
       "    <tr>\n",
       "      <th>2</th>\n",
       "      <td>tt0001101</td>\n",
       "      <td>movie</td>\n",
       "      <td>Abraham Lincoln's Clemency</td>\n",
       "      <td>Abraham Lincoln's Clemency</td>\n",
       "      <td>0</td>\n",
       "      <td>1910</td>\n",
       "      <td>\\N</td>\n",
       "      <td>\\N</td>\n",
       "      <td>\\N</td>\n",
       "    </tr>\n",
       "    <tr>\n",
       "      <th>3</th>\n",
       "      <td>tt0001159</td>\n",
       "      <td>movie</td>\n",
       "      <td>The Connecticut Yankee</td>\n",
       "      <td>The Connecticut Yankee</td>\n",
       "      <td>0</td>\n",
       "      <td>1910</td>\n",
       "      <td>\\N</td>\n",
       "      <td>\\N</td>\n",
       "      <td>\\N</td>\n",
       "    </tr>\n",
       "    <tr>\n",
       "      <th>4</th>\n",
       "      <td>tt0001230</td>\n",
       "      <td>movie</td>\n",
       "      <td>Gentleman Joe</td>\n",
       "      <td>Gentleman Joe</td>\n",
       "      <td>0</td>\n",
       "      <td>1910</td>\n",
       "      <td>\\N</td>\n",
       "      <td>\\N</td>\n",
       "      <td>\\N</td>\n",
       "    </tr>\n",
       "  </tbody>\n",
       "</table>\n",
       "</div>"
      ],
      "text/plain": [
       "      tconst titleType                    primaryTitle  \\\n",
       "0  tt0000574     movie     The Story of the Kelly Gang   \n",
       "1  tt0000679     movie  The Fairylogue and Radio-Plays   \n",
       "2  tt0001101     movie      Abraham Lincoln's Clemency   \n",
       "3  tt0001159     movie          The Connecticut Yankee   \n",
       "4  tt0001230     movie                   Gentleman Joe   \n",
       "\n",
       "                    originalTitle  isAdult startYear endYear runtimeMinutes  \\\n",
       "0     The Story of the Kelly Gang        0      1906      \\N             70   \n",
       "1  The Fairylogue and Radio-Plays        0      1908      \\N            120   \n",
       "2      Abraham Lincoln's Clemency        0      1910      \\N             \\N   \n",
       "3          The Connecticut Yankee        0      1910      \\N             \\N   \n",
       "4                   Gentleman Joe        0      1910      \\N             \\N   \n",
       "\n",
       "                       genres  \n",
       "0  Action,Adventure,Biography  \n",
       "1           Adventure,Fantasy  \n",
       "2                          \\N  \n",
       "3                          \\N  \n",
       "4                          \\N  "
      ]
     },
     "execution_count": 13,
     "metadata": {},
     "output_type": "execute_result"
    }
   ],
   "source": [
    "# Check results\n",
    "print(titles_metadata.shape)\n",
    "titles_metadata.head()\n"
   ]
  },
  {
   "cell_type": "code",
   "execution_count": 14,
   "metadata": {},
   "outputs": [],
   "source": [
    "# Drop titles_metadata Rows with \"\\N\" for genres and startYear\n",
    "# Drop titleType isAdult and endYear Columns\n",
    "\n",
    "#titles_metadata['genres'].value_counts()\n",
    "\n",
    "titles_metadata = titles_metadata.loc[~(titles_metadata['genres'] == \"\\\\N\") & ~(titles_metadata['startYear'] == \"\\\\N\")]\n",
    "titles_metadata.drop(['titleType'], axis=1, inplace=True)\n",
    "titles_metadata.drop(['isAdult'], axis=1, inplace=True)\n",
    "titles_metadata.drop(['endYear'], axis=1, inplace=True)\n"
   ]
  },
  {
   "cell_type": "code",
   "execution_count": 15,
   "metadata": {},
   "outputs": [
    {
     "name": "stdout",
     "output_type": "stream",
     "text": [
      "(153255, 6)\n"
     ]
    },
    {
     "data": {
      "text/html": [
       "<div>\n",
       "<style scoped>\n",
       "    .dataframe tbody tr th:only-of-type {\n",
       "        vertical-align: middle;\n",
       "    }\n",
       "\n",
       "    .dataframe tbody tr th {\n",
       "        vertical-align: top;\n",
       "    }\n",
       "\n",
       "    .dataframe thead th {\n",
       "        text-align: right;\n",
       "    }\n",
       "</style>\n",
       "<table border=\"1\" class=\"dataframe\">\n",
       "  <thead>\n",
       "    <tr style=\"text-align: right;\">\n",
       "      <th></th>\n",
       "      <th>tconst</th>\n",
       "      <th>primaryTitle</th>\n",
       "      <th>originalTitle</th>\n",
       "      <th>startYear</th>\n",
       "      <th>runtimeMinutes</th>\n",
       "      <th>genres</th>\n",
       "    </tr>\n",
       "  </thead>\n",
       "  <tbody>\n",
       "    <tr>\n",
       "      <th>0</th>\n",
       "      <td>tt0000574</td>\n",
       "      <td>The Story of the Kelly Gang</td>\n",
       "      <td>The Story of the Kelly Gang</td>\n",
       "      <td>1906</td>\n",
       "      <td>70</td>\n",
       "      <td>Action,Adventure,Biography</td>\n",
       "    </tr>\n",
       "    <tr>\n",
       "      <th>1</th>\n",
       "      <td>tt0000679</td>\n",
       "      <td>The Fairylogue and Radio-Plays</td>\n",
       "      <td>The Fairylogue and Radio-Plays</td>\n",
       "      <td>1908</td>\n",
       "      <td>120</td>\n",
       "      <td>Adventure,Fantasy</td>\n",
       "    </tr>\n",
       "    <tr>\n",
       "      <th>5</th>\n",
       "      <td>tt0001285</td>\n",
       "      <td>The Life of Moses</td>\n",
       "      <td>The Life of Moses</td>\n",
       "      <td>1909</td>\n",
       "      <td>50</td>\n",
       "      <td>Biography,Drama,Family</td>\n",
       "    </tr>\n",
       "    <tr>\n",
       "      <th>11</th>\n",
       "      <td>tt0001498</td>\n",
       "      <td>The Battle of Trafalgar</td>\n",
       "      <td>The Battle of Trafalgar</td>\n",
       "      <td>1911</td>\n",
       "      <td>51</td>\n",
       "      <td>War</td>\n",
       "    </tr>\n",
       "    <tr>\n",
       "      <th>17</th>\n",
       "      <td>tt0001892</td>\n",
       "      <td>Den sorte drøm</td>\n",
       "      <td>Den sorte drøm</td>\n",
       "      <td>1911</td>\n",
       "      <td>53</td>\n",
       "      <td>Drama</td>\n",
       "    </tr>\n",
       "  </tbody>\n",
       "</table>\n",
       "</div>"
      ],
      "text/plain": [
       "       tconst                    primaryTitle                   originalTitle  \\\n",
       "0   tt0000574     The Story of the Kelly Gang     The Story of the Kelly Gang   \n",
       "1   tt0000679  The Fairylogue and Radio-Plays  The Fairylogue and Radio-Plays   \n",
       "5   tt0001285               The Life of Moses               The Life of Moses   \n",
       "11  tt0001498         The Battle of Trafalgar         The Battle of Trafalgar   \n",
       "17  tt0001892                  Den sorte drøm                  Den sorte drøm   \n",
       "\n",
       "   startYear runtimeMinutes                      genres  \n",
       "0       1906             70  Action,Adventure,Biography  \n",
       "1       1908            120           Adventure,Fantasy  \n",
       "5       1909             50      Biography,Drama,Family  \n",
       "11      1911             51                         War  \n",
       "17      1911             53                       Drama  "
      ]
     },
     "execution_count": 15,
     "metadata": {},
     "output_type": "execute_result"
    }
   ],
   "source": [
    "# Check results\n",
    "print(titles_metadata.shape)\n",
    "#titles_metadata.dtypes\n",
    "titles_metadata.head()\n"
   ]
  },
  {
   "cell_type": "code",
   "execution_count": 16,
   "metadata": {},
   "outputs": [],
   "source": [
    "# Convert startYear Column to int\n",
    "\n",
    "titles_metadata['startYear'] = pd.to_numeric(titles_metadata['startYear'])\n"
   ]
  },
  {
   "cell_type": "code",
   "execution_count": 17,
   "metadata": {},
   "outputs": [
    {
     "data": {
      "text/plain": [
       "tconst            object\n",
       "primaryTitle      object\n",
       "originalTitle     object\n",
       "startYear          int64\n",
       "runtimeMinutes    object\n",
       "genres            object\n",
       "dtype: object"
      ]
     },
     "execution_count": 17,
     "metadata": {},
     "output_type": "execute_result"
    }
   ],
   "source": [
    "# Check results\n",
    "titles_metadata.dtypes\n"
   ]
  },
  {
   "cell_type": "code",
   "execution_count": 18,
   "metadata": {},
   "outputs": [],
   "source": [
    "# Drop titles_metadata Rows with 'startYear' less than 1920\n",
    "\n",
    "titles_metadata = titles_metadata.loc[titles_metadata['startYear'] >= 1920]\n"
   ]
  },
  {
   "cell_type": "code",
   "execution_count": 19,
   "metadata": {},
   "outputs": [
    {
     "name": "stdout",
     "output_type": "stream",
     "text": [
      "(148483, 6)\n"
     ]
    },
    {
     "data": {
      "text/html": [
       "<div>\n",
       "<style scoped>\n",
       "    .dataframe tbody tr th:only-of-type {\n",
       "        vertical-align: middle;\n",
       "    }\n",
       "\n",
       "    .dataframe tbody tr th {\n",
       "        vertical-align: top;\n",
       "    }\n",
       "\n",
       "    .dataframe thead th {\n",
       "        text-align: right;\n",
       "    }\n",
       "</style>\n",
       "<table border=\"1\" class=\"dataframe\">\n",
       "  <thead>\n",
       "    <tr style=\"text-align: right;\">\n",
       "      <th></th>\n",
       "      <th>tconst</th>\n",
       "      <th>primaryTitle</th>\n",
       "      <th>originalTitle</th>\n",
       "      <th>startYear</th>\n",
       "      <th>runtimeMinutes</th>\n",
       "      <th>genres</th>\n",
       "    </tr>\n",
       "  </thead>\n",
       "  <tbody>\n",
       "    <tr>\n",
       "      <th>199</th>\n",
       "      <td>tt0003854</td>\n",
       "      <td>Dodge City Trail</td>\n",
       "      <td>Dodge City Trail</td>\n",
       "      <td>1936</td>\n",
       "      <td>56</td>\n",
       "      <td>Adventure,Music,Western</td>\n",
       "    </tr>\n",
       "    <tr>\n",
       "      <th>597</th>\n",
       "      <td>tt0005076</td>\n",
       "      <td>Charley's Aunt (1925)</td>\n",
       "      <td>Charley's Aunt (1925)</td>\n",
       "      <td>1925</td>\n",
       "      <td>80</td>\n",
       "      <td>Comedy</td>\n",
       "    </tr>\n",
       "    <tr>\n",
       "      <th>2517</th>\n",
       "      <td>tt0008422</td>\n",
       "      <td>Perils of the West</td>\n",
       "      <td>Perils of the West</td>\n",
       "      <td>1922</td>\n",
       "      <td>\\N</td>\n",
       "      <td>Western</td>\n",
       "    </tr>\n",
       "    <tr>\n",
       "      <th>2746</th>\n",
       "      <td>tt0008736</td>\n",
       "      <td>The Victim (1920)</td>\n",
       "      <td>The Victim (1920)</td>\n",
       "      <td>1920</td>\n",
       "      <td>\\N</td>\n",
       "      <td>Drama</td>\n",
       "    </tr>\n",
       "    <tr>\n",
       "      <th>3089</th>\n",
       "      <td>tt0009187</td>\n",
       "      <td>His Temporary Wife</td>\n",
       "      <td>His Temporary Wife</td>\n",
       "      <td>1920</td>\n",
       "      <td>\\N</td>\n",
       "      <td>Comedy</td>\n",
       "    </tr>\n",
       "  </tbody>\n",
       "</table>\n",
       "</div>"
      ],
      "text/plain": [
       "         tconst           primaryTitle          originalTitle  startYear  \\\n",
       "199   tt0003854       Dodge City Trail       Dodge City Trail       1936   \n",
       "597   tt0005076  Charley's Aunt (1925)  Charley's Aunt (1925)       1925   \n",
       "2517  tt0008422     Perils of the West     Perils of the West       1922   \n",
       "2746  tt0008736      The Victim (1920)      The Victim (1920)       1920   \n",
       "3089  tt0009187     His Temporary Wife     His Temporary Wife       1920   \n",
       "\n",
       "     runtimeMinutes                   genres  \n",
       "199              56  Adventure,Music,Western  \n",
       "597              80                   Comedy  \n",
       "2517             \\N                  Western  \n",
       "2746             \\N                    Drama  \n",
       "3089             \\N                   Comedy  "
      ]
     },
     "execution_count": 19,
     "metadata": {},
     "output_type": "execute_result"
    }
   ],
   "source": [
    "# Check results\n",
    "print(titles_metadata.shape)\n",
    "titles_metadata.head()\n"
   ]
  },
  {
   "cell_type": "code",
   "execution_count": 20,
   "metadata": {},
   "outputs": [
    {
     "name": "stdout",
     "output_type": "stream",
     "text": [
      "(1201036, 3)\n"
     ]
    },
    {
     "data": {
      "text/html": [
       "<div>\n",
       "<style scoped>\n",
       "    .dataframe tbody tr th:only-of-type {\n",
       "        vertical-align: middle;\n",
       "    }\n",
       "\n",
       "    .dataframe tbody tr th {\n",
       "        vertical-align: top;\n",
       "    }\n",
       "\n",
       "    .dataframe thead th {\n",
       "        text-align: right;\n",
       "    }\n",
       "</style>\n",
       "<table border=\"1\" class=\"dataframe\">\n",
       "  <thead>\n",
       "    <tr style=\"text-align: right;\">\n",
       "      <th></th>\n",
       "      <th>tconst</th>\n",
       "      <th>averageRating</th>\n",
       "      <th>numVotes</th>\n",
       "    </tr>\n",
       "  </thead>\n",
       "  <tbody>\n",
       "    <tr>\n",
       "      <th>0</th>\n",
       "      <td>tt0000001</td>\n",
       "      <td>5.7</td>\n",
       "      <td>1834</td>\n",
       "    </tr>\n",
       "    <tr>\n",
       "      <th>1</th>\n",
       "      <td>tt0000002</td>\n",
       "      <td>6.0</td>\n",
       "      <td>236</td>\n",
       "    </tr>\n",
       "    <tr>\n",
       "      <th>2</th>\n",
       "      <td>tt0000003</td>\n",
       "      <td>6.5</td>\n",
       "      <td>1594</td>\n",
       "    </tr>\n",
       "    <tr>\n",
       "      <th>3</th>\n",
       "      <td>tt0000004</td>\n",
       "      <td>6.0</td>\n",
       "      <td>153</td>\n",
       "    </tr>\n",
       "    <tr>\n",
       "      <th>4</th>\n",
       "      <td>tt0000005</td>\n",
       "      <td>6.2</td>\n",
       "      <td>2410</td>\n",
       "    </tr>\n",
       "  </tbody>\n",
       "</table>\n",
       "</div>"
      ],
      "text/plain": [
       "      tconst  averageRating  numVotes\n",
       "0  tt0000001            5.7      1834\n",
       "1  tt0000002            6.0       236\n",
       "2  tt0000003            6.5      1594\n",
       "3  tt0000004            6.0       153\n",
       "4  tt0000005            6.2      2410"
      ]
     },
     "execution_count": 20,
     "metadata": {},
     "output_type": "execute_result"
    }
   ],
   "source": [
    "# Check ratings_metadata DataFrame\n",
    "print(ratings_data.shape)\n",
    "ratings_data.count()\n",
    "ratings_data.head()\n"
   ]
  },
  {
   "cell_type": "code",
   "execution_count": 27,
   "metadata": {},
   "outputs": [
    {
     "name": "stdout",
     "output_type": "stream",
     "text": [
      "(101, 8)\n"
     ]
    },
    {
     "data": {
      "text/html": [
       "<div>\n",
       "<style scoped>\n",
       "    .dataframe tbody tr th:only-of-type {\n",
       "        vertical-align: middle;\n",
       "    }\n",
       "\n",
       "    .dataframe tbody tr th {\n",
       "        vertical-align: top;\n",
       "    }\n",
       "\n",
       "    .dataframe thead th {\n",
       "        text-align: right;\n",
       "    }\n",
       "</style>\n",
       "<table border=\"1\" class=\"dataframe\">\n",
       "  <thead>\n",
       "    <tr style=\"text-align: right;\">\n",
       "      <th></th>\n",
       "      <th>tconst</th>\n",
       "      <th>primaryTitle</th>\n",
       "      <th>originalTitle</th>\n",
       "      <th>startYear</th>\n",
       "      <th>runtimeMinutes</th>\n",
       "      <th>genres</th>\n",
       "      <th>averageRating</th>\n",
       "      <th>numVotes</th>\n",
       "    </tr>\n",
       "  </thead>\n",
       "  <tbody>\n",
       "    <tr>\n",
       "      <th>0</th>\n",
       "      <td>tt0033870</td>\n",
       "      <td>The Maltese Falcon (1941)</td>\n",
       "      <td>The Maltese Falcon (1941)</td>\n",
       "      <td>1941</td>\n",
       "      <td>100</td>\n",
       "      <td>Crime,Film-Noir,Mystery</td>\n",
       "      <td>8.0</td>\n",
       "      <td>154114</td>\n",
       "    </tr>\n",
       "    <tr>\n",
       "      <th>1</th>\n",
       "      <td>tt0082639</td>\n",
       "      <td>Ladies and Gentlemen, the Fabulous Stains</td>\n",
       "      <td>Ladies and Gentlemen, the Fabulous Stains</td>\n",
       "      <td>1982</td>\n",
       "      <td>87</td>\n",
       "      <td>Comedy,Drama,Music</td>\n",
       "      <td>6.8</td>\n",
       "      <td>2633</td>\n",
       "    </tr>\n",
       "    <tr>\n",
       "      <th>2</th>\n",
       "      <td>tt6341286</td>\n",
       "      <td>Stoneland (2016)</td>\n",
       "      <td>Stoneland (2016)</td>\n",
       "      <td>2016</td>\n",
       "      <td>46</td>\n",
       "      <td>Documentary</td>\n",
       "      <td>9.2</td>\n",
       "      <td>21</td>\n",
       "    </tr>\n",
       "    <tr>\n",
       "      <th>3</th>\n",
       "      <td>tt1263676</td>\n",
       "      <td>East L.A.</td>\n",
       "      <td>East L.A.</td>\n",
       "      <td>2008</td>\n",
       "      <td>\\N</td>\n",
       "      <td>Drama</td>\n",
       "      <td>8.8</td>\n",
       "      <td>24</td>\n",
       "    </tr>\n",
       "    <tr>\n",
       "      <th>4</th>\n",
       "      <td>tt0027243</td>\n",
       "      <td>Édes mostoha</td>\n",
       "      <td>Édes mostoha</td>\n",
       "      <td>1935</td>\n",
       "      <td>90</td>\n",
       "      <td>Drama</td>\n",
       "      <td>6.7</td>\n",
       "      <td>27</td>\n",
       "    </tr>\n",
       "  </tbody>\n",
       "</table>\n",
       "</div>"
      ],
      "text/plain": [
       "      tconst                               primaryTitle  \\\n",
       "0  tt0033870                  The Maltese Falcon (1941)   \n",
       "1  tt0082639  Ladies and Gentlemen, the Fabulous Stains   \n",
       "2  tt6341286                           Stoneland (2016)   \n",
       "3  tt1263676                                  East L.A.   \n",
       "4  tt0027243                               Édes mostoha   \n",
       "\n",
       "                               originalTitle  startYear runtimeMinutes  \\\n",
       "0                  The Maltese Falcon (1941)       1941            100   \n",
       "1  Ladies and Gentlemen, the Fabulous Stains       1982             87   \n",
       "2                           Stoneland (2016)       2016             46   \n",
       "3                                  East L.A.       2008             \\N   \n",
       "4                               Édes mostoha       1935             90   \n",
       "\n",
       "                    genres  averageRating  numVotes  \n",
       "0  Crime,Film-Noir,Mystery            8.0    154114  \n",
       "1       Comedy,Drama,Music            6.8      2633  \n",
       "2              Documentary            9.2        21  \n",
       "3                    Drama            8.8        24  \n",
       "4                    Drama            6.7        27  "
      ]
     },
     "execution_count": 27,
     "metadata": {},
     "output_type": "execute_result"
    }
   ],
   "source": [
    "# Merge titles_metadata and ratings_data on tconst\n",
    "\n",
    "movies_df = pd.merge(titles_metadata, ratings_data, on=\"tconst\")\n",
    "\n",
    "# Extract only viewerTitle + 100 Titles for Testing Purposes\n",
    "movies_df = pd.merge(movies_df.loc[movies_df['primaryTitle'] == viewerTitle], movies_df.sample(100), how='outer')\n",
    "movies_df.drop_duplicates()\n",
    "\n",
    "print(movies_df.shape)\n",
    "movies_df.head()\n"
   ]
  },
  {
   "cell_type": "code",
   "execution_count": 28,
   "metadata": {},
   "outputs": [
    {
     "name": "stdout",
     "output_type": "stream",
     "text": [
      "(101, 9)\n"
     ]
    },
    {
     "data": {
      "text/html": [
       "<div>\n",
       "<style scoped>\n",
       "    .dataframe tbody tr th:only-of-type {\n",
       "        vertical-align: middle;\n",
       "    }\n",
       "\n",
       "    .dataframe tbody tr th {\n",
       "        vertical-align: top;\n",
       "    }\n",
       "\n",
       "    .dataframe thead th {\n",
       "        text-align: right;\n",
       "    }\n",
       "</style>\n",
       "<table border=\"1\" class=\"dataframe\">\n",
       "  <thead>\n",
       "    <tr style=\"text-align: right;\">\n",
       "      <th></th>\n",
       "      <th>tconst</th>\n",
       "      <th>primaryTitle</th>\n",
       "      <th>originalTitle</th>\n",
       "      <th>startYear</th>\n",
       "      <th>runtimeMinutes</th>\n",
       "      <th>genres</th>\n",
       "      <th>averageRating</th>\n",
       "      <th>numVotes</th>\n",
       "      <th>url</th>\n",
       "    </tr>\n",
       "  </thead>\n",
       "  <tbody>\n",
       "    <tr>\n",
       "      <th>0</th>\n",
       "      <td>tt0033870</td>\n",
       "      <td>The Maltese Falcon (1941)</td>\n",
       "      <td>The Maltese Falcon (1941)</td>\n",
       "      <td>1941</td>\n",
       "      <td>100</td>\n",
       "      <td>Crime,Film-Noir,Mystery</td>\n",
       "      <td>8.0</td>\n",
       "      <td>154114</td>\n",
       "      <td>https://www.imdb.com/title/tt0033870/</td>\n",
       "    </tr>\n",
       "    <tr>\n",
       "      <th>1</th>\n",
       "      <td>tt0082639</td>\n",
       "      <td>Ladies and Gentlemen, the Fabulous Stains</td>\n",
       "      <td>Ladies and Gentlemen, the Fabulous Stains</td>\n",
       "      <td>1982</td>\n",
       "      <td>87</td>\n",
       "      <td>Comedy,Drama,Music</td>\n",
       "      <td>6.8</td>\n",
       "      <td>2633</td>\n",
       "      <td>https://www.imdb.com/title/tt0082639/</td>\n",
       "    </tr>\n",
       "    <tr>\n",
       "      <th>2</th>\n",
       "      <td>tt6341286</td>\n",
       "      <td>Stoneland (2016)</td>\n",
       "      <td>Stoneland (2016)</td>\n",
       "      <td>2016</td>\n",
       "      <td>46</td>\n",
       "      <td>Documentary</td>\n",
       "      <td>9.2</td>\n",
       "      <td>21</td>\n",
       "      <td>https://www.imdb.com/title/tt6341286/</td>\n",
       "    </tr>\n",
       "    <tr>\n",
       "      <th>3</th>\n",
       "      <td>tt1263676</td>\n",
       "      <td>East L.A.</td>\n",
       "      <td>East L.A.</td>\n",
       "      <td>2008</td>\n",
       "      <td>\\N</td>\n",
       "      <td>Drama</td>\n",
       "      <td>8.8</td>\n",
       "      <td>24</td>\n",
       "      <td>https://www.imdb.com/title/tt1263676/</td>\n",
       "    </tr>\n",
       "    <tr>\n",
       "      <th>4</th>\n",
       "      <td>tt0027243</td>\n",
       "      <td>Édes mostoha</td>\n",
       "      <td>Édes mostoha</td>\n",
       "      <td>1935</td>\n",
       "      <td>90</td>\n",
       "      <td>Drama</td>\n",
       "      <td>6.7</td>\n",
       "      <td>27</td>\n",
       "      <td>https://www.imdb.com/title/tt0027243/</td>\n",
       "    </tr>\n",
       "  </tbody>\n",
       "</table>\n",
       "</div>"
      ],
      "text/plain": [
       "      tconst                               primaryTitle  \\\n",
       "0  tt0033870                  The Maltese Falcon (1941)   \n",
       "1  tt0082639  Ladies and Gentlemen, the Fabulous Stains   \n",
       "2  tt6341286                           Stoneland (2016)   \n",
       "3  tt1263676                                  East L.A.   \n",
       "4  tt0027243                               Édes mostoha   \n",
       "\n",
       "                               originalTitle  startYear runtimeMinutes  \\\n",
       "0                  The Maltese Falcon (1941)       1941            100   \n",
       "1  Ladies and Gentlemen, the Fabulous Stains       1982             87   \n",
       "2                           Stoneland (2016)       2016             46   \n",
       "3                                  East L.A.       2008             \\N   \n",
       "4                               Édes mostoha       1935             90   \n",
       "\n",
       "                    genres  averageRating  numVotes  \\\n",
       "0  Crime,Film-Noir,Mystery            8.0    154114   \n",
       "1       Comedy,Drama,Music            6.8      2633   \n",
       "2              Documentary            9.2        21   \n",
       "3                    Drama            8.8        24   \n",
       "4                    Drama            6.7        27   \n",
       "\n",
       "                                     url  \n",
       "0  https://www.imdb.com/title/tt0033870/  \n",
       "1  https://www.imdb.com/title/tt0082639/  \n",
       "2  https://www.imdb.com/title/tt6341286/  \n",
       "3  https://www.imdb.com/title/tt1263676/  \n",
       "4  https://www.imdb.com/title/tt0027243/  "
      ]
     },
     "execution_count": 28,
     "metadata": {},
     "output_type": "execute_result"
    }
   ],
   "source": [
    "# Add url column to movies_df\n",
    "movies_df['url'] = movies_df.apply(lambda row: \"\".join([\"https://www.imdb.com/title/\", row['tconst'], \"/\"]), axis=1)\n",
    "\n",
    "print(movies_df.shape)\n",
    "movies_df.head()\n"
   ]
  },
  {
   "cell_type": "code",
   "execution_count": 29,
   "metadata": {},
   "outputs": [
    {
     "data": {
      "text/plain": [
       "tconst             object\n",
       "primaryTitle       object\n",
       "originalTitle      object\n",
       "startYear           int64\n",
       "runtimeMinutes     object\n",
       "genres             object\n",
       "averageRating     float64\n",
       "numVotes            int64\n",
       "url                object\n",
       "dtype: object"
      ]
     },
     "execution_count": 29,
     "metadata": {},
     "output_type": "execute_result"
    }
   ],
   "source": [
    "# Check DataFrame\n",
    "\n",
    "movies_df.dtypes\n"
   ]
  },
  {
   "cell_type": "code",
   "execution_count": 30,
   "metadata": {},
   "outputs": [
    {
     "name": "stdout",
     "output_type": "stream",
     "text": [
      "(101, 10)\n"
     ]
    },
    {
     "data": {
      "text/html": [
       "<div>\n",
       "<style scoped>\n",
       "    .dataframe tbody tr th:only-of-type {\n",
       "        vertical-align: middle;\n",
       "    }\n",
       "\n",
       "    .dataframe tbody tr th {\n",
       "        vertical-align: top;\n",
       "    }\n",
       "\n",
       "    .dataframe thead th {\n",
       "        text-align: right;\n",
       "    }\n",
       "</style>\n",
       "<table border=\"1\" class=\"dataframe\">\n",
       "  <thead>\n",
       "    <tr style=\"text-align: right;\">\n",
       "      <th></th>\n",
       "      <th>tconst</th>\n",
       "      <th>primaryTitle</th>\n",
       "      <th>originalTitle</th>\n",
       "      <th>startYear</th>\n",
       "      <th>runtimeMinutes</th>\n",
       "      <th>genres</th>\n",
       "      <th>averageRating</th>\n",
       "      <th>numVotes</th>\n",
       "      <th>url</th>\n",
       "      <th>genres_list</th>\n",
       "    </tr>\n",
       "  </thead>\n",
       "  <tbody>\n",
       "    <tr>\n",
       "      <th>0</th>\n",
       "      <td>tt0033870</td>\n",
       "      <td>The Maltese Falcon (1941)</td>\n",
       "      <td>The Maltese Falcon (1941)</td>\n",
       "      <td>1941</td>\n",
       "      <td>100</td>\n",
       "      <td>Crime,Film-Noir,Mystery</td>\n",
       "      <td>8.0</td>\n",
       "      <td>154114</td>\n",
       "      <td>https://www.imdb.com/title/tt0033870/</td>\n",
       "      <td>[Crime, Film-Noir, Mystery]</td>\n",
       "    </tr>\n",
       "    <tr>\n",
       "      <th>1</th>\n",
       "      <td>tt0082639</td>\n",
       "      <td>Ladies and Gentlemen, the Fabulous Stains</td>\n",
       "      <td>Ladies and Gentlemen, the Fabulous Stains</td>\n",
       "      <td>1982</td>\n",
       "      <td>87</td>\n",
       "      <td>Comedy,Drama,Music</td>\n",
       "      <td>6.8</td>\n",
       "      <td>2633</td>\n",
       "      <td>https://www.imdb.com/title/tt0082639/</td>\n",
       "      <td>[Comedy, Drama, Music]</td>\n",
       "    </tr>\n",
       "    <tr>\n",
       "      <th>2</th>\n",
       "      <td>tt6341286</td>\n",
       "      <td>Stoneland (2016)</td>\n",
       "      <td>Stoneland (2016)</td>\n",
       "      <td>2016</td>\n",
       "      <td>46</td>\n",
       "      <td>Documentary</td>\n",
       "      <td>9.2</td>\n",
       "      <td>21</td>\n",
       "      <td>https://www.imdb.com/title/tt6341286/</td>\n",
       "      <td>[Documentary]</td>\n",
       "    </tr>\n",
       "    <tr>\n",
       "      <th>3</th>\n",
       "      <td>tt1263676</td>\n",
       "      <td>East L.A.</td>\n",
       "      <td>East L.A.</td>\n",
       "      <td>2008</td>\n",
       "      <td>\\N</td>\n",
       "      <td>Drama</td>\n",
       "      <td>8.8</td>\n",
       "      <td>24</td>\n",
       "      <td>https://www.imdb.com/title/tt1263676/</td>\n",
       "      <td>[Drama]</td>\n",
       "    </tr>\n",
       "    <tr>\n",
       "      <th>4</th>\n",
       "      <td>tt0027243</td>\n",
       "      <td>Édes mostoha</td>\n",
       "      <td>Édes mostoha</td>\n",
       "      <td>1935</td>\n",
       "      <td>90</td>\n",
       "      <td>Drama</td>\n",
       "      <td>6.7</td>\n",
       "      <td>27</td>\n",
       "      <td>https://www.imdb.com/title/tt0027243/</td>\n",
       "      <td>[Drama]</td>\n",
       "    </tr>\n",
       "  </tbody>\n",
       "</table>\n",
       "</div>"
      ],
      "text/plain": [
       "      tconst                               primaryTitle  \\\n",
       "0  tt0033870                  The Maltese Falcon (1941)   \n",
       "1  tt0082639  Ladies and Gentlemen, the Fabulous Stains   \n",
       "2  tt6341286                           Stoneland (2016)   \n",
       "3  tt1263676                                  East L.A.   \n",
       "4  tt0027243                               Édes mostoha   \n",
       "\n",
       "                               originalTitle  startYear runtimeMinutes  \\\n",
       "0                  The Maltese Falcon (1941)       1941            100   \n",
       "1  Ladies and Gentlemen, the Fabulous Stains       1982             87   \n",
       "2                           Stoneland (2016)       2016             46   \n",
       "3                                  East L.A.       2008             \\N   \n",
       "4                               Édes mostoha       1935             90   \n",
       "\n",
       "                    genres  averageRating  numVotes  \\\n",
       "0  Crime,Film-Noir,Mystery            8.0    154114   \n",
       "1       Comedy,Drama,Music            6.8      2633   \n",
       "2              Documentary            9.2        21   \n",
       "3                    Drama            8.8        24   \n",
       "4                    Drama            6.7        27   \n",
       "\n",
       "                                     url                  genres_list  \n",
       "0  https://www.imdb.com/title/tt0033870/  [Crime, Film-Noir, Mystery]  \n",
       "1  https://www.imdb.com/title/tt0082639/       [Comedy, Drama, Music]  \n",
       "2  https://www.imdb.com/title/tt6341286/                [Documentary]  \n",
       "3  https://www.imdb.com/title/tt1263676/                      [Drama]  \n",
       "4  https://www.imdb.com/title/tt0027243/                      [Drama]  "
      ]
     },
     "execution_count": 30,
     "metadata": {},
     "output_type": "execute_result"
    }
   ],
   "source": [
    "# Convert 'genres' entries into lists\n",
    "\n",
    "movies_df['genres_list'] = movies_df.apply(lambda row: row['genres'].split(\",\"), axis=1)\n",
    "\n",
    "print(movies_df.shape)\n",
    "movies_df.head()\n"
   ]
  },
  {
   "cell_type": "code",
   "execution_count": 31,
   "metadata": {},
   "outputs": [
    {
     "name": "stdout",
     "output_type": "stream",
     "text": [
      "(101, 23)\n"
     ]
    },
    {
     "data": {
      "text/html": [
       "<div>\n",
       "<style scoped>\n",
       "    .dataframe tbody tr th:only-of-type {\n",
       "        vertical-align: middle;\n",
       "    }\n",
       "\n",
       "    .dataframe tbody tr th {\n",
       "        vertical-align: top;\n",
       "    }\n",
       "\n",
       "    .dataframe thead th {\n",
       "        text-align: right;\n",
       "    }\n",
       "</style>\n",
       "<table border=\"1\" class=\"dataframe\">\n",
       "  <thead>\n",
       "    <tr style=\"text-align: right;\">\n",
       "      <th></th>\n",
       "      <th>Action</th>\n",
       "      <th>Adventure</th>\n",
       "      <th>Animation</th>\n",
       "      <th>Biography</th>\n",
       "      <th>Comedy</th>\n",
       "      <th>Crime</th>\n",
       "      <th>Documentary</th>\n",
       "      <th>Drama</th>\n",
       "      <th>Family</th>\n",
       "      <th>Fantasy</th>\n",
       "      <th>Film-Noir</th>\n",
       "      <th>History</th>\n",
       "      <th>Horror</th>\n",
       "      <th>Music</th>\n",
       "      <th>Musical</th>\n",
       "      <th>Mystery</th>\n",
       "      <th>News</th>\n",
       "      <th>Romance</th>\n",
       "      <th>Sci-Fi</th>\n",
       "      <th>Sport</th>\n",
       "      <th>Thriller</th>\n",
       "      <th>War</th>\n",
       "      <th>Western</th>\n",
       "    </tr>\n",
       "  </thead>\n",
       "  <tbody>\n",
       "    <tr>\n",
       "      <th>0</th>\n",
       "      <td>0</td>\n",
       "      <td>0</td>\n",
       "      <td>0</td>\n",
       "      <td>0</td>\n",
       "      <td>0</td>\n",
       "      <td>1</td>\n",
       "      <td>0</td>\n",
       "      <td>0</td>\n",
       "      <td>0</td>\n",
       "      <td>0</td>\n",
       "      <td>1</td>\n",
       "      <td>0</td>\n",
       "      <td>0</td>\n",
       "      <td>0</td>\n",
       "      <td>0</td>\n",
       "      <td>1</td>\n",
       "      <td>0</td>\n",
       "      <td>0</td>\n",
       "      <td>0</td>\n",
       "      <td>0</td>\n",
       "      <td>0</td>\n",
       "      <td>0</td>\n",
       "      <td>0</td>\n",
       "    </tr>\n",
       "    <tr>\n",
       "      <th>1</th>\n",
       "      <td>0</td>\n",
       "      <td>0</td>\n",
       "      <td>0</td>\n",
       "      <td>0</td>\n",
       "      <td>1</td>\n",
       "      <td>0</td>\n",
       "      <td>0</td>\n",
       "      <td>1</td>\n",
       "      <td>0</td>\n",
       "      <td>0</td>\n",
       "      <td>0</td>\n",
       "      <td>0</td>\n",
       "      <td>0</td>\n",
       "      <td>1</td>\n",
       "      <td>0</td>\n",
       "      <td>0</td>\n",
       "      <td>0</td>\n",
       "      <td>0</td>\n",
       "      <td>0</td>\n",
       "      <td>0</td>\n",
       "      <td>0</td>\n",
       "      <td>0</td>\n",
       "      <td>0</td>\n",
       "    </tr>\n",
       "    <tr>\n",
       "      <th>2</th>\n",
       "      <td>0</td>\n",
       "      <td>0</td>\n",
       "      <td>0</td>\n",
       "      <td>0</td>\n",
       "      <td>0</td>\n",
       "      <td>0</td>\n",
       "      <td>1</td>\n",
       "      <td>0</td>\n",
       "      <td>0</td>\n",
       "      <td>0</td>\n",
       "      <td>0</td>\n",
       "      <td>0</td>\n",
       "      <td>0</td>\n",
       "      <td>0</td>\n",
       "      <td>0</td>\n",
       "      <td>0</td>\n",
       "      <td>0</td>\n",
       "      <td>0</td>\n",
       "      <td>0</td>\n",
       "      <td>0</td>\n",
       "      <td>0</td>\n",
       "      <td>0</td>\n",
       "      <td>0</td>\n",
       "    </tr>\n",
       "    <tr>\n",
       "      <th>3</th>\n",
       "      <td>0</td>\n",
       "      <td>0</td>\n",
       "      <td>0</td>\n",
       "      <td>0</td>\n",
       "      <td>0</td>\n",
       "      <td>0</td>\n",
       "      <td>0</td>\n",
       "      <td>1</td>\n",
       "      <td>0</td>\n",
       "      <td>0</td>\n",
       "      <td>0</td>\n",
       "      <td>0</td>\n",
       "      <td>0</td>\n",
       "      <td>0</td>\n",
       "      <td>0</td>\n",
       "      <td>0</td>\n",
       "      <td>0</td>\n",
       "      <td>0</td>\n",
       "      <td>0</td>\n",
       "      <td>0</td>\n",
       "      <td>0</td>\n",
       "      <td>0</td>\n",
       "      <td>0</td>\n",
       "    </tr>\n",
       "    <tr>\n",
       "      <th>4</th>\n",
       "      <td>0</td>\n",
       "      <td>0</td>\n",
       "      <td>0</td>\n",
       "      <td>0</td>\n",
       "      <td>0</td>\n",
       "      <td>0</td>\n",
       "      <td>0</td>\n",
       "      <td>1</td>\n",
       "      <td>0</td>\n",
       "      <td>0</td>\n",
       "      <td>0</td>\n",
       "      <td>0</td>\n",
       "      <td>0</td>\n",
       "      <td>0</td>\n",
       "      <td>0</td>\n",
       "      <td>0</td>\n",
       "      <td>0</td>\n",
       "      <td>0</td>\n",
       "      <td>0</td>\n",
       "      <td>0</td>\n",
       "      <td>0</td>\n",
       "      <td>0</td>\n",
       "      <td>0</td>\n",
       "    </tr>\n",
       "  </tbody>\n",
       "</table>\n",
       "</div>"
      ],
      "text/plain": [
       "   Action  Adventure  Animation  Biography  Comedy  Crime  Documentary  Drama  \\\n",
       "0       0          0          0          0       0      1            0      0   \n",
       "1       0          0          0          0       1      0            0      1   \n",
       "2       0          0          0          0       0      0            1      0   \n",
       "3       0          0          0          0       0      0            0      1   \n",
       "4       0          0          0          0       0      0            0      1   \n",
       "\n",
       "   Family  Fantasy  Film-Noir  History  Horror  Music  Musical  Mystery  News  \\\n",
       "0       0        0          1        0       0      0        0        1     0   \n",
       "1       0        0          0        0       0      1        0        0     0   \n",
       "2       0        0          0        0       0      0        0        0     0   \n",
       "3       0        0          0        0       0      0        0        0     0   \n",
       "4       0        0          0        0       0      0        0        0     0   \n",
       "\n",
       "   Romance  Sci-Fi  Sport  Thriller  War  Western  \n",
       "0        0       0      0         0    0        0  \n",
       "1        0       0      0         0    0        0  \n",
       "2        0       0      0         0    0        0  \n",
       "3        0       0      0         0    0        0  \n",
       "4        0       0      0         0    0        0  "
      ]
     },
     "execution_count": 31,
     "metadata": {},
     "output_type": "execute_result"
    }
   ],
   "source": [
    "# Transform (get_dummies via Multi Label Bin Encoding) movies_df by 'genres'\n",
    "\n",
    "genres = movies_df['genres_list']\n",
    "\n",
    "mlb = MultiLabelBinarizer()\n",
    "\n",
    "X = pd.DataFrame(mlb.fit_transform(genres), columns=mlb.classes_, index=movies_df.index)\n",
    "\n",
    "print(X.shape)\n",
    "X.head()\n"
   ]
  },
  {
   "cell_type": "code",
   "execution_count": 32,
   "metadata": {},
   "outputs": [
    {
     "name": "stdout",
     "output_type": "stream",
     "text": [
      "(101, 33)\n"
     ]
    },
    {
     "data": {
      "text/html": [
       "<div>\n",
       "<style scoped>\n",
       "    .dataframe tbody tr th:only-of-type {\n",
       "        vertical-align: middle;\n",
       "    }\n",
       "\n",
       "    .dataframe tbody tr th {\n",
       "        vertical-align: top;\n",
       "    }\n",
       "\n",
       "    .dataframe thead th {\n",
       "        text-align: right;\n",
       "    }\n",
       "</style>\n",
       "<table border=\"1\" class=\"dataframe\">\n",
       "  <thead>\n",
       "    <tr style=\"text-align: right;\">\n",
       "      <th></th>\n",
       "      <th>tconst</th>\n",
       "      <th>primaryTitle</th>\n",
       "      <th>originalTitle</th>\n",
       "      <th>startYear</th>\n",
       "      <th>runtimeMinutes</th>\n",
       "      <th>genres</th>\n",
       "      <th>averageRating</th>\n",
       "      <th>numVotes</th>\n",
       "      <th>url</th>\n",
       "      <th>genres_list</th>\n",
       "      <th>Action</th>\n",
       "      <th>Adventure</th>\n",
       "      <th>Animation</th>\n",
       "      <th>Biography</th>\n",
       "      <th>Comedy</th>\n",
       "      <th>Crime</th>\n",
       "      <th>Documentary</th>\n",
       "      <th>Drama</th>\n",
       "      <th>Family</th>\n",
       "      <th>Fantasy</th>\n",
       "      <th>Film-Noir</th>\n",
       "      <th>History</th>\n",
       "      <th>Horror</th>\n",
       "      <th>Music</th>\n",
       "      <th>Musical</th>\n",
       "      <th>Mystery</th>\n",
       "      <th>News</th>\n",
       "      <th>Romance</th>\n",
       "      <th>Sci-Fi</th>\n",
       "      <th>Sport</th>\n",
       "      <th>Thriller</th>\n",
       "      <th>War</th>\n",
       "      <th>Western</th>\n",
       "    </tr>\n",
       "  </thead>\n",
       "  <tbody>\n",
       "    <tr>\n",
       "      <th>0</th>\n",
       "      <td>tt0033870</td>\n",
       "      <td>The Maltese Falcon (1941)</td>\n",
       "      <td>The Maltese Falcon (1941)</td>\n",
       "      <td>1941</td>\n",
       "      <td>100</td>\n",
       "      <td>Crime,Film-Noir,Mystery</td>\n",
       "      <td>8.0</td>\n",
       "      <td>154114</td>\n",
       "      <td>https://www.imdb.com/title/tt0033870/</td>\n",
       "      <td>[Crime, Film-Noir, Mystery]</td>\n",
       "      <td>0</td>\n",
       "      <td>0</td>\n",
       "      <td>0</td>\n",
       "      <td>0</td>\n",
       "      <td>0</td>\n",
       "      <td>1</td>\n",
       "      <td>0</td>\n",
       "      <td>0</td>\n",
       "      <td>0</td>\n",
       "      <td>0</td>\n",
       "      <td>1</td>\n",
       "      <td>0</td>\n",
       "      <td>0</td>\n",
       "      <td>0</td>\n",
       "      <td>0</td>\n",
       "      <td>1</td>\n",
       "      <td>0</td>\n",
       "      <td>0</td>\n",
       "      <td>0</td>\n",
       "      <td>0</td>\n",
       "      <td>0</td>\n",
       "      <td>0</td>\n",
       "      <td>0</td>\n",
       "    </tr>\n",
       "    <tr>\n",
       "      <th>1</th>\n",
       "      <td>tt0082639</td>\n",
       "      <td>Ladies and Gentlemen, the Fabulous Stains</td>\n",
       "      <td>Ladies and Gentlemen, the Fabulous Stains</td>\n",
       "      <td>1982</td>\n",
       "      <td>87</td>\n",
       "      <td>Comedy,Drama,Music</td>\n",
       "      <td>6.8</td>\n",
       "      <td>2633</td>\n",
       "      <td>https://www.imdb.com/title/tt0082639/</td>\n",
       "      <td>[Comedy, Drama, Music]</td>\n",
       "      <td>0</td>\n",
       "      <td>0</td>\n",
       "      <td>0</td>\n",
       "      <td>0</td>\n",
       "      <td>1</td>\n",
       "      <td>0</td>\n",
       "      <td>0</td>\n",
       "      <td>1</td>\n",
       "      <td>0</td>\n",
       "      <td>0</td>\n",
       "      <td>0</td>\n",
       "      <td>0</td>\n",
       "      <td>0</td>\n",
       "      <td>1</td>\n",
       "      <td>0</td>\n",
       "      <td>0</td>\n",
       "      <td>0</td>\n",
       "      <td>0</td>\n",
       "      <td>0</td>\n",
       "      <td>0</td>\n",
       "      <td>0</td>\n",
       "      <td>0</td>\n",
       "      <td>0</td>\n",
       "    </tr>\n",
       "    <tr>\n",
       "      <th>2</th>\n",
       "      <td>tt6341286</td>\n",
       "      <td>Stoneland (2016)</td>\n",
       "      <td>Stoneland (2016)</td>\n",
       "      <td>2016</td>\n",
       "      <td>46</td>\n",
       "      <td>Documentary</td>\n",
       "      <td>9.2</td>\n",
       "      <td>21</td>\n",
       "      <td>https://www.imdb.com/title/tt6341286/</td>\n",
       "      <td>[Documentary]</td>\n",
       "      <td>0</td>\n",
       "      <td>0</td>\n",
       "      <td>0</td>\n",
       "      <td>0</td>\n",
       "      <td>0</td>\n",
       "      <td>0</td>\n",
       "      <td>1</td>\n",
       "      <td>0</td>\n",
       "      <td>0</td>\n",
       "      <td>0</td>\n",
       "      <td>0</td>\n",
       "      <td>0</td>\n",
       "      <td>0</td>\n",
       "      <td>0</td>\n",
       "      <td>0</td>\n",
       "      <td>0</td>\n",
       "      <td>0</td>\n",
       "      <td>0</td>\n",
       "      <td>0</td>\n",
       "      <td>0</td>\n",
       "      <td>0</td>\n",
       "      <td>0</td>\n",
       "      <td>0</td>\n",
       "    </tr>\n",
       "    <tr>\n",
       "      <th>3</th>\n",
       "      <td>tt1263676</td>\n",
       "      <td>East L.A.</td>\n",
       "      <td>East L.A.</td>\n",
       "      <td>2008</td>\n",
       "      <td>\\N</td>\n",
       "      <td>Drama</td>\n",
       "      <td>8.8</td>\n",
       "      <td>24</td>\n",
       "      <td>https://www.imdb.com/title/tt1263676/</td>\n",
       "      <td>[Drama]</td>\n",
       "      <td>0</td>\n",
       "      <td>0</td>\n",
       "      <td>0</td>\n",
       "      <td>0</td>\n",
       "      <td>0</td>\n",
       "      <td>0</td>\n",
       "      <td>0</td>\n",
       "      <td>1</td>\n",
       "      <td>0</td>\n",
       "      <td>0</td>\n",
       "      <td>0</td>\n",
       "      <td>0</td>\n",
       "      <td>0</td>\n",
       "      <td>0</td>\n",
       "      <td>0</td>\n",
       "      <td>0</td>\n",
       "      <td>0</td>\n",
       "      <td>0</td>\n",
       "      <td>0</td>\n",
       "      <td>0</td>\n",
       "      <td>0</td>\n",
       "      <td>0</td>\n",
       "      <td>0</td>\n",
       "    </tr>\n",
       "    <tr>\n",
       "      <th>4</th>\n",
       "      <td>tt0027243</td>\n",
       "      <td>Édes mostoha</td>\n",
       "      <td>Édes mostoha</td>\n",
       "      <td>1935</td>\n",
       "      <td>90</td>\n",
       "      <td>Drama</td>\n",
       "      <td>6.7</td>\n",
       "      <td>27</td>\n",
       "      <td>https://www.imdb.com/title/tt0027243/</td>\n",
       "      <td>[Drama]</td>\n",
       "      <td>0</td>\n",
       "      <td>0</td>\n",
       "      <td>0</td>\n",
       "      <td>0</td>\n",
       "      <td>0</td>\n",
       "      <td>0</td>\n",
       "      <td>0</td>\n",
       "      <td>1</td>\n",
       "      <td>0</td>\n",
       "      <td>0</td>\n",
       "      <td>0</td>\n",
       "      <td>0</td>\n",
       "      <td>0</td>\n",
       "      <td>0</td>\n",
       "      <td>0</td>\n",
       "      <td>0</td>\n",
       "      <td>0</td>\n",
       "      <td>0</td>\n",
       "      <td>0</td>\n",
       "      <td>0</td>\n",
       "      <td>0</td>\n",
       "      <td>0</td>\n",
       "      <td>0</td>\n",
       "    </tr>\n",
       "  </tbody>\n",
       "</table>\n",
       "</div>"
      ],
      "text/plain": [
       "      tconst                               primaryTitle  \\\n",
       "0  tt0033870                  The Maltese Falcon (1941)   \n",
       "1  tt0082639  Ladies and Gentlemen, the Fabulous Stains   \n",
       "2  tt6341286                           Stoneland (2016)   \n",
       "3  tt1263676                                  East L.A.   \n",
       "4  tt0027243                               Édes mostoha   \n",
       "\n",
       "                               originalTitle  startYear runtimeMinutes  \\\n",
       "0                  The Maltese Falcon (1941)       1941            100   \n",
       "1  Ladies and Gentlemen, the Fabulous Stains       1982             87   \n",
       "2                           Stoneland (2016)       2016             46   \n",
       "3                                  East L.A.       2008             \\N   \n",
       "4                               Édes mostoha       1935             90   \n",
       "\n",
       "                    genres  averageRating  numVotes  \\\n",
       "0  Crime,Film-Noir,Mystery            8.0    154114   \n",
       "1       Comedy,Drama,Music            6.8      2633   \n",
       "2              Documentary            9.2        21   \n",
       "3                    Drama            8.8        24   \n",
       "4                    Drama            6.7        27   \n",
       "\n",
       "                                     url                  genres_list  Action  \\\n",
       "0  https://www.imdb.com/title/tt0033870/  [Crime, Film-Noir, Mystery]       0   \n",
       "1  https://www.imdb.com/title/tt0082639/       [Comedy, Drama, Music]       0   \n",
       "2  https://www.imdb.com/title/tt6341286/                [Documentary]       0   \n",
       "3  https://www.imdb.com/title/tt1263676/                      [Drama]       0   \n",
       "4  https://www.imdb.com/title/tt0027243/                      [Drama]       0   \n",
       "\n",
       "   Adventure  Animation  Biography  Comedy  Crime  Documentary  Drama  Family  \\\n",
       "0          0          0          0       0      1            0      0       0   \n",
       "1          0          0          0       1      0            0      1       0   \n",
       "2          0          0          0       0      0            1      0       0   \n",
       "3          0          0          0       0      0            0      1       0   \n",
       "4          0          0          0       0      0            0      1       0   \n",
       "\n",
       "   Fantasy  Film-Noir  History  Horror  Music  Musical  Mystery  News  \\\n",
       "0        0          1        0       0      0        0        1     0   \n",
       "1        0          0        0       0      1        0        0     0   \n",
       "2        0          0        0       0      0        0        0     0   \n",
       "3        0          0        0       0      0        0        0     0   \n",
       "4        0          0        0       0      0        0        0     0   \n",
       "\n",
       "   Romance  Sci-Fi  Sport  Thriller  War  Western  \n",
       "0        0       0      0         0    0        0  \n",
       "1        0       0      0         0    0        0  \n",
       "2        0       0      0         0    0        0  \n",
       "3        0       0      0         0    0        0  \n",
       "4        0       0      0         0    0        0  "
      ]
     },
     "execution_count": 32,
     "metadata": {},
     "output_type": "execute_result"
    }
   ],
   "source": [
    "# Merge X back with movies_df\n",
    "\n",
    "movies_df = pd.merge(movies_df, X, how='inner', left_index=True, right_index=True)\n",
    "\n",
    "print(movies_df.shape)\n",
    "movies_df.head()\n"
   ]
  },
  {
   "cell_type": "code",
   "execution_count": 33,
   "metadata": {},
   "outputs": [
    {
     "data": {
      "text/html": [
       "<div>\n",
       "<style scoped>\n",
       "    .dataframe tbody tr th:only-of-type {\n",
       "        vertical-align: middle;\n",
       "    }\n",
       "\n",
       "    .dataframe tbody tr th {\n",
       "        vertical-align: top;\n",
       "    }\n",
       "\n",
       "    .dataframe thead th {\n",
       "        text-align: right;\n",
       "    }\n",
       "</style>\n",
       "<table border=\"1\" class=\"dataframe\">\n",
       "  <thead>\n",
       "    <tr style=\"text-align: right;\">\n",
       "      <th></th>\n",
       "      <th>tconst</th>\n",
       "      <th>primaryTitle</th>\n",
       "      <th>originalTitle</th>\n",
       "      <th>startYear</th>\n",
       "      <th>runtimeMinutes</th>\n",
       "      <th>genres</th>\n",
       "      <th>averageRating</th>\n",
       "      <th>numVotes</th>\n",
       "      <th>url</th>\n",
       "      <th>genres_list</th>\n",
       "      <th>Action</th>\n",
       "      <th>Adventure</th>\n",
       "      <th>Animation</th>\n",
       "      <th>Biography</th>\n",
       "      <th>Comedy</th>\n",
       "      <th>Crime</th>\n",
       "      <th>Documentary</th>\n",
       "      <th>Drama</th>\n",
       "      <th>Family</th>\n",
       "      <th>Fantasy</th>\n",
       "      <th>Film-Noir</th>\n",
       "      <th>History</th>\n",
       "      <th>Horror</th>\n",
       "      <th>Music</th>\n",
       "      <th>Musical</th>\n",
       "      <th>Mystery</th>\n",
       "      <th>News</th>\n",
       "      <th>Romance</th>\n",
       "      <th>Sci-Fi</th>\n",
       "      <th>Sport</th>\n",
       "      <th>Thriller</th>\n",
       "      <th>War</th>\n",
       "      <th>Western</th>\n",
       "    </tr>\n",
       "  </thead>\n",
       "  <tbody>\n",
       "    <tr>\n",
       "      <th>0</th>\n",
       "      <td>tt0033870</td>\n",
       "      <td>The Maltese Falcon (1941)</td>\n",
       "      <td>The Maltese Falcon (1941)</td>\n",
       "      <td>1941</td>\n",
       "      <td>100</td>\n",
       "      <td>Crime,Film-Noir,Mystery</td>\n",
       "      <td>8.0</td>\n",
       "      <td>154114</td>\n",
       "      <td>https://www.imdb.com/title/tt0033870/</td>\n",
       "      <td>[Crime, Film-Noir, Mystery]</td>\n",
       "      <td>0</td>\n",
       "      <td>0</td>\n",
       "      <td>0</td>\n",
       "      <td>0</td>\n",
       "      <td>0</td>\n",
       "      <td>1</td>\n",
       "      <td>0</td>\n",
       "      <td>0</td>\n",
       "      <td>0</td>\n",
       "      <td>0</td>\n",
       "      <td>1</td>\n",
       "      <td>0</td>\n",
       "      <td>0</td>\n",
       "      <td>0</td>\n",
       "      <td>0</td>\n",
       "      <td>1</td>\n",
       "      <td>0</td>\n",
       "      <td>0</td>\n",
       "      <td>0</td>\n",
       "      <td>0</td>\n",
       "      <td>0</td>\n",
       "      <td>0</td>\n",
       "      <td>0</td>\n",
       "    </tr>\n",
       "  </tbody>\n",
       "</table>\n",
       "</div>"
      ],
      "text/plain": [
       "      tconst               primaryTitle              originalTitle  startYear  \\\n",
       "0  tt0033870  The Maltese Falcon (1941)  The Maltese Falcon (1941)       1941   \n",
       "\n",
       "  runtimeMinutes                   genres  averageRating  numVotes  \\\n",
       "0            100  Crime,Film-Noir,Mystery            8.0    154114   \n",
       "\n",
       "                                     url                  genres_list  Action  \\\n",
       "0  https://www.imdb.com/title/tt0033870/  [Crime, Film-Noir, Mystery]       0   \n",
       "\n",
       "   Adventure  Animation  Biography  Comedy  Crime  Documentary  Drama  Family  \\\n",
       "0          0          0          0       0      1            0      0       0   \n",
       "\n",
       "   Fantasy  Film-Noir  History  Horror  Music  Musical  Mystery  News  \\\n",
       "0        0          1        0       0      0        0        1     0   \n",
       "\n",
       "   Romance  Sci-Fi  Sport  Thriller  War  Western  \n",
       "0        0       0      0         0    0        0  "
      ]
     },
     "execution_count": 33,
     "metadata": {},
     "output_type": "execute_result"
    }
   ],
   "source": [
    "# Find viewerTitle Data for Testing Purposes\n",
    "\n",
    "movies_df.loc[(movies_df['primaryTitle'] == viewerTitle)]\n"
   ]
  },
  {
   "cell_type": "code",
   "execution_count": 34,
   "metadata": {},
   "outputs": [
    {
     "name": "stdout",
     "output_type": "stream",
     "text": [
      "(101, 24)\n"
     ]
    },
    {
     "data": {
      "text/html": [
       "<div>\n",
       "<style scoped>\n",
       "    .dataframe tbody tr th:only-of-type {\n",
       "        vertical-align: middle;\n",
       "    }\n",
       "\n",
       "    .dataframe tbody tr th {\n",
       "        vertical-align: top;\n",
       "    }\n",
       "\n",
       "    .dataframe thead th {\n",
       "        text-align: right;\n",
       "    }\n",
       "</style>\n",
       "<table border=\"1\" class=\"dataframe\">\n",
       "  <thead>\n",
       "    <tr style=\"text-align: right;\">\n",
       "      <th></th>\n",
       "      <th>averageRating</th>\n",
       "      <th>Action</th>\n",
       "      <th>Adventure</th>\n",
       "      <th>Animation</th>\n",
       "      <th>Biography</th>\n",
       "      <th>Comedy</th>\n",
       "      <th>Crime</th>\n",
       "      <th>Documentary</th>\n",
       "      <th>Drama</th>\n",
       "      <th>Family</th>\n",
       "      <th>Fantasy</th>\n",
       "      <th>Film-Noir</th>\n",
       "      <th>History</th>\n",
       "      <th>Horror</th>\n",
       "      <th>Music</th>\n",
       "      <th>Musical</th>\n",
       "      <th>Mystery</th>\n",
       "      <th>News</th>\n",
       "      <th>Romance</th>\n",
       "      <th>Sci-Fi</th>\n",
       "      <th>Sport</th>\n",
       "      <th>Thriller</th>\n",
       "      <th>War</th>\n",
       "      <th>Western</th>\n",
       "    </tr>\n",
       "    <tr>\n",
       "      <th>primaryTitle</th>\n",
       "      <th></th>\n",
       "      <th></th>\n",
       "      <th></th>\n",
       "      <th></th>\n",
       "      <th></th>\n",
       "      <th></th>\n",
       "      <th></th>\n",
       "      <th></th>\n",
       "      <th></th>\n",
       "      <th></th>\n",
       "      <th></th>\n",
       "      <th></th>\n",
       "      <th></th>\n",
       "      <th></th>\n",
       "      <th></th>\n",
       "      <th></th>\n",
       "      <th></th>\n",
       "      <th></th>\n",
       "      <th></th>\n",
       "      <th></th>\n",
       "      <th></th>\n",
       "      <th></th>\n",
       "      <th></th>\n",
       "      <th></th>\n",
       "    </tr>\n",
       "  </thead>\n",
       "  <tbody>\n",
       "    <tr>\n",
       "      <th>The Maltese Falcon (1941)</th>\n",
       "      <td>8.0</td>\n",
       "      <td>0</td>\n",
       "      <td>0</td>\n",
       "      <td>0</td>\n",
       "      <td>0</td>\n",
       "      <td>0</td>\n",
       "      <td>1</td>\n",
       "      <td>0</td>\n",
       "      <td>0</td>\n",
       "      <td>0</td>\n",
       "      <td>0</td>\n",
       "      <td>1</td>\n",
       "      <td>0</td>\n",
       "      <td>0</td>\n",
       "      <td>0</td>\n",
       "      <td>0</td>\n",
       "      <td>1</td>\n",
       "      <td>0</td>\n",
       "      <td>0</td>\n",
       "      <td>0</td>\n",
       "      <td>0</td>\n",
       "      <td>0</td>\n",
       "      <td>0</td>\n",
       "      <td>0</td>\n",
       "    </tr>\n",
       "    <tr>\n",
       "      <th>Ladies and Gentlemen, the Fabulous Stains</th>\n",
       "      <td>6.8</td>\n",
       "      <td>0</td>\n",
       "      <td>0</td>\n",
       "      <td>0</td>\n",
       "      <td>0</td>\n",
       "      <td>1</td>\n",
       "      <td>0</td>\n",
       "      <td>0</td>\n",
       "      <td>1</td>\n",
       "      <td>0</td>\n",
       "      <td>0</td>\n",
       "      <td>0</td>\n",
       "      <td>0</td>\n",
       "      <td>0</td>\n",
       "      <td>1</td>\n",
       "      <td>0</td>\n",
       "      <td>0</td>\n",
       "      <td>0</td>\n",
       "      <td>0</td>\n",
       "      <td>0</td>\n",
       "      <td>0</td>\n",
       "      <td>0</td>\n",
       "      <td>0</td>\n",
       "      <td>0</td>\n",
       "    </tr>\n",
       "    <tr>\n",
       "      <th>Stoneland (2016)</th>\n",
       "      <td>9.2</td>\n",
       "      <td>0</td>\n",
       "      <td>0</td>\n",
       "      <td>0</td>\n",
       "      <td>0</td>\n",
       "      <td>0</td>\n",
       "      <td>0</td>\n",
       "      <td>1</td>\n",
       "      <td>0</td>\n",
       "      <td>0</td>\n",
       "      <td>0</td>\n",
       "      <td>0</td>\n",
       "      <td>0</td>\n",
       "      <td>0</td>\n",
       "      <td>0</td>\n",
       "      <td>0</td>\n",
       "      <td>0</td>\n",
       "      <td>0</td>\n",
       "      <td>0</td>\n",
       "      <td>0</td>\n",
       "      <td>0</td>\n",
       "      <td>0</td>\n",
       "      <td>0</td>\n",
       "      <td>0</td>\n",
       "    </tr>\n",
       "    <tr>\n",
       "      <th>East L.A.</th>\n",
       "      <td>8.8</td>\n",
       "      <td>0</td>\n",
       "      <td>0</td>\n",
       "      <td>0</td>\n",
       "      <td>0</td>\n",
       "      <td>0</td>\n",
       "      <td>0</td>\n",
       "      <td>0</td>\n",
       "      <td>1</td>\n",
       "      <td>0</td>\n",
       "      <td>0</td>\n",
       "      <td>0</td>\n",
       "      <td>0</td>\n",
       "      <td>0</td>\n",
       "      <td>0</td>\n",
       "      <td>0</td>\n",
       "      <td>0</td>\n",
       "      <td>0</td>\n",
       "      <td>0</td>\n",
       "      <td>0</td>\n",
       "      <td>0</td>\n",
       "      <td>0</td>\n",
       "      <td>0</td>\n",
       "      <td>0</td>\n",
       "    </tr>\n",
       "    <tr>\n",
       "      <th>Édes mostoha</th>\n",
       "      <td>6.7</td>\n",
       "      <td>0</td>\n",
       "      <td>0</td>\n",
       "      <td>0</td>\n",
       "      <td>0</td>\n",
       "      <td>0</td>\n",
       "      <td>0</td>\n",
       "      <td>0</td>\n",
       "      <td>1</td>\n",
       "      <td>0</td>\n",
       "      <td>0</td>\n",
       "      <td>0</td>\n",
       "      <td>0</td>\n",
       "      <td>0</td>\n",
       "      <td>0</td>\n",
       "      <td>0</td>\n",
       "      <td>0</td>\n",
       "      <td>0</td>\n",
       "      <td>0</td>\n",
       "      <td>0</td>\n",
       "      <td>0</td>\n",
       "      <td>0</td>\n",
       "      <td>0</td>\n",
       "      <td>0</td>\n",
       "    </tr>\n",
       "  </tbody>\n",
       "</table>\n",
       "</div>"
      ],
      "text/plain": [
       "                                           averageRating  Action  Adventure  \\\n",
       "primaryTitle                                                                  \n",
       "The Maltese Falcon (1941)                            8.0       0          0   \n",
       "Ladies and Gentlemen, the Fabulous Stains            6.8       0          0   \n",
       "Stoneland (2016)                                     9.2       0          0   \n",
       "East L.A.                                            8.8       0          0   \n",
       "Édes mostoha                                         6.7       0          0   \n",
       "\n",
       "                                           Animation  Biography  Comedy  \\\n",
       "primaryTitle                                                              \n",
       "The Maltese Falcon (1941)                          0          0       0   \n",
       "Ladies and Gentlemen, the Fabulous Stains          0          0       1   \n",
       "Stoneland (2016)                                   0          0       0   \n",
       "East L.A.                                          0          0       0   \n",
       "Édes mostoha                                       0          0       0   \n",
       "\n",
       "                                           Crime  Documentary  Drama  Family  \\\n",
       "primaryTitle                                                                   \n",
       "The Maltese Falcon (1941)                      1            0      0       0   \n",
       "Ladies and Gentlemen, the Fabulous Stains      0            0      1       0   \n",
       "Stoneland (2016)                               0            1      0       0   \n",
       "East L.A.                                      0            0      1       0   \n",
       "Édes mostoha                                   0            0      1       0   \n",
       "\n",
       "                                           Fantasy  Film-Noir  History  \\\n",
       "primaryTitle                                                             \n",
       "The Maltese Falcon (1941)                        0          1        0   \n",
       "Ladies and Gentlemen, the Fabulous Stains        0          0        0   \n",
       "Stoneland (2016)                                 0          0        0   \n",
       "East L.A.                                        0          0        0   \n",
       "Édes mostoha                                     0          0        0   \n",
       "\n",
       "                                           Horror  Music  Musical  Mystery  \\\n",
       "primaryTitle                                                                 \n",
       "The Maltese Falcon (1941)                       0      0        0        1   \n",
       "Ladies and Gentlemen, the Fabulous Stains       0      1        0        0   \n",
       "Stoneland (2016)                                0      0        0        0   \n",
       "East L.A.                                       0      0        0        0   \n",
       "Édes mostoha                                    0      0        0        0   \n",
       "\n",
       "                                           News  Romance  Sci-Fi  Sport  \\\n",
       "primaryTitle                                                              \n",
       "The Maltese Falcon (1941)                     0        0       0      0   \n",
       "Ladies and Gentlemen, the Fabulous Stains     0        0       0      0   \n",
       "Stoneland (2016)                              0        0       0      0   \n",
       "East L.A.                                     0        0       0      0   \n",
       "Édes mostoha                                  0        0       0      0   \n",
       "\n",
       "                                           Thriller  War  Western  \n",
       "primaryTitle                                                       \n",
       "The Maltese Falcon (1941)                         0    0        0  \n",
       "Ladies and Gentlemen, the Fabulous Stains         0    0        0  \n",
       "Stoneland (2016)                                  0    0        0  \n",
       "East L.A.                                         0    0        0  \n",
       "Édes mostoha                                      0    0        0  "
      ]
     },
     "execution_count": 34,
     "metadata": {},
     "output_type": "execute_result"
    }
   ],
   "source": [
    "# Integrate 'averageRating' into X DataFrame with 'primaryTitle' as new Index\n",
    "Z = pd.merge(movies_df[['primaryTitle', 'averageRating']], X, how='outer', left_index=True, right_index=True)\n",
    "\n",
    "Z.set_index('primaryTitle', inplace=True)\n",
    "\n",
    "print(Z.shape)\n",
    "Z.head()\n"
   ]
  },
  {
   "cell_type": "code",
   "execution_count": 35,
   "metadata": {},
   "outputs": [
    {
     "data": {
      "text/plain": [
       "array([[ 1.19380497, -0.38435306, -0.41763453, -0.25131234, -0.22821773,\n",
       "        -0.43386092,  2.86038777, -0.58878406, -0.87859537, -0.25131234,\n",
       "        -0.14213381,  7.03562364, -0.17496355, -0.25131234, -0.1       ,\n",
       "        -0.14213381,  3.97911213, -0.14213381, -0.27288841, -0.14213381,\n",
       "        -0.1       , -0.25131234, -0.1       , -0.25131234],\n",
       "       [ 0.34369238, -0.38435306, -0.41763453, -0.25131234, -0.22821773,\n",
       "         2.30488611, -0.34960295, -0.58878406,  1.13818037, -0.25131234,\n",
       "        -0.14213381, -0.14213381, -0.17496355, -0.25131234, 10.        ,\n",
       "        -0.14213381, -0.25131234, -0.14213381, -0.27288841, -0.14213381,\n",
       "        -0.1       , -0.25131234, -0.1       , -0.25131234],\n",
       "       [ 2.04391755, -0.38435306, -0.41763453, -0.25131234, -0.22821773,\n",
       "        -0.43386092, -0.34960295,  1.69841555, -0.87859537, -0.25131234,\n",
       "        -0.14213381, -0.14213381, -0.17496355, -0.25131234, -0.1       ,\n",
       "        -0.14213381, -0.25131234, -0.14213381, -0.27288841, -0.14213381,\n",
       "        -0.1       , -0.25131234, -0.1       , -0.25131234],\n",
       "       [ 1.76054669, -0.38435306, -0.41763453, -0.25131234, -0.22821773,\n",
       "        -0.43386092, -0.34960295, -0.58878406,  1.13818037, -0.25131234,\n",
       "        -0.14213381, -0.14213381, -0.17496355, -0.25131234, -0.1       ,\n",
       "        -0.14213381, -0.25131234, -0.14213381, -0.27288841, -0.14213381,\n",
       "        -0.1       , -0.25131234, -0.1       , -0.25131234],\n",
       "       [ 0.27284967, -0.38435306, -0.41763453, -0.25131234, -0.22821773,\n",
       "        -0.43386092, -0.34960295, -0.58878406,  1.13818037, -0.25131234,\n",
       "        -0.14213381, -0.14213381, -0.17496355, -0.25131234, -0.1       ,\n",
       "        -0.14213381, -0.25131234, -0.14213381, -0.27288841, -0.14213381,\n",
       "        -0.1       , -0.25131234, -0.1       , -0.25131234]])"
      ]
     },
     "execution_count": 35,
     "metadata": {},
     "output_type": "execute_result"
    }
   ],
   "source": [
    "# Standardize the data with StandardScaler()\n",
    "\n",
    "Z = StandardScaler().fit_transform(Z)\n",
    "Z[:5]\n"
   ]
  },
  {
   "cell_type": "markdown",
   "metadata": {},
   "source": [
    "## Part 2: Principal Component Analysis"
   ]
  },
  {
   "cell_type": "code",
   "execution_count": 36,
   "metadata": {},
   "outputs": [
    {
     "data": {
      "text/plain": [
       "array([[-1.34219383,  4.44949813, -3.64101036],\n",
       "       [ 0.14591413,  1.17065943,  0.01451623],\n",
       "       [-2.18273942, -0.61894748,  0.59170137],\n",
       "       [-0.79687167,  0.77166905,  0.04049067],\n",
       "       [-0.04670998,  0.66380661,  0.10179798],\n",
       "       [ 1.1171733 , -0.42235133,  0.23169391],\n",
       "       [-1.78979758, -0.67544685,  0.62381473],\n",
       "       [-0.8704235 , -2.90563679, -0.5066321 ],\n",
       "       [-0.06165221, -0.25285321,  0.13535384],\n",
       "       [ 1.44828279, -0.94443671, -0.6998772 ],\n",
       "       [ 0.27520431, -0.20869067,  1.28131123],\n",
       "       [-1.82551957, -0.67031054,  0.62089533],\n",
       "       [-0.67065014,  1.30377722, -1.44168398],\n",
       "       [ 1.4487145 , -0.8130656 , -1.19508793],\n",
       "       [-1.89696354, -0.66003793,  0.61505654],\n",
       "       [ 0.22565609,  0.61734965,  0.01845373],\n",
       "       [ 0.60988332, -0.08131673,  0.26049661],\n",
       "       [ 0.5886765 , -0.78994874, -1.03853639],\n",
       "       [ 0.8896638 ,  0.57868236,  1.85708518],\n",
       "       [ 1.88508063,  0.03643446,  1.55762259],\n",
       "       [ 4.77135157,  1.10576269,  5.85494421],\n",
       "       [ 0.36854403,  0.59680443,  0.03013132],\n",
       "       [ 1.1769202 , -2.95557028, -0.46591371],\n",
       "       [-1.50664075,  1.45226827,  0.33755157],\n",
       "       [-1.71835361, -0.68571946,  0.62965352],\n",
       "       [ 0.25984566, -0.29907997,  0.16162841],\n",
       "       [ 1.96047102, -1.62266652, -2.0610503 ],\n",
       "       [ 0.35531454, -2.83743523, -0.53305981],\n",
       "       [ 0.4027336 , -0.3196252 ,  0.17330599],\n",
       "       [-0.38161765,  0.70466687, -0.031176  ],\n",
       "       [-0.02939442,  3.34810493, -1.99353008],\n",
       "       [ 0.68850948, -0.36071565,  0.19666116],\n",
       "       [ 0.09617796,  0.64326139,  0.11347557],\n",
       "       [ 0.20793053,  0.90503377, -0.40785114],\n",
       "       [-1.43257773, -0.72680991,  0.65300868],\n",
       "       [ 0.73959012, -0.27546266,  1.31926338],\n",
       "       [ 0.75137689,  1.25121186, -1.99962362],\n",
       "       [ 0.41767583,  0.59703463,  0.13975013],\n",
       "       [ 1.65321718, -3.07190051, -1.88871194],\n",
       "       [ 1.06110327,  0.63595221, -0.30291147],\n",
       "       [-3.1522821 ,  0.18663026, -0.02646039],\n",
       "       [ 1.16022826, -0.87212964, -0.99182606],\n",
       "       [-0.07937777,  0.0348309 , -0.29095103],\n",
       "       [-1.82551957, -0.67031054,  0.62089533],\n",
       "       [-0.13873573, -2.13063469, -1.21327207],\n",
       "       [ 2.88862731, -3.13416043, -3.41071288],\n",
       "       [-0.04670998,  0.66380661,  0.10179798],\n",
       "       [-2.84678561, -1.04122561,  1.1009174 ],\n",
       "       [ 1.37657637, -1.62229846, -0.15179952],\n",
       "       [ 1.41409323, -0.02800708, -0.84305188],\n",
       "       [ 0.27478789,  0.61757985,  0.12807255],\n",
       "       [-0.22531991,  0.68948815,  0.087201  ],\n",
       "       [-3.96749295, -0.58667483,  1.78925042],\n",
       "       [ 0.38195384,  0.60217093,  0.13683073],\n",
       "       [-1.32541178, -0.74221883,  0.66176687],\n",
       "       [ 0.78501198, -1.10331438, -0.59763454],\n",
       "       [-0.08243196,  0.66894292,  0.09887859],\n",
       "       [ 0.73959012, -0.27546266,  1.31926338],\n",
       "       [-0.40392983,  0.71516968,  0.07260403],\n",
       "       [-0.50751244, -0.00679021,  0.39966104],\n",
       "       [-2.54633399, -2.44640571,  0.82767475],\n",
       "       [ 1.4201489 , -2.84635252, -2.12025913],\n",
       "       [ 0.16762193,  0.63298877,  0.11931436],\n",
       "       [-2.6248473 ,  2.13723525,  1.63637452],\n",
       "       [-0.5395281 , -0.85521758,  0.72599358],\n",
       "       [ 1.17838553, -1.02844265, -1.06073192],\n",
       "       [ 0.20334392,  0.62785247,  0.12223375],\n",
       "       [ 0.94970742,  0.03876491, -0.88100402],\n",
       "       [-0.61314598,  0.91991203,  0.25064757],\n",
       "       [ 3.07066903,  1.30803209,  1.39970232],\n",
       "       [ 3.66355361,  2.09125871,  4.61120425],\n",
       "       [ 0.83898551, -2.288313  , -1.20912379],\n",
       "       [ 0.09617796,  0.64326139,  0.11347557],\n",
       "       [-1.00391391, -0.78844559,  0.68804143],\n",
       "       [-2.52269634, -0.96046846,  1.33459777],\n",
       "       [ 0.07265917,  1.34880168, -2.05509214],\n",
       "       [-1.96840751, -0.64976532,  0.60921775],\n",
       "       [-1.21824582, -0.75762775,  0.67052506],\n",
       "       [ 0.41809225, -0.2292359 ,  1.29298882],\n",
       "       [ 0.22065947,  3.31215079, -1.97309431],\n",
       "       [ 2.30661391, -3.12529859, -0.47919246],\n",
       "       [ 0.61859793,  0.56085028,  0.05056709],\n",
       "       [-1.57546567, -0.70626469,  0.6413311 ],\n",
       "       [-0.79560995,  0.24643459,  0.4984758 ],\n",
       "       [ 0.20334392,  0.62785247,  0.12223375],\n",
       "       [-1.53974369, -0.71140099,  0.6442505 ],\n",
       "       [ 1.89272599,  2.84882831,  0.80434814],\n",
       "       [ 4.18195469,  1.57871721,  3.14333627],\n",
       "       [-1.0396359 , -0.78330929,  0.68512204],\n",
       "       [-1.36113376, -0.73708253,  0.65884747],\n",
       "       [ 1.0312677 , -1.62049365, -1.64174386],\n",
       "       [-0.2446088 ,  2.00762466, -1.51203234],\n",
       "       [-1.93268553, -0.65490162,  0.61213714],\n",
       "       [-1.43257773, -0.72680991,  0.65300868],\n",
       "       [ 0.20334392,  0.62785247,  0.12223375],\n",
       "       [ 1.99729371, -0.84788061, -1.70317546],\n",
       "       [-0.52950222,  3.42001323, -2.03440162],\n",
       "       [-2.62832987, -0.03376622,  1.1855843 ],\n",
       "       [ 1.2165224 ,  1.24901247, -1.69708192],\n",
       "       [-0.51281997,  2.19989182, -1.46356225],\n",
       "       [-0.73470184,  3.77080503, -2.73741107]])"
      ]
     },
     "execution_count": 36,
     "metadata": {},
     "output_type": "execute_result"
    }
   ],
   "source": [
    "# Use PCA to reduce dimensions to three principal components\n",
    "pca = PCA(n_components=3)\n",
    "\n",
    "movies_pca = pca.fit_transform(Z)\n",
    "movies_pca\n"
   ]
  },
  {
   "cell_type": "code",
   "execution_count": 37,
   "metadata": {},
   "outputs": [
    {
     "name": "stdout",
     "output_type": "stream",
     "text": [
      "(101, 3)\n"
     ]
    },
    {
     "data": {
      "text/html": [
       "<div>\n",
       "<style scoped>\n",
       "    .dataframe tbody tr th:only-of-type {\n",
       "        vertical-align: middle;\n",
       "    }\n",
       "\n",
       "    .dataframe tbody tr th {\n",
       "        vertical-align: top;\n",
       "    }\n",
       "\n",
       "    .dataframe thead th {\n",
       "        text-align: right;\n",
       "    }\n",
       "</style>\n",
       "<table border=\"1\" class=\"dataframe\">\n",
       "  <thead>\n",
       "    <tr style=\"text-align: right;\">\n",
       "      <th></th>\n",
       "      <th>PC 1</th>\n",
       "      <th>PC 2</th>\n",
       "      <th>PC 3</th>\n",
       "    </tr>\n",
       "  </thead>\n",
       "  <tbody>\n",
       "    <tr>\n",
       "      <th>0</th>\n",
       "      <td>-1.342194</td>\n",
       "      <td>4.449498</td>\n",
       "      <td>-3.641010</td>\n",
       "    </tr>\n",
       "    <tr>\n",
       "      <th>1</th>\n",
       "      <td>0.145914</td>\n",
       "      <td>1.170659</td>\n",
       "      <td>0.014516</td>\n",
       "    </tr>\n",
       "    <tr>\n",
       "      <th>2</th>\n",
       "      <td>-2.182739</td>\n",
       "      <td>-0.618947</td>\n",
       "      <td>0.591701</td>\n",
       "    </tr>\n",
       "    <tr>\n",
       "      <th>3</th>\n",
       "      <td>-0.796872</td>\n",
       "      <td>0.771669</td>\n",
       "      <td>0.040491</td>\n",
       "    </tr>\n",
       "    <tr>\n",
       "      <th>4</th>\n",
       "      <td>-0.046710</td>\n",
       "      <td>0.663807</td>\n",
       "      <td>0.101798</td>\n",
       "    </tr>\n",
       "  </tbody>\n",
       "</table>\n",
       "</div>"
      ],
      "text/plain": [
       "       PC 1      PC 2      PC 3\n",
       "0 -1.342194  4.449498 -3.641010\n",
       "1  0.145914  1.170659  0.014516\n",
       "2 -2.182739 -0.618947  0.591701\n",
       "3 -0.796872  0.771669  0.040491\n",
       "4 -0.046710  0.663807  0.101798"
      ]
     },
     "execution_count": 37,
     "metadata": {},
     "output_type": "execute_result"
    }
   ],
   "source": [
    "# Create a DataFrame with the three principal components\n",
    "col_names = [\"PC 1\", \"PC 2\", \"PC 3\"]\n",
    "#movies_pca_df = pd.DataFrame(movies_pca, columns=col_names, index=movies_df['primaryTitle'])\n",
    "movies_pca_df = pd.DataFrame(movies_pca, columns=col_names, index=movies_df.index)\n",
    "\n",
    "print(movies_pca_df.shape)\n",
    "movies_pca_df.head()\n"
   ]
  },
  {
   "cell_type": "markdown",
   "metadata": {},
   "source": [
    "## Part 3: Clustering Using Hierarchical Clustering"
   ]
  },
  {
   "cell_type": "code",
   "execution_count": 53,
   "metadata": {},
   "outputs": [
    {
     "data": {
      "application/vnd.plotly.v1+json": {
       "config": {
        "plotlyServerURL": "https://plot.ly"
       },
       "data": [
        {
         "hoverinfo": "text",
         "marker": {
          "color": "rgb(61,153,112)"
         },
         "mode": "lines",
         "type": "scatter",
         "x": [
          15,
          15,
          25,
          25
         ],
         "xaxis": "x",
         "y": [
          0,
          1.6389249183099437,
          1.6389249183099437,
          0
         ],
         "yaxis": "y"
        },
        {
         "hoverinfo": "text",
         "marker": {
          "color": "rgb(61,153,112)"
         },
         "mode": "lines",
         "type": "scatter",
         "x": [
          5,
          5,
          20,
          20
         ],
         "xaxis": "x",
         "y": [
          0,
          2.8149409000953307,
          2.8149409000953307,
          1.6389249183099437
         ],
         "yaxis": "y"
        },
        {
         "hoverinfo": "text",
         "marker": {
          "color": "rgb(255,65,54)"
         },
         "mode": "lines",
         "type": "scatter",
         "x": [
          45,
          45,
          55,
          55
         ],
         "xaxis": "x",
         "y": [
          0,
          1.2788022821602905,
          1.2788022821602905,
          0
         ],
         "yaxis": "y"
        },
        {
         "hoverinfo": "text",
         "marker": {
          "color": "rgb(255,65,54)"
         },
         "mode": "lines",
         "type": "scatter",
         "x": [
          65,
          65,
          75,
          75
         ],
         "xaxis": "x",
         "y": [
          0,
          0.8542385642067205,
          0.8542385642067205,
          0
         ],
         "yaxis": "y"
        },
        {
         "hoverinfo": "text",
         "marker": {
          "color": "rgb(255,65,54)"
         },
         "mode": "lines",
         "type": "scatter",
         "x": [
          95,
          95,
          105,
          105
         ],
         "xaxis": "x",
         "y": [
          0,
          0.832766682423047,
          0.832766682423047,
          0
         ],
         "yaxis": "y"
        },
        {
         "hoverinfo": "text",
         "marker": {
          "color": "rgb(255,65,54)"
         },
         "mode": "lines",
         "type": "scatter",
         "x": [
          115,
          115,
          125,
          125
         ],
         "xaxis": "x",
         "y": [
          0,
          0.3985057342618255,
          0.3985057342618255,
          0
         ],
         "yaxis": "y"
        },
        {
         "hoverinfo": "text",
         "marker": {
          "color": "rgb(255,65,54)"
         },
         "mode": "lines",
         "type": "scatter",
         "x": [
          135,
          135,
          145,
          145
         ],
         "xaxis": "x",
         "y": [
          0,
          0.8186056733036037,
          0.8186056733036037,
          0
         ],
         "yaxis": "y"
        },
        {
         "hoverinfo": "text",
         "marker": {
          "color": "rgb(255,65,54)"
         },
         "mode": "lines",
         "type": "scatter",
         "x": [
          120,
          120,
          140,
          140
         ],
         "xaxis": "x",
         "y": [
          0.3985057342618255,
          1.5982478748745257,
          1.5982478748745257,
          0.8186056733036037
         ],
         "yaxis": "y"
        },
        {
         "hoverinfo": "text",
         "marker": {
          "color": "rgb(255,65,54)"
         },
         "mode": "lines",
         "type": "scatter",
         "x": [
          100,
          100,
          130,
          130
         ],
         "xaxis": "x",
         "y": [
          0.832766682423047,
          1.9113224220538696,
          1.9113224220538696,
          1.5982478748745257
         ],
         "yaxis": "y"
        },
        {
         "hoverinfo": "text",
         "marker": {
          "color": "rgb(255,65,54)"
         },
         "mode": "lines",
         "type": "scatter",
         "x": [
          85,
          85,
          115,
          115
         ],
         "xaxis": "x",
         "y": [
          0,
          2.289644436613474,
          2.289644436613474,
          1.9113224220538696
         ],
         "yaxis": "y"
        },
        {
         "hoverinfo": "text",
         "marker": {
          "color": "rgb(255,65,54)"
         },
         "mode": "lines",
         "type": "scatter",
         "x": [
          70,
          70,
          100,
          100
         ],
         "xaxis": "x",
         "y": [
          0.8542385642067205,
          2.832594893042556,
          2.832594893042556,
          2.289644436613474
         ],
         "yaxis": "y"
        },
        {
         "hoverinfo": "text",
         "marker": {
          "color": "rgb(255,65,54)"
         },
         "mode": "lines",
         "type": "scatter",
         "x": [
          50,
          50,
          85,
          85
         ],
         "xaxis": "x",
         "y": [
          1.2788022821602905,
          3.7269127300437854,
          3.7269127300437854,
          2.832594893042556
         ],
         "yaxis": "y"
        },
        {
         "hoverinfo": "text",
         "marker": {
          "color": "rgb(255,65,54)"
         },
         "mode": "lines",
         "type": "scatter",
         "x": [
          35,
          35,
          67.5,
          67.5
         ],
         "xaxis": "x",
         "y": [
          0,
          4.755667267447969,
          4.755667267447969,
          3.7269127300437854
         ],
         "yaxis": "y"
        },
        {
         "hoverinfo": "text",
         "marker": {
          "color": "rgb(35,205,205)"
         },
         "mode": "lines",
         "type": "scatter",
         "x": [
          185,
          185,
          195,
          195
         ],
         "xaxis": "x",
         "y": [
          0,
          0.40762984272928904,
          0.40762984272928904,
          0
         ],
         "yaxis": "y"
        },
        {
         "hoverinfo": "text",
         "marker": {
          "color": "rgb(35,205,205)"
         },
         "mode": "lines",
         "type": "scatter",
         "x": [
          175,
          175,
          190,
          190
         ],
         "xaxis": "x",
         "y": [
          0,
          1.034343184204642,
          1.034343184204642,
          0.40762984272928904
         ],
         "yaxis": "y"
        },
        {
         "hoverinfo": "text",
         "marker": {
          "color": "rgb(35,205,205)"
         },
         "mode": "lines",
         "type": "scatter",
         "x": [
          165,
          165,
          182.5,
          182.5
         ],
         "xaxis": "x",
         "y": [
          0,
          1.5695472209014865,
          1.5695472209014865,
          1.034343184204642
         ],
         "yaxis": "y"
        },
        {
         "hoverinfo": "text",
         "marker": {
          "color": "rgb(35,205,205)"
         },
         "mode": "lines",
         "type": "scatter",
         "x": [
          155,
          155,
          173.75,
          173.75
         ],
         "xaxis": "x",
         "y": [
          0,
          2.1352693580803996,
          2.1352693580803996,
          1.5695472209014865
         ],
         "yaxis": "y"
        },
        {
         "hoverinfo": "text",
         "marker": {
          "color": "rgb(35,205,205)"
         },
         "mode": "lines",
         "type": "scatter",
         "x": [
          225,
          225,
          235,
          235
         ],
         "xaxis": "x",
         "y": [
          0,
          0.036207247061871214,
          0.036207247061871214,
          0
         ],
         "yaxis": "y"
        },
        {
         "hoverinfo": "text",
         "marker": {
          "color": "rgb(35,205,205)"
         },
         "mode": "lines",
         "type": "scatter",
         "x": [
          215,
          215,
          230,
          230
         ],
         "xaxis": "x",
         "y": [
          0,
          0.5069014588662032,
          0.5069014588662032,
          0.036207247061871214
         ],
         "yaxis": "y"
        },
        {
         "hoverinfo": "text",
         "marker": {
          "color": "rgb(35,205,205)"
         },
         "mode": "lines",
         "type": "scatter",
         "x": [
          245,
          245,
          255,
          255
         ],
         "xaxis": "x",
         "y": [
          0,
          0.03620724706187189,
          0.03620724706187189,
          0
         ],
         "yaxis": "y"
        },
        {
         "hoverinfo": "text",
         "marker": {
          "color": "rgb(35,205,205)"
         },
         "mode": "lines",
         "type": "scatter",
         "x": [
          275,
          275,
          285,
          285
         ],
         "xaxis": "x",
         "y": [
          0,
          0,
          0,
          0
         ],
         "yaxis": "y"
        },
        {
         "hoverinfo": "text",
         "marker": {
          "color": "rgb(35,205,205)"
         },
         "mode": "lines",
         "type": "scatter",
         "x": [
          295,
          295,
          305,
          305
         ],
         "xaxis": "x",
         "y": [
          0,
          0.03620724706187085,
          0.03620724706187085,
          0
         ],
         "yaxis": "y"
        },
        {
         "hoverinfo": "text",
         "marker": {
          "color": "rgb(35,205,205)"
         },
         "mode": "lines",
         "type": "scatter",
         "x": [
          280,
          280,
          300,
          300
         ],
         "xaxis": "x",
         "y": [
          0,
          0.10862174118561418,
          0.10862174118561418,
          0.03620724706187085
         ],
         "yaxis": "y"
        },
        {
         "hoverinfo": "text",
         "marker": {
          "color": "rgb(35,205,205)"
         },
         "mode": "lines",
         "type": "scatter",
         "x": [
          265,
          265,
          290,
          290
         ],
         "xaxis": "x",
         "y": [
          0,
          0.21724348237122912,
          0.21724348237122912,
          0.10862174118561418
         ],
         "yaxis": "y"
        },
        {
         "hoverinfo": "text",
         "marker": {
          "color": "rgb(35,205,205)"
         },
         "mode": "lines",
         "type": "scatter",
         "x": [
          250,
          250,
          277.5,
          277.5
         ],
         "xaxis": "x",
         "y": [
          0.03620724706187189,
          0.36207247061871617,
          0.36207247061871617,
          0.21724348237122912
         ],
         "yaxis": "y"
        },
        {
         "hoverinfo": "text",
         "marker": {
          "color": "rgb(35,205,205)"
         },
         "mode": "lines",
         "type": "scatter",
         "x": [
          335,
          335,
          345,
          345
         ],
         "xaxis": "x",
         "y": [
          0,
          0.0362072470618715,
          0.0362072470618715,
          0
         ],
         "yaxis": "y"
        },
        {
         "hoverinfo": "text",
         "marker": {
          "color": "rgb(35,205,205)"
         },
         "mode": "lines",
         "type": "scatter",
         "x": [
          325,
          325,
          340,
          340
         ],
         "xaxis": "x",
         "y": [
          0,
          0.07241449412374361,
          0.07241449412374361,
          0.0362072470618715
         ],
         "yaxis": "y"
        },
        {
         "hoverinfo": "text",
         "marker": {
          "color": "rgb(35,205,205)"
         },
         "mode": "lines",
         "type": "scatter",
         "x": [
          375,
          375,
          385,
          385
         ],
         "xaxis": "x",
         "y": [
          0,
          6.843874359417885e-16,
          6.843874359417885e-16,
          0
         ],
         "yaxis": "y"
        },
        {
         "hoverinfo": "text",
         "marker": {
          "color": "rgb(35,205,205)"
         },
         "mode": "lines",
         "type": "scatter",
         "x": [
          365,
          365,
          380,
          380
         ],
         "xaxis": "x",
         "y": [
          0,
          0.03620724706187097,
          0.03620724706187097,
          6.843874359417885e-16
         ],
         "yaxis": "y"
        },
        {
         "hoverinfo": "text",
         "marker": {
          "color": "rgb(35,205,205)"
         },
         "mode": "lines",
         "type": "scatter",
         "x": [
          355,
          355,
          372.5,
          372.5
         ],
         "xaxis": "x",
         "y": [
          0,
          0.10862174118561606,
          0.10862174118561606,
          0.03620724706187097
         ],
         "yaxis": "y"
        },
        {
         "hoverinfo": "text",
         "marker": {
          "color": "rgb(35,205,205)"
         },
         "mode": "lines",
         "type": "scatter",
         "x": [
          332.5,
          332.5,
          363.75,
          363.75
         ],
         "xaxis": "x",
         "y": [
          0.07241449412374361,
          0.2534507294331023,
          0.2534507294331023,
          0.10862174118561606
         ],
         "yaxis": "y"
        },
        {
         "hoverinfo": "text",
         "marker": {
          "color": "rgb(35,205,205)"
         },
         "mode": "lines",
         "type": "scatter",
         "x": [
          315,
          315,
          348.125,
          348.125
         ],
         "xaxis": "x",
         "y": [
          0,
          0.47069421180433246,
          0.47069421180433246,
          0.2534507294331023
         ],
         "yaxis": "y"
        },
        {
         "hoverinfo": "text",
         "marker": {
          "color": "rgb(35,205,205)"
         },
         "mode": "lines",
         "type": "scatter",
         "x": [
          263.75,
          263.75,
          331.5625,
          331.5625
         ],
         "xaxis": "x",
         "y": [
          0.36207247061871617,
          0.977595670670534,
          0.977595670670534,
          0.47069421180433246
         ],
         "yaxis": "y"
        },
        {
         "hoverinfo": "text",
         "marker": {
          "color": "rgb(35,205,205)"
         },
         "mode": "lines",
         "type": "scatter",
         "x": [
          222.5,
          222.5,
          297.65625,
          297.65625
         ],
         "xaxis": "x",
         "y": [
          0.5069014588662032,
          1.6655333648460953,
          1.6655333648460953,
          0.977595670670534
         ],
         "yaxis": "y"
        },
        {
         "hoverinfo": "text",
         "marker": {
          "color": "rgb(35,205,205)"
         },
         "mode": "lines",
         "type": "scatter",
         "x": [
          205,
          205,
          260.078125,
          260.078125
         ],
         "xaxis": "x",
         "y": [
          0,
          2.5631013651196604,
          2.5631013651196604,
          1.6655333648460953
         ],
         "yaxis": "y"
        },
        {
         "hoverinfo": "text",
         "marker": {
          "color": "rgb(35,205,205)"
         },
         "mode": "lines",
         "type": "scatter",
         "x": [
          164.375,
          164.375,
          232.5390625,
          232.5390625
         ],
         "xaxis": "x",
         "y": [
          2.1352693580803996,
          3.59910729507189,
          3.59910729507189,
          2.5631013651196604
         ],
         "yaxis": "y"
        },
        {
         "hoverinfo": "text",
         "marker": {
          "color": "rgb(133,20,75)"
         },
         "mode": "lines",
         "type": "scatter",
         "x": [
          395,
          395,
          405,
          405
         ],
         "xaxis": "x",
         "y": [
          0,
          0.5548843722097242,
          0.5548843722097242,
          0
         ],
         "yaxis": "y"
        },
        {
         "hoverinfo": "text",
         "marker": {
          "color": "rgb(133,20,75)"
         },
         "mode": "lines",
         "type": "scatter",
         "x": [
          435,
          435,
          445,
          445
         ],
         "xaxis": "x",
         "y": [
          0,
          0.33354645682631656,
          0.33354645682631656,
          0
         ],
         "yaxis": "y"
        },
        {
         "hoverinfo": "text",
         "marker": {
          "color": "rgb(133,20,75)"
         },
         "mode": "lines",
         "type": "scatter",
         "x": [
          425,
          425,
          440,
          440
         ],
         "xaxis": "x",
         "y": [
          0,
          0.9101705334666591,
          0.9101705334666591,
          0.33354645682631656
         ],
         "yaxis": "y"
        },
        {
         "hoverinfo": "text",
         "marker": {
          "color": "rgb(133,20,75)"
         },
         "mode": "lines",
         "type": "scatter",
         "x": [
          415,
          415,
          432.5,
          432.5
         ],
         "xaxis": "x",
         "y": [
          0,
          1.1903981928393363,
          1.1903981928393363,
          0.9101705334666591
         ],
         "yaxis": "y"
        },
        {
         "hoverinfo": "text",
         "marker": {
          "color": "rgb(133,20,75)"
         },
         "mode": "lines",
         "type": "scatter",
         "x": [
          400,
          400,
          423.75,
          423.75
         ],
         "xaxis": "x",
         "y": [
          0.5548843722097242,
          1.9872916216251855,
          1.9872916216251855,
          1.1903981928393363
         ],
         "yaxis": "y"
        },
        {
         "hoverinfo": "text",
         "marker": {
          "color": "rgb(133,20,75)"
         },
         "mode": "lines",
         "type": "scatter",
         "x": [
          465,
          465,
          475,
          475
         ],
         "xaxis": "x",
         "y": [
          0,
          0.25345072943310154,
          0.25345072943310154,
          0
         ],
         "yaxis": "y"
        },
        {
         "hoverinfo": "text",
         "marker": {
          "color": "rgb(133,20,75)"
         },
         "mode": "lines",
         "type": "scatter",
         "x": [
          455,
          455,
          470,
          470
         ],
         "xaxis": "x",
         "y": [
          0,
          0.760352188299304,
          0.760352188299304,
          0.25345072943310154
         ],
         "yaxis": "y"
        },
        {
         "hoverinfo": "text",
         "marker": {
          "color": "rgb(133,20,75)"
         },
         "mode": "lines",
         "type": "scatter",
         "x": [
          485,
          485,
          495,
          495
         ],
         "xaxis": "x",
         "y": [
          0,
          1.2830286558799968,
          1.2830286558799968,
          0
         ],
         "yaxis": "y"
        },
        {
         "hoverinfo": "text",
         "marker": {
          "color": "rgb(133,20,75)"
         },
         "mode": "lines",
         "type": "scatter",
         "x": [
          462.5,
          462.5,
          490,
          490
         ],
         "xaxis": "x",
         "y": [
          0.760352188299304,
          2.553040023653904,
          2.553040023653904,
          1.2830286558799968
         ],
         "yaxis": "y"
        },
        {
         "hoverinfo": "text",
         "marker": {
          "color": "rgb(133,20,75)"
         },
         "mode": "lines",
         "type": "scatter",
         "x": [
          411.875,
          411.875,
          476.25,
          476.25
         ],
         "xaxis": "x",
         "y": [
          1.9872916216251855,
          4.535305391143324,
          4.535305391143324,
          2.553040023653904
         ],
         "yaxis": "y"
        },
        {
         "hoverinfo": "text",
         "marker": {
          "color": "rgb(255,220,0)"
         },
         "mode": "lines",
         "type": "scatter",
         "x": [
          505,
          505,
          515,
          515
         ],
         "xaxis": "x",
         "y": [
          0,
          1.8456724254545338,
          1.8456724254545338,
          0
         ],
         "yaxis": "y"
        },
        {
         "hoverinfo": "text",
         "marker": {
          "color": "rgb(255,220,0)"
         },
         "mode": "lines",
         "type": "scatter",
         "x": [
          525,
          525,
          535,
          535
         ],
         "xaxis": "x",
         "y": [
          0,
          2.0288049249363125,
          2.0288049249363125,
          0
         ],
         "yaxis": "y"
        },
        {
         "hoverinfo": "text",
         "marker": {
          "color": "rgb(255,220,0)"
         },
         "mode": "lines",
         "type": "scatter",
         "x": [
          575,
          575,
          585,
          585
         ],
         "xaxis": "x",
         "y": [
          0,
          0.17178900160387053,
          0.17178900160387053,
          0
         ],
         "yaxis": "y"
        },
        {
         "hoverinfo": "text",
         "marker": {
          "color": "rgb(255,220,0)"
         },
         "mode": "lines",
         "type": "scatter",
         "x": [
          565,
          565,
          580,
          580
         ],
         "xaxis": "x",
         "y": [
          0,
          0.37083226154054294,
          0.37083226154054294,
          0.17178900160387053
         ],
         "yaxis": "y"
        },
        {
         "hoverinfo": "text",
         "marker": {
          "color": "rgb(255,220,0)"
         },
         "mode": "lines",
         "type": "scatter",
         "x": [
          555,
          555,
          572.5,
          572.5
         ],
         "xaxis": "x",
         "y": [
          0,
          0.5123399434951685,
          0.5123399434951685,
          0.37083226154054294
         ],
         "yaxis": "y"
        },
        {
         "hoverinfo": "text",
         "marker": {
          "color": "rgb(255,220,0)"
         },
         "mode": "lines",
         "type": "scatter",
         "x": [
          595,
          595,
          605,
          605
         ],
         "xaxis": "x",
         "y": [
          0,
          0.5754477314754943,
          0.5754477314754943,
          0
         ],
         "yaxis": "y"
        },
        {
         "hoverinfo": "text",
         "marker": {
          "color": "rgb(255,220,0)"
         },
         "mode": "lines",
         "type": "scatter",
         "x": [
          563.75,
          563.75,
          600,
          600
         ],
         "xaxis": "x",
         "y": [
          0.5123399434951685,
          0.9389866574045523,
          0.9389866574045523,
          0.5754477314754943
         ],
         "yaxis": "y"
        },
        {
         "hoverinfo": "text",
         "marker": {
          "color": "rgb(255,220,0)"
         },
         "mode": "lines",
         "type": "scatter",
         "x": [
          545,
          545,
          581.875,
          581.875
         ],
         "xaxis": "x",
         "y": [
          0,
          1.4491012928398512,
          1.4491012928398512,
          0.9389866574045523
         ],
         "yaxis": "y"
        },
        {
         "hoverinfo": "text",
         "marker": {
          "color": "rgb(255,220,0)"
         },
         "mode": "lines",
         "type": "scatter",
         "x": [
          625,
          625,
          635,
          635
         ],
         "xaxis": "x",
         "y": [
          0,
          0.14482898824748686,
          0.14482898824748686,
          0
         ],
         "yaxis": "y"
        },
        {
         "hoverinfo": "text",
         "marker": {
          "color": "rgb(255,220,0)"
         },
         "mode": "lines",
         "type": "scatter",
         "x": [
          645,
          645,
          655,
          655
         ],
         "xaxis": "x",
         "y": [
          0,
          0.2971881457052195,
          0.2971881457052195,
          0
         ],
         "yaxis": "y"
        },
        {
         "hoverinfo": "text",
         "marker": {
          "color": "rgb(255,220,0)"
         },
         "mode": "lines",
         "type": "scatter",
         "x": [
          630,
          630,
          650,
          650
         ],
         "xaxis": "x",
         "y": [
          0.14482898824748686,
          0.4344869647424601,
          0.4344869647424601,
          0.2971881457052195
         ],
         "yaxis": "y"
        },
        {
         "hoverinfo": "text",
         "marker": {
          "color": "rgb(255,220,0)"
         },
         "mode": "lines",
         "type": "scatter",
         "x": [
          615,
          615,
          640,
          640
         ],
         "xaxis": "x",
         "y": [
          0,
          0.868973929484919,
          0.868973929484919,
          0.4344869647424601
         ],
         "yaxis": "y"
        },
        {
         "hoverinfo": "text",
         "marker": {
          "color": "rgb(255,220,0)"
         },
         "mode": "lines",
         "type": "scatter",
         "x": [
          675,
          675,
          685,
          685
         ],
         "xaxis": "x",
         "y": [
          0,
          0.47069421180433046,
          0.47069421180433046,
          0
         ],
         "yaxis": "y"
        },
        {
         "hoverinfo": "text",
         "marker": {
          "color": "rgb(255,220,0)"
         },
         "mode": "lines",
         "type": "scatter",
         "x": [
          665,
          665,
          680,
          680
         ],
         "xaxis": "x",
         "y": [
          0,
          0.9258485331942253,
          0.9258485331942253,
          0.47069421180433046
         ],
         "yaxis": "y"
        },
        {
         "hoverinfo": "text",
         "marker": {
          "color": "rgb(255,220,0)"
         },
         "mode": "lines",
         "type": "scatter",
         "x": [
          627.5,
          627.5,
          672.5,
          672.5
         ],
         "xaxis": "x",
         "y": [
          0.868973929484919,
          1.5540754313620595,
          1.5540754313620595,
          0.9258485331942253
         ],
         "yaxis": "y"
        },
        {
         "hoverinfo": "text",
         "marker": {
          "color": "rgb(255,220,0)"
         },
         "mode": "lines",
         "type": "scatter",
         "x": [
          563.4375,
          563.4375,
          650,
          650
         ],
         "xaxis": "x",
         "y": [
          1.4491012928398512,
          2.285181441862426,
          2.285181441862426,
          1.5540754313620595
         ],
         "yaxis": "y"
        },
        {
         "hoverinfo": "text",
         "marker": {
          "color": "rgb(255,220,0)"
         },
         "mode": "lines",
         "type": "scatter",
         "x": [
          695,
          695,
          705,
          705
         ],
         "xaxis": "x",
         "y": [
          0,
          0.5027894424668045,
          0.5027894424668045,
          0
         ],
         "yaxis": "y"
        },
        {
         "hoverinfo": "text",
         "marker": {
          "color": "rgb(255,220,0)"
         },
         "mode": "lines",
         "type": "scatter",
         "x": [
          715,
          715,
          725,
          725
         ],
         "xaxis": "x",
         "y": [
          0,
          0,
          0,
          0
         ],
         "yaxis": "y"
        },
        {
         "hoverinfo": "text",
         "marker": {
          "color": "rgb(255,220,0)"
         },
         "mode": "lines",
         "type": "scatter",
         "x": [
          755,
          755,
          765,
          765
         ],
         "xaxis": "x",
         "y": [
          0,
          0,
          0,
          0
         ],
         "yaxis": "y"
        },
        {
         "hoverinfo": "text",
         "marker": {
          "color": "rgb(255,220,0)"
         },
         "mode": "lines",
         "type": "scatter",
         "x": [
          745,
          745,
          760,
          760
         ],
         "xaxis": "x",
         "y": [
          0,
          0,
          0,
          0
         ],
         "yaxis": "y"
        },
        {
         "hoverinfo": "text",
         "marker": {
          "color": "rgb(255,220,0)"
         },
         "mode": "lines",
         "type": "scatter",
         "x": [
          735,
          735,
          752.5,
          752.5
         ],
         "xaxis": "x",
         "y": [
          0,
          0.036207247061871575,
          0.036207247061871575,
          0
         ],
         "yaxis": "y"
        },
        {
         "hoverinfo": "text",
         "marker": {
          "color": "rgb(255,220,0)"
         },
         "mode": "lines",
         "type": "scatter",
         "x": [
          720,
          720,
          743.75,
          743.75
         ],
         "xaxis": "x",
         "y": [
          0,
          0.10862174118561471,
          0.10862174118561471,
          0.036207247061871575
         ],
         "yaxis": "y"
        },
        {
         "hoverinfo": "text",
         "marker": {
          "color": "rgb(255,220,0)"
         },
         "mode": "lines",
         "type": "scatter",
         "x": [
          775,
          775,
          785,
          785
         ],
         "xaxis": "x",
         "y": [
          0,
          0.12012606039243226,
          0.12012606039243226,
          0
         ],
         "yaxis": "y"
        },
        {
         "hoverinfo": "text",
         "marker": {
          "color": "rgb(255,220,0)"
         },
         "mode": "lines",
         "type": "scatter",
         "x": [
          731.875,
          731.875,
          780,
          780
         ],
         "xaxis": "x",
         "y": [
          0.10862174118561471,
          0.18103623530935808,
          0.18103623530935808,
          0.12012606039243226
         ],
         "yaxis": "y"
        },
        {
         "hoverinfo": "text",
         "marker": {
          "color": "rgb(255,220,0)"
         },
         "mode": "lines",
         "type": "scatter",
         "x": [
          815,
          815,
          825,
          825
         ],
         "xaxis": "x",
         "y": [
          0,
          0.03620724706187139,
          0.03620724706187139,
          0
         ],
         "yaxis": "y"
        },
        {
         "hoverinfo": "text",
         "marker": {
          "color": "rgb(255,220,0)"
         },
         "mode": "lines",
         "type": "scatter",
         "x": [
          805,
          805,
          820,
          820
         ],
         "xaxis": "x",
         "y": [
          0,
          0.12012606039243216,
          0.12012606039243216,
          0.03620724706187139
         ],
         "yaxis": "y"
        },
        {
         "hoverinfo": "text",
         "marker": {
          "color": "rgb(255,220,0)"
         },
         "mode": "lines",
         "type": "scatter",
         "x": [
          795,
          795,
          812.5,
          812.5
         ],
         "xaxis": "x",
         "y": [
          0,
          0.2552434862506951,
          0.2552434862506951,
          0.12012606039243216
         ],
         "yaxis": "y"
        },
        {
         "hoverinfo": "text",
         "marker": {
          "color": "rgb(255,220,0)"
         },
         "mode": "lines",
         "type": "scatter",
         "x": [
          755.9375,
          755.9375,
          803.75,
          803.75
         ],
         "xaxis": "x",
         "y": [
          0.18103623530935808,
          0.5326083841395438,
          0.5326083841395438,
          0.2552434862506951
         ],
         "yaxis": "y"
        },
        {
         "hoverinfo": "text",
         "marker": {
          "color": "rgb(255,220,0)"
         },
         "mode": "lines",
         "type": "scatter",
         "x": [
          700,
          700,
          779.84375,
          779.84375
         ],
         "xaxis": "x",
         "y": [
          0.5027894424668045,
          0.7723968150753069,
          0.7723968150753069,
          0.5326083841395438
         ],
         "yaxis": "y"
        },
        {
         "hoverinfo": "text",
         "marker": {
          "color": "rgb(255,220,0)"
         },
         "mode": "lines",
         "type": "scatter",
         "x": [
          835,
          835,
          845,
          845
         ],
         "xaxis": "x",
         "y": [
          0,
          0.5145990546015717,
          0.5145990546015717,
          0
         ],
         "yaxis": "y"
        },
        {
         "hoverinfo": "text",
         "marker": {
          "color": "rgb(255,220,0)"
         },
         "mode": "lines",
         "type": "scatter",
         "x": [
          855,
          855,
          865,
          865
         ],
         "xaxis": "x",
         "y": [
          0,
          0.39609004768916334,
          0.39609004768916334,
          0
         ],
         "yaxis": "y"
        },
        {
         "hoverinfo": "text",
         "marker": {
          "color": "rgb(255,220,0)"
         },
         "mode": "lines",
         "type": "scatter",
         "x": [
          875,
          875,
          885,
          885
         ],
         "xaxis": "x",
         "y": [
          0,
          0.3160649184332272,
          0.3160649184332272,
          0
         ],
         "yaxis": "y"
        },
        {
         "hoverinfo": "text",
         "marker": {
          "color": "rgb(255,220,0)"
         },
         "mode": "lines",
         "type": "scatter",
         "x": [
          895,
          895,
          905,
          905
         ],
         "xaxis": "x",
         "y": [
          0,
          0.10666974842856736,
          0.10666974842856736,
          0
         ],
         "yaxis": "y"
        },
        {
         "hoverinfo": "text",
         "marker": {
          "color": "rgb(255,220,0)"
         },
         "mode": "lines",
         "type": "scatter",
         "x": [
          935,
          935,
          945,
          945
         ],
         "xaxis": "x",
         "y": [
          0,
          7.656716496459005e-16,
          7.656716496459005e-16,
          0
         ],
         "yaxis": "y"
        },
        {
         "hoverinfo": "text",
         "marker": {
          "color": "rgb(255,220,0)"
         },
         "mode": "lines",
         "type": "scatter",
         "x": [
          925,
          925,
          940,
          940
         ],
         "xaxis": "x",
         "y": [
          0,
          0.036207247061872054,
          0.036207247061872054,
          7.656716496459005e-16
         ],
         "yaxis": "y"
        },
        {
         "hoverinfo": "text",
         "marker": {
          "color": "rgb(255,220,0)"
         },
         "mode": "lines",
         "type": "scatter",
         "x": [
          915,
          915,
          932.5,
          932.5
         ],
         "xaxis": "x",
         "y": [
          0,
          0.18103623530935847,
          0.18103623530935847,
          0.036207247061872054
         ],
         "yaxis": "y"
        },
        {
         "hoverinfo": "text",
         "marker": {
          "color": "rgb(255,220,0)"
         },
         "mode": "lines",
         "type": "scatter",
         "x": [
          900,
          900,
          923.75,
          923.75
         ],
         "xaxis": "x",
         "y": [
          0.10666974842856736,
          0.3626496797071916,
          0.3626496797071916,
          0.18103623530935847
         ],
         "yaxis": "y"
        },
        {
         "hoverinfo": "text",
         "marker": {
          "color": "rgb(255,220,0)"
         },
         "mode": "lines",
         "type": "scatter",
         "x": [
          880,
          880,
          911.875,
          911.875
         ],
         "xaxis": "x",
         "y": [
          0.3160649184332272,
          0.7603521882993043,
          0.7603521882993043,
          0.3626496797071916
         ],
         "yaxis": "y"
        },
        {
         "hoverinfo": "text",
         "marker": {
          "color": "rgb(255,220,0)"
         },
         "mode": "lines",
         "type": "scatter",
         "x": [
          860,
          860,
          895.9375,
          895.9375
         ],
         "xaxis": "x",
         "y": [
          0.39609004768916334,
          0.9446712956759078,
          0.9446712956759078,
          0.7603521882993043
         ],
         "yaxis": "y"
        },
        {
         "hoverinfo": "text",
         "marker": {
          "color": "rgb(255,220,0)"
         },
         "mode": "lines",
         "type": "scatter",
         "x": [
          840,
          840,
          877.96875,
          877.96875
         ],
         "xaxis": "x",
         "y": [
          0.5145990546015717,
          1.3010827583899174,
          1.3010827583899174,
          0.9446712956759078
         ],
         "yaxis": "y"
        },
        {
         "hoverinfo": "text",
         "marker": {
          "color": "rgb(255,220,0)"
         },
         "mode": "lines",
         "type": "scatter",
         "x": [
          739.921875,
          739.921875,
          858.984375,
          858.984375
         ],
         "xaxis": "x",
         "y": [
          0.7723968150753069,
          1.516398153627007,
          1.516398153627007,
          1.3010827583899174
         ],
         "yaxis": "y"
        },
        {
         "hoverinfo": "text",
         "marker": {
          "color": "rgb(255,220,0)"
         },
         "mode": "lines",
         "type": "scatter",
         "x": [
          975,
          975,
          985,
          985
         ],
         "xaxis": "x",
         "y": [
          0,
          0,
          0,
          0
         ],
         "yaxis": "y"
        },
        {
         "hoverinfo": "text",
         "marker": {
          "color": "rgb(255,220,0)"
         },
         "mode": "lines",
         "type": "scatter",
         "x": [
          995,
          995,
          1005,
          1005
         ],
         "xaxis": "x",
         "y": [
          0,
          0.14482898824748636,
          0.14482898824748636,
          0
         ],
         "yaxis": "y"
        },
        {
         "hoverinfo": "text",
         "marker": {
          "color": "rgb(255,220,0)"
         },
         "mode": "lines",
         "type": "scatter",
         "x": [
          980,
          980,
          1000,
          1000
         ],
         "xaxis": "x",
         "y": [
          0,
          0.4706942118043311,
          0.4706942118043311,
          0.14482898824748636
         ],
         "yaxis": "y"
        },
        {
         "hoverinfo": "text",
         "marker": {
          "color": "rgb(255,220,0)"
         },
         "mode": "lines",
         "type": "scatter",
         "x": [
          965,
          965,
          990,
          990
         ],
         "xaxis": "x",
         "y": [
          0,
          1.1528366741738558,
          1.1528366741738558,
          0.4706942118043311
         ],
         "yaxis": "y"
        },
        {
         "hoverinfo": "text",
         "marker": {
          "color": "rgb(255,220,0)"
         },
         "mode": "lines",
         "type": "scatter",
         "x": [
          955,
          955,
          977.5,
          977.5
         ],
         "xaxis": "x",
         "y": [
          0,
          1.6517070182575444,
          1.6517070182575444,
          1.1528366741738558
         ],
         "yaxis": "y"
        },
        {
         "hoverinfo": "text",
         "marker": {
          "color": "rgb(255,220,0)"
         },
         "mode": "lines",
         "type": "scatter",
         "x": [
          799.453125,
          799.453125,
          966.25,
          966.25
         ],
         "xaxis": "x",
         "y": [
          1.516398153627007,
          3.1678269045641128,
          3.1678269045641128,
          1.6517070182575444
         ],
         "yaxis": "y"
        },
        {
         "hoverinfo": "text",
         "marker": {
          "color": "rgb(255,220,0)"
         },
         "mode": "lines",
         "type": "scatter",
         "x": [
          606.71875,
          606.71875,
          882.8515625,
          882.8515625
         ],
         "xaxis": "x",
         "y": [
          2.285181441862426,
          3.400773554565266,
          3.400773554565266,
          3.1678269045641128
         ],
         "yaxis": "y"
        },
        {
         "hoverinfo": "text",
         "marker": {
          "color": "rgb(255,220,0)"
         },
         "mode": "lines",
         "type": "scatter",
         "x": [
          530,
          530,
          744.78515625,
          744.78515625
         ],
         "xaxis": "x",
         "y": [
          2.0288049249363125,
          4.601261070779569,
          4.601261070779569,
          3.400773554565266
         ],
         "yaxis": "y"
        },
        {
         "hoverinfo": "text",
         "marker": {
          "color": "rgb(255,220,0)"
         },
         "mode": "lines",
         "type": "scatter",
         "x": [
          510,
          510,
          637.392578125,
          637.392578125
         ],
         "xaxis": "x",
         "y": [
          1.8456724254545338,
          5.774344251332215,
          5.774344251332215,
          4.601261070779569
         ],
         "yaxis": "y"
        },
        {
         "hoverinfo": "text",
         "marker": {
          "color": "rgb(0,116,217)"
         },
         "mode": "lines",
         "type": "scatter",
         "x": [
          444.0625,
          444.0625,
          573.6962890625,
          573.6962890625
         ],
         "xaxis": "x",
         "y": [
          4.535305391143324,
          7.610270425694638,
          7.610270425694638,
          5.774344251332215
         ],
         "yaxis": "y"
        },
        {
         "hoverinfo": "text",
         "marker": {
          "color": "rgb(0,116,217)"
         },
         "mode": "lines",
         "type": "scatter",
         "x": [
          198.45703125,
          198.45703125,
          508.87939453125,
          508.87939453125
         ],
         "xaxis": "x",
         "y": [
          3.59910729507189,
          8.830208945507465,
          8.830208945507465,
          7.610270425694638
         ],
         "yaxis": "y"
        },
        {
         "hoverinfo": "text",
         "marker": {
          "color": "rgb(0,116,217)"
         },
         "mode": "lines",
         "type": "scatter",
         "x": [
          51.25,
          51.25,
          353.668212890625,
          353.668212890625
         ],
         "xaxis": "x",
         "y": [
          4.755667267447969,
          9.362644170250894,
          9.362644170250894,
          8.830208945507465
         ],
         "yaxis": "y"
        },
        {
         "hoverinfo": "text",
         "marker": {
          "color": "rgb(0,116,217)"
         },
         "mode": "lines",
         "type": "scatter",
         "x": [
          12.5,
          12.5,
          202.4591064453125,
          202.4591064453125
         ],
         "xaxis": "x",
         "y": [
          2.8149409000953307,
          11.946930869871604,
          11.946930869871604,
          9.362644170250894
         ],
         "yaxis": "y"
        }
       ],
       "layout": {
        "autosize": false,
        "height": 800,
        "hovermode": "closest",
        "showlegend": false,
        "template": {
         "data": {
          "bar": [
           {
            "error_x": {
             "color": "#2a3f5f"
            },
            "error_y": {
             "color": "#2a3f5f"
            },
            "marker": {
             "line": {
              "color": "#E5ECF6",
              "width": 0.5
             },
             "pattern": {
              "fillmode": "overlay",
              "size": 10,
              "solidity": 0.2
             }
            },
            "type": "bar"
           }
          ],
          "barpolar": [
           {
            "marker": {
             "line": {
              "color": "#E5ECF6",
              "width": 0.5
             },
             "pattern": {
              "fillmode": "overlay",
              "size": 10,
              "solidity": 0.2
             }
            },
            "type": "barpolar"
           }
          ],
          "carpet": [
           {
            "aaxis": {
             "endlinecolor": "#2a3f5f",
             "gridcolor": "white",
             "linecolor": "white",
             "minorgridcolor": "white",
             "startlinecolor": "#2a3f5f"
            },
            "baxis": {
             "endlinecolor": "#2a3f5f",
             "gridcolor": "white",
             "linecolor": "white",
             "minorgridcolor": "white",
             "startlinecolor": "#2a3f5f"
            },
            "type": "carpet"
           }
          ],
          "choropleth": [
           {
            "colorbar": {
             "outlinewidth": 0,
             "ticks": ""
            },
            "type": "choropleth"
           }
          ],
          "contour": [
           {
            "colorbar": {
             "outlinewidth": 0,
             "ticks": ""
            },
            "colorscale": [
             [
              0,
              "#0d0887"
             ],
             [
              0.1111111111111111,
              "#46039f"
             ],
             [
              0.2222222222222222,
              "#7201a8"
             ],
             [
              0.3333333333333333,
              "#9c179e"
             ],
             [
              0.4444444444444444,
              "#bd3786"
             ],
             [
              0.5555555555555556,
              "#d8576b"
             ],
             [
              0.6666666666666666,
              "#ed7953"
             ],
             [
              0.7777777777777778,
              "#fb9f3a"
             ],
             [
              0.8888888888888888,
              "#fdca26"
             ],
             [
              1,
              "#f0f921"
             ]
            ],
            "type": "contour"
           }
          ],
          "contourcarpet": [
           {
            "colorbar": {
             "outlinewidth": 0,
             "ticks": ""
            },
            "type": "contourcarpet"
           }
          ],
          "heatmap": [
           {
            "colorbar": {
             "outlinewidth": 0,
             "ticks": ""
            },
            "colorscale": [
             [
              0,
              "#0d0887"
             ],
             [
              0.1111111111111111,
              "#46039f"
             ],
             [
              0.2222222222222222,
              "#7201a8"
             ],
             [
              0.3333333333333333,
              "#9c179e"
             ],
             [
              0.4444444444444444,
              "#bd3786"
             ],
             [
              0.5555555555555556,
              "#d8576b"
             ],
             [
              0.6666666666666666,
              "#ed7953"
             ],
             [
              0.7777777777777778,
              "#fb9f3a"
             ],
             [
              0.8888888888888888,
              "#fdca26"
             ],
             [
              1,
              "#f0f921"
             ]
            ],
            "type": "heatmap"
           }
          ],
          "heatmapgl": [
           {
            "colorbar": {
             "outlinewidth": 0,
             "ticks": ""
            },
            "colorscale": [
             [
              0,
              "#0d0887"
             ],
             [
              0.1111111111111111,
              "#46039f"
             ],
             [
              0.2222222222222222,
              "#7201a8"
             ],
             [
              0.3333333333333333,
              "#9c179e"
             ],
             [
              0.4444444444444444,
              "#bd3786"
             ],
             [
              0.5555555555555556,
              "#d8576b"
             ],
             [
              0.6666666666666666,
              "#ed7953"
             ],
             [
              0.7777777777777778,
              "#fb9f3a"
             ],
             [
              0.8888888888888888,
              "#fdca26"
             ],
             [
              1,
              "#f0f921"
             ]
            ],
            "type": "heatmapgl"
           }
          ],
          "histogram": [
           {
            "marker": {
             "pattern": {
              "fillmode": "overlay",
              "size": 10,
              "solidity": 0.2
             }
            },
            "type": "histogram"
           }
          ],
          "histogram2d": [
           {
            "colorbar": {
             "outlinewidth": 0,
             "ticks": ""
            },
            "colorscale": [
             [
              0,
              "#0d0887"
             ],
             [
              0.1111111111111111,
              "#46039f"
             ],
             [
              0.2222222222222222,
              "#7201a8"
             ],
             [
              0.3333333333333333,
              "#9c179e"
             ],
             [
              0.4444444444444444,
              "#bd3786"
             ],
             [
              0.5555555555555556,
              "#d8576b"
             ],
             [
              0.6666666666666666,
              "#ed7953"
             ],
             [
              0.7777777777777778,
              "#fb9f3a"
             ],
             [
              0.8888888888888888,
              "#fdca26"
             ],
             [
              1,
              "#f0f921"
             ]
            ],
            "type": "histogram2d"
           }
          ],
          "histogram2dcontour": [
           {
            "colorbar": {
             "outlinewidth": 0,
             "ticks": ""
            },
            "colorscale": [
             [
              0,
              "#0d0887"
             ],
             [
              0.1111111111111111,
              "#46039f"
             ],
             [
              0.2222222222222222,
              "#7201a8"
             ],
             [
              0.3333333333333333,
              "#9c179e"
             ],
             [
              0.4444444444444444,
              "#bd3786"
             ],
             [
              0.5555555555555556,
              "#d8576b"
             ],
             [
              0.6666666666666666,
              "#ed7953"
             ],
             [
              0.7777777777777778,
              "#fb9f3a"
             ],
             [
              0.8888888888888888,
              "#fdca26"
             ],
             [
              1,
              "#f0f921"
             ]
            ],
            "type": "histogram2dcontour"
           }
          ],
          "mesh3d": [
           {
            "colorbar": {
             "outlinewidth": 0,
             "ticks": ""
            },
            "type": "mesh3d"
           }
          ],
          "parcoords": [
           {
            "line": {
             "colorbar": {
              "outlinewidth": 0,
              "ticks": ""
             }
            },
            "type": "parcoords"
           }
          ],
          "pie": [
           {
            "automargin": true,
            "type": "pie"
           }
          ],
          "scatter": [
           {
            "marker": {
             "colorbar": {
              "outlinewidth": 0,
              "ticks": ""
             }
            },
            "type": "scatter"
           }
          ],
          "scatter3d": [
           {
            "line": {
             "colorbar": {
              "outlinewidth": 0,
              "ticks": ""
             }
            },
            "marker": {
             "colorbar": {
              "outlinewidth": 0,
              "ticks": ""
             }
            },
            "type": "scatter3d"
           }
          ],
          "scattercarpet": [
           {
            "marker": {
             "colorbar": {
              "outlinewidth": 0,
              "ticks": ""
             }
            },
            "type": "scattercarpet"
           }
          ],
          "scattergeo": [
           {
            "marker": {
             "colorbar": {
              "outlinewidth": 0,
              "ticks": ""
             }
            },
            "type": "scattergeo"
           }
          ],
          "scattergl": [
           {
            "marker": {
             "colorbar": {
              "outlinewidth": 0,
              "ticks": ""
             }
            },
            "type": "scattergl"
           }
          ],
          "scattermapbox": [
           {
            "marker": {
             "colorbar": {
              "outlinewidth": 0,
              "ticks": ""
             }
            },
            "type": "scattermapbox"
           }
          ],
          "scatterpolar": [
           {
            "marker": {
             "colorbar": {
              "outlinewidth": 0,
              "ticks": ""
             }
            },
            "type": "scatterpolar"
           }
          ],
          "scatterpolargl": [
           {
            "marker": {
             "colorbar": {
              "outlinewidth": 0,
              "ticks": ""
             }
            },
            "type": "scatterpolargl"
           }
          ],
          "scatterternary": [
           {
            "marker": {
             "colorbar": {
              "outlinewidth": 0,
              "ticks": ""
             }
            },
            "type": "scatterternary"
           }
          ],
          "surface": [
           {
            "colorbar": {
             "outlinewidth": 0,
             "ticks": ""
            },
            "colorscale": [
             [
              0,
              "#0d0887"
             ],
             [
              0.1111111111111111,
              "#46039f"
             ],
             [
              0.2222222222222222,
              "#7201a8"
             ],
             [
              0.3333333333333333,
              "#9c179e"
             ],
             [
              0.4444444444444444,
              "#bd3786"
             ],
             [
              0.5555555555555556,
              "#d8576b"
             ],
             [
              0.6666666666666666,
              "#ed7953"
             ],
             [
              0.7777777777777778,
              "#fb9f3a"
             ],
             [
              0.8888888888888888,
              "#fdca26"
             ],
             [
              1,
              "#f0f921"
             ]
            ],
            "type": "surface"
           }
          ],
          "table": [
           {
            "cells": {
             "fill": {
              "color": "#EBF0F8"
             },
             "line": {
              "color": "white"
             }
            },
            "header": {
             "fill": {
              "color": "#C8D4E3"
             },
             "line": {
              "color": "white"
             }
            },
            "type": "table"
           }
          ]
         },
         "layout": {
          "annotationdefaults": {
           "arrowcolor": "#2a3f5f",
           "arrowhead": 0,
           "arrowwidth": 1
          },
          "autotypenumbers": "strict",
          "coloraxis": {
           "colorbar": {
            "outlinewidth": 0,
            "ticks": ""
           }
          },
          "colorscale": {
           "diverging": [
            [
             0,
             "#8e0152"
            ],
            [
             0.1,
             "#c51b7d"
            ],
            [
             0.2,
             "#de77ae"
            ],
            [
             0.3,
             "#f1b6da"
            ],
            [
             0.4,
             "#fde0ef"
            ],
            [
             0.5,
             "#f7f7f7"
            ],
            [
             0.6,
             "#e6f5d0"
            ],
            [
             0.7,
             "#b8e186"
            ],
            [
             0.8,
             "#7fbc41"
            ],
            [
             0.9,
             "#4d9221"
            ],
            [
             1,
             "#276419"
            ]
           ],
           "sequential": [
            [
             0,
             "#0d0887"
            ],
            [
             0.1111111111111111,
             "#46039f"
            ],
            [
             0.2222222222222222,
             "#7201a8"
            ],
            [
             0.3333333333333333,
             "#9c179e"
            ],
            [
             0.4444444444444444,
             "#bd3786"
            ],
            [
             0.5555555555555556,
             "#d8576b"
            ],
            [
             0.6666666666666666,
             "#ed7953"
            ],
            [
             0.7777777777777778,
             "#fb9f3a"
            ],
            [
             0.8888888888888888,
             "#fdca26"
            ],
            [
             1,
             "#f0f921"
            ]
           ],
           "sequentialminus": [
            [
             0,
             "#0d0887"
            ],
            [
             0.1111111111111111,
             "#46039f"
            ],
            [
             0.2222222222222222,
             "#7201a8"
            ],
            [
             0.3333333333333333,
             "#9c179e"
            ],
            [
             0.4444444444444444,
             "#bd3786"
            ],
            [
             0.5555555555555556,
             "#d8576b"
            ],
            [
             0.6666666666666666,
             "#ed7953"
            ],
            [
             0.7777777777777778,
             "#fb9f3a"
            ],
            [
             0.8888888888888888,
             "#fdca26"
            ],
            [
             1,
             "#f0f921"
            ]
           ]
          },
          "colorway": [
           "#636efa",
           "#EF553B",
           "#00cc96",
           "#ab63fa",
           "#FFA15A",
           "#19d3f3",
           "#FF6692",
           "#B6E880",
           "#FF97FF",
           "#FECB52"
          ],
          "font": {
           "color": "#2a3f5f"
          },
          "geo": {
           "bgcolor": "white",
           "lakecolor": "white",
           "landcolor": "#E5ECF6",
           "showlakes": true,
           "showland": true,
           "subunitcolor": "white"
          },
          "hoverlabel": {
           "align": "left"
          },
          "hovermode": "closest",
          "mapbox": {
           "style": "light"
          },
          "paper_bgcolor": "white",
          "plot_bgcolor": "#E5ECF6",
          "polar": {
           "angularaxis": {
            "gridcolor": "white",
            "linecolor": "white",
            "ticks": ""
           },
           "bgcolor": "#E5ECF6",
           "radialaxis": {
            "gridcolor": "white",
            "linecolor": "white",
            "ticks": ""
           }
          },
          "scene": {
           "xaxis": {
            "backgroundcolor": "#E5ECF6",
            "gridcolor": "white",
            "gridwidth": 2,
            "linecolor": "white",
            "showbackground": true,
            "ticks": "",
            "zerolinecolor": "white"
           },
           "yaxis": {
            "backgroundcolor": "#E5ECF6",
            "gridcolor": "white",
            "gridwidth": 2,
            "linecolor": "white",
            "showbackground": true,
            "ticks": "",
            "zerolinecolor": "white"
           },
           "zaxis": {
            "backgroundcolor": "#E5ECF6",
            "gridcolor": "white",
            "gridwidth": 2,
            "linecolor": "white",
            "showbackground": true,
            "ticks": "",
            "zerolinecolor": "white"
           }
          },
          "shapedefaults": {
           "line": {
            "color": "#2a3f5f"
           }
          },
          "ternary": {
           "aaxis": {
            "gridcolor": "white",
            "linecolor": "white",
            "ticks": ""
           },
           "baxis": {
            "gridcolor": "white",
            "linecolor": "white",
            "ticks": ""
           },
           "bgcolor": "#E5ECF6",
           "caxis": {
            "gridcolor": "white",
            "linecolor": "white",
            "ticks": ""
           }
          },
          "title": {
           "x": 0.05
          },
          "xaxis": {
           "automargin": true,
           "gridcolor": "white",
           "linecolor": "white",
           "ticks": "",
           "title": {
            "standoff": 15
           },
           "zerolinecolor": "white",
           "zerolinewidth": 2
          },
          "yaxis": {
           "automargin": true,
           "gridcolor": "white",
           "linecolor": "white",
           "ticks": "",
           "title": {
            "standoff": 15
           },
           "zerolinecolor": "white",
           "zerolinewidth": 2
          }
         }
        },
        "width": 1000,
        "xaxis": {
         "mirror": "allticks",
         "rangemode": "tozero",
         "showgrid": false,
         "showline": true,
         "showticklabels": true,
         "tickmode": "array",
         "ticks": "outside",
         "ticktext": [
          "20",
          "70",
          "87",
          "45",
          "7",
          "44",
          "26",
          "95",
          "80",
          "22",
          "27",
          "38",
          "61",
          "71",
          "90",
          "40",
          "52",
          "97",
          "47",
          "74",
          "60",
          "64",
          "73",
          "88",
          "82",
          "85",
          "77",
          "34",
          "93",
          "54",
          "89",
          "2",
          "14",
          "76",
          "92",
          "24",
          "6",
          "11",
          "43",
          "36",
          "98",
          "75",
          "12",
          "91",
          "99",
          "96",
          "30",
          "79",
          "0",
          "100",
          "23",
          "63",
          "69",
          "86",
          "48",
          "9",
          "13",
          "41",
          "65",
          "17",
          "55",
          "5",
          "25",
          "28",
          "16",
          "31",
          "39",
          "49",
          "67",
          "1",
          "33",
          "32",
          "72",
          "62",
          "94",
          "66",
          "84",
          "15",
          "50",
          "81",
          "21",
          "37",
          "53",
          "8",
          "42",
          "59",
          "83",
          "3",
          "68",
          "29",
          "58",
          "51",
          "56",
          "4",
          "46",
          "19",
          "18",
          "35",
          "57",
          "10",
          "78"
         ],
         "tickvals": [
          5,
          15,
          25,
          35,
          45,
          55,
          65,
          75,
          85,
          95,
          105,
          115,
          125,
          135,
          145,
          155,
          165,
          175,
          185,
          195,
          205,
          215,
          225,
          235,
          245,
          255,
          265,
          275,
          285,
          295,
          305,
          315,
          325,
          335,
          345,
          355,
          365,
          375,
          385,
          395,
          405,
          415,
          425,
          435,
          445,
          455,
          465,
          475,
          485,
          495,
          505,
          515,
          525,
          535,
          545,
          555,
          565,
          575,
          585,
          595,
          605,
          615,
          625,
          635,
          645,
          655,
          665,
          675,
          685,
          695,
          705,
          715,
          725,
          735,
          745,
          755,
          765,
          775,
          785,
          795,
          805,
          815,
          825,
          835,
          845,
          855,
          865,
          875,
          885,
          895,
          905,
          915,
          925,
          935,
          945,
          955,
          965,
          975,
          985,
          995,
          1005
         ],
         "type": "linear",
         "zeroline": false
        },
        "yaxis": {
         "mirror": "allticks",
         "rangemode": "tozero",
         "showgrid": false,
         "showline": true,
         "showticklabels": true,
         "ticks": "outside",
         "type": "linear",
         "zeroline": false
        }
       }
      },
      "text/html": [
       "<div>                            <div id=\"3880f800-9fc3-4917-9b94-7cc82b892c48\" class=\"plotly-graph-div\" style=\"height:800px; width:1000px;\"></div>            <script type=\"text/javascript\">                require([\"plotly\"], function(Plotly) {                    window.PLOTLYENV=window.PLOTLYENV || {};                                    if (document.getElementById(\"3880f800-9fc3-4917-9b94-7cc82b892c48\")) {                    Plotly.newPlot(                        \"3880f800-9fc3-4917-9b94-7cc82b892c48\",                        [{\"hoverinfo\":\"text\",\"marker\":{\"color\":\"rgb(61,153,112)\"},\"mode\":\"lines\",\"type\":\"scatter\",\"x\":[15.0,15.0,25.0,25.0],\"xaxis\":\"x\",\"y\":[0.0,1.6389249183099437,1.6389249183099437,0.0],\"yaxis\":\"y\"},{\"hoverinfo\":\"text\",\"marker\":{\"color\":\"rgb(61,153,112)\"},\"mode\":\"lines\",\"type\":\"scatter\",\"x\":[5.0,5.0,20.0,20.0],\"xaxis\":\"x\",\"y\":[0.0,2.8149409000953307,2.8149409000953307,1.6389249183099437],\"yaxis\":\"y\"},{\"hoverinfo\":\"text\",\"marker\":{\"color\":\"rgb(255,65,54)\"},\"mode\":\"lines\",\"type\":\"scatter\",\"x\":[45.0,45.0,55.0,55.0],\"xaxis\":\"x\",\"y\":[0.0,1.2788022821602905,1.2788022821602905,0.0],\"yaxis\":\"y\"},{\"hoverinfo\":\"text\",\"marker\":{\"color\":\"rgb(255,65,54)\"},\"mode\":\"lines\",\"type\":\"scatter\",\"x\":[65.0,65.0,75.0,75.0],\"xaxis\":\"x\",\"y\":[0.0,0.8542385642067205,0.8542385642067205,0.0],\"yaxis\":\"y\"},{\"hoverinfo\":\"text\",\"marker\":{\"color\":\"rgb(255,65,54)\"},\"mode\":\"lines\",\"type\":\"scatter\",\"x\":[95.0,95.0,105.0,105.0],\"xaxis\":\"x\",\"y\":[0.0,0.832766682423047,0.832766682423047,0.0],\"yaxis\":\"y\"},{\"hoverinfo\":\"text\",\"marker\":{\"color\":\"rgb(255,65,54)\"},\"mode\":\"lines\",\"type\":\"scatter\",\"x\":[115.0,115.0,125.0,125.0],\"xaxis\":\"x\",\"y\":[0.0,0.3985057342618255,0.3985057342618255,0.0],\"yaxis\":\"y\"},{\"hoverinfo\":\"text\",\"marker\":{\"color\":\"rgb(255,65,54)\"},\"mode\":\"lines\",\"type\":\"scatter\",\"x\":[135.0,135.0,145.0,145.0],\"xaxis\":\"x\",\"y\":[0.0,0.8186056733036037,0.8186056733036037,0.0],\"yaxis\":\"y\"},{\"hoverinfo\":\"text\",\"marker\":{\"color\":\"rgb(255,65,54)\"},\"mode\":\"lines\",\"type\":\"scatter\",\"x\":[120.0,120.0,140.0,140.0],\"xaxis\":\"x\",\"y\":[0.3985057342618255,1.5982478748745257,1.5982478748745257,0.8186056733036037],\"yaxis\":\"y\"},{\"hoverinfo\":\"text\",\"marker\":{\"color\":\"rgb(255,65,54)\"},\"mode\":\"lines\",\"type\":\"scatter\",\"x\":[100.0,100.0,130.0,130.0],\"xaxis\":\"x\",\"y\":[0.832766682423047,1.9113224220538696,1.9113224220538696,1.5982478748745257],\"yaxis\":\"y\"},{\"hoverinfo\":\"text\",\"marker\":{\"color\":\"rgb(255,65,54)\"},\"mode\":\"lines\",\"type\":\"scatter\",\"x\":[85.0,85.0,115.0,115.0],\"xaxis\":\"x\",\"y\":[0.0,2.289644436613474,2.289644436613474,1.9113224220538696],\"yaxis\":\"y\"},{\"hoverinfo\":\"text\",\"marker\":{\"color\":\"rgb(255,65,54)\"},\"mode\":\"lines\",\"type\":\"scatter\",\"x\":[70.0,70.0,100.0,100.0],\"xaxis\":\"x\",\"y\":[0.8542385642067205,2.832594893042556,2.832594893042556,2.289644436613474],\"yaxis\":\"y\"},{\"hoverinfo\":\"text\",\"marker\":{\"color\":\"rgb(255,65,54)\"},\"mode\":\"lines\",\"type\":\"scatter\",\"x\":[50.0,50.0,85.0,85.0],\"xaxis\":\"x\",\"y\":[1.2788022821602905,3.7269127300437854,3.7269127300437854,2.832594893042556],\"yaxis\":\"y\"},{\"hoverinfo\":\"text\",\"marker\":{\"color\":\"rgb(255,65,54)\"},\"mode\":\"lines\",\"type\":\"scatter\",\"x\":[35.0,35.0,67.5,67.5],\"xaxis\":\"x\",\"y\":[0.0,4.755667267447969,4.755667267447969,3.7269127300437854],\"yaxis\":\"y\"},{\"hoverinfo\":\"text\",\"marker\":{\"color\":\"rgb(35,205,205)\"},\"mode\":\"lines\",\"type\":\"scatter\",\"x\":[185.0,185.0,195.0,195.0],\"xaxis\":\"x\",\"y\":[0.0,0.40762984272928904,0.40762984272928904,0.0],\"yaxis\":\"y\"},{\"hoverinfo\":\"text\",\"marker\":{\"color\":\"rgb(35,205,205)\"},\"mode\":\"lines\",\"type\":\"scatter\",\"x\":[175.0,175.0,190.0,190.0],\"xaxis\":\"x\",\"y\":[0.0,1.034343184204642,1.034343184204642,0.40762984272928904],\"yaxis\":\"y\"},{\"hoverinfo\":\"text\",\"marker\":{\"color\":\"rgb(35,205,205)\"},\"mode\":\"lines\",\"type\":\"scatter\",\"x\":[165.0,165.0,182.5,182.5],\"xaxis\":\"x\",\"y\":[0.0,1.5695472209014865,1.5695472209014865,1.034343184204642],\"yaxis\":\"y\"},{\"hoverinfo\":\"text\",\"marker\":{\"color\":\"rgb(35,205,205)\"},\"mode\":\"lines\",\"type\":\"scatter\",\"x\":[155.0,155.0,173.75,173.75],\"xaxis\":\"x\",\"y\":[0.0,2.1352693580803996,2.1352693580803996,1.5695472209014865],\"yaxis\":\"y\"},{\"hoverinfo\":\"text\",\"marker\":{\"color\":\"rgb(35,205,205)\"},\"mode\":\"lines\",\"type\":\"scatter\",\"x\":[225.0,225.0,235.0,235.0],\"xaxis\":\"x\",\"y\":[0.0,0.036207247061871214,0.036207247061871214,0.0],\"yaxis\":\"y\"},{\"hoverinfo\":\"text\",\"marker\":{\"color\":\"rgb(35,205,205)\"},\"mode\":\"lines\",\"type\":\"scatter\",\"x\":[215.0,215.0,230.0,230.0],\"xaxis\":\"x\",\"y\":[0.0,0.5069014588662032,0.5069014588662032,0.036207247061871214],\"yaxis\":\"y\"},{\"hoverinfo\":\"text\",\"marker\":{\"color\":\"rgb(35,205,205)\"},\"mode\":\"lines\",\"type\":\"scatter\",\"x\":[245.0,245.0,255.0,255.0],\"xaxis\":\"x\",\"y\":[0.0,0.03620724706187189,0.03620724706187189,0.0],\"yaxis\":\"y\"},{\"hoverinfo\":\"text\",\"marker\":{\"color\":\"rgb(35,205,205)\"},\"mode\":\"lines\",\"type\":\"scatter\",\"x\":[275.0,275.0,285.0,285.0],\"xaxis\":\"x\",\"y\":[0.0,0.0,0.0,0.0],\"yaxis\":\"y\"},{\"hoverinfo\":\"text\",\"marker\":{\"color\":\"rgb(35,205,205)\"},\"mode\":\"lines\",\"type\":\"scatter\",\"x\":[295.0,295.0,305.0,305.0],\"xaxis\":\"x\",\"y\":[0.0,0.03620724706187085,0.03620724706187085,0.0],\"yaxis\":\"y\"},{\"hoverinfo\":\"text\",\"marker\":{\"color\":\"rgb(35,205,205)\"},\"mode\":\"lines\",\"type\":\"scatter\",\"x\":[280.0,280.0,300.0,300.0],\"xaxis\":\"x\",\"y\":[0.0,0.10862174118561418,0.10862174118561418,0.03620724706187085],\"yaxis\":\"y\"},{\"hoverinfo\":\"text\",\"marker\":{\"color\":\"rgb(35,205,205)\"},\"mode\":\"lines\",\"type\":\"scatter\",\"x\":[265.0,265.0,290.0,290.0],\"xaxis\":\"x\",\"y\":[0.0,0.21724348237122912,0.21724348237122912,0.10862174118561418],\"yaxis\":\"y\"},{\"hoverinfo\":\"text\",\"marker\":{\"color\":\"rgb(35,205,205)\"},\"mode\":\"lines\",\"type\":\"scatter\",\"x\":[250.0,250.0,277.5,277.5],\"xaxis\":\"x\",\"y\":[0.03620724706187189,0.36207247061871617,0.36207247061871617,0.21724348237122912],\"yaxis\":\"y\"},{\"hoverinfo\":\"text\",\"marker\":{\"color\":\"rgb(35,205,205)\"},\"mode\":\"lines\",\"type\":\"scatter\",\"x\":[335.0,335.0,345.0,345.0],\"xaxis\":\"x\",\"y\":[0.0,0.0362072470618715,0.0362072470618715,0.0],\"yaxis\":\"y\"},{\"hoverinfo\":\"text\",\"marker\":{\"color\":\"rgb(35,205,205)\"},\"mode\":\"lines\",\"type\":\"scatter\",\"x\":[325.0,325.0,340.0,340.0],\"xaxis\":\"x\",\"y\":[0.0,0.07241449412374361,0.07241449412374361,0.0362072470618715],\"yaxis\":\"y\"},{\"hoverinfo\":\"text\",\"marker\":{\"color\":\"rgb(35,205,205)\"},\"mode\":\"lines\",\"type\":\"scatter\",\"x\":[375.0,375.0,385.0,385.0],\"xaxis\":\"x\",\"y\":[0.0,6.843874359417885e-16,6.843874359417885e-16,0.0],\"yaxis\":\"y\"},{\"hoverinfo\":\"text\",\"marker\":{\"color\":\"rgb(35,205,205)\"},\"mode\":\"lines\",\"type\":\"scatter\",\"x\":[365.0,365.0,380.0,380.0],\"xaxis\":\"x\",\"y\":[0.0,0.03620724706187097,0.03620724706187097,6.843874359417885e-16],\"yaxis\":\"y\"},{\"hoverinfo\":\"text\",\"marker\":{\"color\":\"rgb(35,205,205)\"},\"mode\":\"lines\",\"type\":\"scatter\",\"x\":[355.0,355.0,372.5,372.5],\"xaxis\":\"x\",\"y\":[0.0,0.10862174118561606,0.10862174118561606,0.03620724706187097],\"yaxis\":\"y\"},{\"hoverinfo\":\"text\",\"marker\":{\"color\":\"rgb(35,205,205)\"},\"mode\":\"lines\",\"type\":\"scatter\",\"x\":[332.5,332.5,363.75,363.75],\"xaxis\":\"x\",\"y\":[0.07241449412374361,0.2534507294331023,0.2534507294331023,0.10862174118561606],\"yaxis\":\"y\"},{\"hoverinfo\":\"text\",\"marker\":{\"color\":\"rgb(35,205,205)\"},\"mode\":\"lines\",\"type\":\"scatter\",\"x\":[315.0,315.0,348.125,348.125],\"xaxis\":\"x\",\"y\":[0.0,0.47069421180433246,0.47069421180433246,0.2534507294331023],\"yaxis\":\"y\"},{\"hoverinfo\":\"text\",\"marker\":{\"color\":\"rgb(35,205,205)\"},\"mode\":\"lines\",\"type\":\"scatter\",\"x\":[263.75,263.75,331.5625,331.5625],\"xaxis\":\"x\",\"y\":[0.36207247061871617,0.977595670670534,0.977595670670534,0.47069421180433246],\"yaxis\":\"y\"},{\"hoverinfo\":\"text\",\"marker\":{\"color\":\"rgb(35,205,205)\"},\"mode\":\"lines\",\"type\":\"scatter\",\"x\":[222.5,222.5,297.65625,297.65625],\"xaxis\":\"x\",\"y\":[0.5069014588662032,1.6655333648460953,1.6655333648460953,0.977595670670534],\"yaxis\":\"y\"},{\"hoverinfo\":\"text\",\"marker\":{\"color\":\"rgb(35,205,205)\"},\"mode\":\"lines\",\"type\":\"scatter\",\"x\":[205.0,205.0,260.078125,260.078125],\"xaxis\":\"x\",\"y\":[0.0,2.5631013651196604,2.5631013651196604,1.6655333648460953],\"yaxis\":\"y\"},{\"hoverinfo\":\"text\",\"marker\":{\"color\":\"rgb(35,205,205)\"},\"mode\":\"lines\",\"type\":\"scatter\",\"x\":[164.375,164.375,232.5390625,232.5390625],\"xaxis\":\"x\",\"y\":[2.1352693580803996,3.59910729507189,3.59910729507189,2.5631013651196604],\"yaxis\":\"y\"},{\"hoverinfo\":\"text\",\"marker\":{\"color\":\"rgb(133,20,75)\"},\"mode\":\"lines\",\"type\":\"scatter\",\"x\":[395.0,395.0,405.0,405.0],\"xaxis\":\"x\",\"y\":[0.0,0.5548843722097242,0.5548843722097242,0.0],\"yaxis\":\"y\"},{\"hoverinfo\":\"text\",\"marker\":{\"color\":\"rgb(133,20,75)\"},\"mode\":\"lines\",\"type\":\"scatter\",\"x\":[435.0,435.0,445.0,445.0],\"xaxis\":\"x\",\"y\":[0.0,0.33354645682631656,0.33354645682631656,0.0],\"yaxis\":\"y\"},{\"hoverinfo\":\"text\",\"marker\":{\"color\":\"rgb(133,20,75)\"},\"mode\":\"lines\",\"type\":\"scatter\",\"x\":[425.0,425.0,440.0,440.0],\"xaxis\":\"x\",\"y\":[0.0,0.9101705334666591,0.9101705334666591,0.33354645682631656],\"yaxis\":\"y\"},{\"hoverinfo\":\"text\",\"marker\":{\"color\":\"rgb(133,20,75)\"},\"mode\":\"lines\",\"type\":\"scatter\",\"x\":[415.0,415.0,432.5,432.5],\"xaxis\":\"x\",\"y\":[0.0,1.1903981928393363,1.1903981928393363,0.9101705334666591],\"yaxis\":\"y\"},{\"hoverinfo\":\"text\",\"marker\":{\"color\":\"rgb(133,20,75)\"},\"mode\":\"lines\",\"type\":\"scatter\",\"x\":[400.0,400.0,423.75,423.75],\"xaxis\":\"x\",\"y\":[0.5548843722097242,1.9872916216251855,1.9872916216251855,1.1903981928393363],\"yaxis\":\"y\"},{\"hoverinfo\":\"text\",\"marker\":{\"color\":\"rgb(133,20,75)\"},\"mode\":\"lines\",\"type\":\"scatter\",\"x\":[465.0,465.0,475.0,475.0],\"xaxis\":\"x\",\"y\":[0.0,0.25345072943310154,0.25345072943310154,0.0],\"yaxis\":\"y\"},{\"hoverinfo\":\"text\",\"marker\":{\"color\":\"rgb(133,20,75)\"},\"mode\":\"lines\",\"type\":\"scatter\",\"x\":[455.0,455.0,470.0,470.0],\"xaxis\":\"x\",\"y\":[0.0,0.760352188299304,0.760352188299304,0.25345072943310154],\"yaxis\":\"y\"},{\"hoverinfo\":\"text\",\"marker\":{\"color\":\"rgb(133,20,75)\"},\"mode\":\"lines\",\"type\":\"scatter\",\"x\":[485.0,485.0,495.0,495.0],\"xaxis\":\"x\",\"y\":[0.0,1.2830286558799968,1.2830286558799968,0.0],\"yaxis\":\"y\"},{\"hoverinfo\":\"text\",\"marker\":{\"color\":\"rgb(133,20,75)\"},\"mode\":\"lines\",\"type\":\"scatter\",\"x\":[462.5,462.5,490.0,490.0],\"xaxis\":\"x\",\"y\":[0.760352188299304,2.553040023653904,2.553040023653904,1.2830286558799968],\"yaxis\":\"y\"},{\"hoverinfo\":\"text\",\"marker\":{\"color\":\"rgb(133,20,75)\"},\"mode\":\"lines\",\"type\":\"scatter\",\"x\":[411.875,411.875,476.25,476.25],\"xaxis\":\"x\",\"y\":[1.9872916216251855,4.535305391143324,4.535305391143324,2.553040023653904],\"yaxis\":\"y\"},{\"hoverinfo\":\"text\",\"marker\":{\"color\":\"rgb(255,220,0)\"},\"mode\":\"lines\",\"type\":\"scatter\",\"x\":[505.0,505.0,515.0,515.0],\"xaxis\":\"x\",\"y\":[0.0,1.8456724254545338,1.8456724254545338,0.0],\"yaxis\":\"y\"},{\"hoverinfo\":\"text\",\"marker\":{\"color\":\"rgb(255,220,0)\"},\"mode\":\"lines\",\"type\":\"scatter\",\"x\":[525.0,525.0,535.0,535.0],\"xaxis\":\"x\",\"y\":[0.0,2.0288049249363125,2.0288049249363125,0.0],\"yaxis\":\"y\"},{\"hoverinfo\":\"text\",\"marker\":{\"color\":\"rgb(255,220,0)\"},\"mode\":\"lines\",\"type\":\"scatter\",\"x\":[575.0,575.0,585.0,585.0],\"xaxis\":\"x\",\"y\":[0.0,0.17178900160387053,0.17178900160387053,0.0],\"yaxis\":\"y\"},{\"hoverinfo\":\"text\",\"marker\":{\"color\":\"rgb(255,220,0)\"},\"mode\":\"lines\",\"type\":\"scatter\",\"x\":[565.0,565.0,580.0,580.0],\"xaxis\":\"x\",\"y\":[0.0,0.37083226154054294,0.37083226154054294,0.17178900160387053],\"yaxis\":\"y\"},{\"hoverinfo\":\"text\",\"marker\":{\"color\":\"rgb(255,220,0)\"},\"mode\":\"lines\",\"type\":\"scatter\",\"x\":[555.0,555.0,572.5,572.5],\"xaxis\":\"x\",\"y\":[0.0,0.5123399434951685,0.5123399434951685,0.37083226154054294],\"yaxis\":\"y\"},{\"hoverinfo\":\"text\",\"marker\":{\"color\":\"rgb(255,220,0)\"},\"mode\":\"lines\",\"type\":\"scatter\",\"x\":[595.0,595.0,605.0,605.0],\"xaxis\":\"x\",\"y\":[0.0,0.5754477314754943,0.5754477314754943,0.0],\"yaxis\":\"y\"},{\"hoverinfo\":\"text\",\"marker\":{\"color\":\"rgb(255,220,0)\"},\"mode\":\"lines\",\"type\":\"scatter\",\"x\":[563.75,563.75,600.0,600.0],\"xaxis\":\"x\",\"y\":[0.5123399434951685,0.9389866574045523,0.9389866574045523,0.5754477314754943],\"yaxis\":\"y\"},{\"hoverinfo\":\"text\",\"marker\":{\"color\":\"rgb(255,220,0)\"},\"mode\":\"lines\",\"type\":\"scatter\",\"x\":[545.0,545.0,581.875,581.875],\"xaxis\":\"x\",\"y\":[0.0,1.4491012928398512,1.4491012928398512,0.9389866574045523],\"yaxis\":\"y\"},{\"hoverinfo\":\"text\",\"marker\":{\"color\":\"rgb(255,220,0)\"},\"mode\":\"lines\",\"type\":\"scatter\",\"x\":[625.0,625.0,635.0,635.0],\"xaxis\":\"x\",\"y\":[0.0,0.14482898824748686,0.14482898824748686,0.0],\"yaxis\":\"y\"},{\"hoverinfo\":\"text\",\"marker\":{\"color\":\"rgb(255,220,0)\"},\"mode\":\"lines\",\"type\":\"scatter\",\"x\":[645.0,645.0,655.0,655.0],\"xaxis\":\"x\",\"y\":[0.0,0.2971881457052195,0.2971881457052195,0.0],\"yaxis\":\"y\"},{\"hoverinfo\":\"text\",\"marker\":{\"color\":\"rgb(255,220,0)\"},\"mode\":\"lines\",\"type\":\"scatter\",\"x\":[630.0,630.0,650.0,650.0],\"xaxis\":\"x\",\"y\":[0.14482898824748686,0.4344869647424601,0.4344869647424601,0.2971881457052195],\"yaxis\":\"y\"},{\"hoverinfo\":\"text\",\"marker\":{\"color\":\"rgb(255,220,0)\"},\"mode\":\"lines\",\"type\":\"scatter\",\"x\":[615.0,615.0,640.0,640.0],\"xaxis\":\"x\",\"y\":[0.0,0.868973929484919,0.868973929484919,0.4344869647424601],\"yaxis\":\"y\"},{\"hoverinfo\":\"text\",\"marker\":{\"color\":\"rgb(255,220,0)\"},\"mode\":\"lines\",\"type\":\"scatter\",\"x\":[675.0,675.0,685.0,685.0],\"xaxis\":\"x\",\"y\":[0.0,0.47069421180433046,0.47069421180433046,0.0],\"yaxis\":\"y\"},{\"hoverinfo\":\"text\",\"marker\":{\"color\":\"rgb(255,220,0)\"},\"mode\":\"lines\",\"type\":\"scatter\",\"x\":[665.0,665.0,680.0,680.0],\"xaxis\":\"x\",\"y\":[0.0,0.9258485331942253,0.9258485331942253,0.47069421180433046],\"yaxis\":\"y\"},{\"hoverinfo\":\"text\",\"marker\":{\"color\":\"rgb(255,220,0)\"},\"mode\":\"lines\",\"type\":\"scatter\",\"x\":[627.5,627.5,672.5,672.5],\"xaxis\":\"x\",\"y\":[0.868973929484919,1.5540754313620595,1.5540754313620595,0.9258485331942253],\"yaxis\":\"y\"},{\"hoverinfo\":\"text\",\"marker\":{\"color\":\"rgb(255,220,0)\"},\"mode\":\"lines\",\"type\":\"scatter\",\"x\":[563.4375,563.4375,650.0,650.0],\"xaxis\":\"x\",\"y\":[1.4491012928398512,2.285181441862426,2.285181441862426,1.5540754313620595],\"yaxis\":\"y\"},{\"hoverinfo\":\"text\",\"marker\":{\"color\":\"rgb(255,220,0)\"},\"mode\":\"lines\",\"type\":\"scatter\",\"x\":[695.0,695.0,705.0,705.0],\"xaxis\":\"x\",\"y\":[0.0,0.5027894424668045,0.5027894424668045,0.0],\"yaxis\":\"y\"},{\"hoverinfo\":\"text\",\"marker\":{\"color\":\"rgb(255,220,0)\"},\"mode\":\"lines\",\"type\":\"scatter\",\"x\":[715.0,715.0,725.0,725.0],\"xaxis\":\"x\",\"y\":[0.0,0.0,0.0,0.0],\"yaxis\":\"y\"},{\"hoverinfo\":\"text\",\"marker\":{\"color\":\"rgb(255,220,0)\"},\"mode\":\"lines\",\"type\":\"scatter\",\"x\":[755.0,755.0,765.0,765.0],\"xaxis\":\"x\",\"y\":[0.0,0.0,0.0,0.0],\"yaxis\":\"y\"},{\"hoverinfo\":\"text\",\"marker\":{\"color\":\"rgb(255,220,0)\"},\"mode\":\"lines\",\"type\":\"scatter\",\"x\":[745.0,745.0,760.0,760.0],\"xaxis\":\"x\",\"y\":[0.0,0.0,0.0,0.0],\"yaxis\":\"y\"},{\"hoverinfo\":\"text\",\"marker\":{\"color\":\"rgb(255,220,0)\"},\"mode\":\"lines\",\"type\":\"scatter\",\"x\":[735.0,735.0,752.5,752.5],\"xaxis\":\"x\",\"y\":[0.0,0.036207247061871575,0.036207247061871575,0.0],\"yaxis\":\"y\"},{\"hoverinfo\":\"text\",\"marker\":{\"color\":\"rgb(255,220,0)\"},\"mode\":\"lines\",\"type\":\"scatter\",\"x\":[720.0,720.0,743.75,743.75],\"xaxis\":\"x\",\"y\":[0.0,0.10862174118561471,0.10862174118561471,0.036207247061871575],\"yaxis\":\"y\"},{\"hoverinfo\":\"text\",\"marker\":{\"color\":\"rgb(255,220,0)\"},\"mode\":\"lines\",\"type\":\"scatter\",\"x\":[775.0,775.0,785.0,785.0],\"xaxis\":\"x\",\"y\":[0.0,0.12012606039243226,0.12012606039243226,0.0],\"yaxis\":\"y\"},{\"hoverinfo\":\"text\",\"marker\":{\"color\":\"rgb(255,220,0)\"},\"mode\":\"lines\",\"type\":\"scatter\",\"x\":[731.875,731.875,780.0,780.0],\"xaxis\":\"x\",\"y\":[0.10862174118561471,0.18103623530935808,0.18103623530935808,0.12012606039243226],\"yaxis\":\"y\"},{\"hoverinfo\":\"text\",\"marker\":{\"color\":\"rgb(255,220,0)\"},\"mode\":\"lines\",\"type\":\"scatter\",\"x\":[815.0,815.0,825.0,825.0],\"xaxis\":\"x\",\"y\":[0.0,0.03620724706187139,0.03620724706187139,0.0],\"yaxis\":\"y\"},{\"hoverinfo\":\"text\",\"marker\":{\"color\":\"rgb(255,220,0)\"},\"mode\":\"lines\",\"type\":\"scatter\",\"x\":[805.0,805.0,820.0,820.0],\"xaxis\":\"x\",\"y\":[0.0,0.12012606039243216,0.12012606039243216,0.03620724706187139],\"yaxis\":\"y\"},{\"hoverinfo\":\"text\",\"marker\":{\"color\":\"rgb(255,220,0)\"},\"mode\":\"lines\",\"type\":\"scatter\",\"x\":[795.0,795.0,812.5,812.5],\"xaxis\":\"x\",\"y\":[0.0,0.2552434862506951,0.2552434862506951,0.12012606039243216],\"yaxis\":\"y\"},{\"hoverinfo\":\"text\",\"marker\":{\"color\":\"rgb(255,220,0)\"},\"mode\":\"lines\",\"type\":\"scatter\",\"x\":[755.9375,755.9375,803.75,803.75],\"xaxis\":\"x\",\"y\":[0.18103623530935808,0.5326083841395438,0.5326083841395438,0.2552434862506951],\"yaxis\":\"y\"},{\"hoverinfo\":\"text\",\"marker\":{\"color\":\"rgb(255,220,0)\"},\"mode\":\"lines\",\"type\":\"scatter\",\"x\":[700.0,700.0,779.84375,779.84375],\"xaxis\":\"x\",\"y\":[0.5027894424668045,0.7723968150753069,0.7723968150753069,0.5326083841395438],\"yaxis\":\"y\"},{\"hoverinfo\":\"text\",\"marker\":{\"color\":\"rgb(255,220,0)\"},\"mode\":\"lines\",\"type\":\"scatter\",\"x\":[835.0,835.0,845.0,845.0],\"xaxis\":\"x\",\"y\":[0.0,0.5145990546015717,0.5145990546015717,0.0],\"yaxis\":\"y\"},{\"hoverinfo\":\"text\",\"marker\":{\"color\":\"rgb(255,220,0)\"},\"mode\":\"lines\",\"type\":\"scatter\",\"x\":[855.0,855.0,865.0,865.0],\"xaxis\":\"x\",\"y\":[0.0,0.39609004768916334,0.39609004768916334,0.0],\"yaxis\":\"y\"},{\"hoverinfo\":\"text\",\"marker\":{\"color\":\"rgb(255,220,0)\"},\"mode\":\"lines\",\"type\":\"scatter\",\"x\":[875.0,875.0,885.0,885.0],\"xaxis\":\"x\",\"y\":[0.0,0.3160649184332272,0.3160649184332272,0.0],\"yaxis\":\"y\"},{\"hoverinfo\":\"text\",\"marker\":{\"color\":\"rgb(255,220,0)\"},\"mode\":\"lines\",\"type\":\"scatter\",\"x\":[895.0,895.0,905.0,905.0],\"xaxis\":\"x\",\"y\":[0.0,0.10666974842856736,0.10666974842856736,0.0],\"yaxis\":\"y\"},{\"hoverinfo\":\"text\",\"marker\":{\"color\":\"rgb(255,220,0)\"},\"mode\":\"lines\",\"type\":\"scatter\",\"x\":[935.0,935.0,945.0,945.0],\"xaxis\":\"x\",\"y\":[0.0,7.656716496459005e-16,7.656716496459005e-16,0.0],\"yaxis\":\"y\"},{\"hoverinfo\":\"text\",\"marker\":{\"color\":\"rgb(255,220,0)\"},\"mode\":\"lines\",\"type\":\"scatter\",\"x\":[925.0,925.0,940.0,940.0],\"xaxis\":\"x\",\"y\":[0.0,0.036207247061872054,0.036207247061872054,7.656716496459005e-16],\"yaxis\":\"y\"},{\"hoverinfo\":\"text\",\"marker\":{\"color\":\"rgb(255,220,0)\"},\"mode\":\"lines\",\"type\":\"scatter\",\"x\":[915.0,915.0,932.5,932.5],\"xaxis\":\"x\",\"y\":[0.0,0.18103623530935847,0.18103623530935847,0.036207247061872054],\"yaxis\":\"y\"},{\"hoverinfo\":\"text\",\"marker\":{\"color\":\"rgb(255,220,0)\"},\"mode\":\"lines\",\"type\":\"scatter\",\"x\":[900.0,900.0,923.75,923.75],\"xaxis\":\"x\",\"y\":[0.10666974842856736,0.3626496797071916,0.3626496797071916,0.18103623530935847],\"yaxis\":\"y\"},{\"hoverinfo\":\"text\",\"marker\":{\"color\":\"rgb(255,220,0)\"},\"mode\":\"lines\",\"type\":\"scatter\",\"x\":[880.0,880.0,911.875,911.875],\"xaxis\":\"x\",\"y\":[0.3160649184332272,0.7603521882993043,0.7603521882993043,0.3626496797071916],\"yaxis\":\"y\"},{\"hoverinfo\":\"text\",\"marker\":{\"color\":\"rgb(255,220,0)\"},\"mode\":\"lines\",\"type\":\"scatter\",\"x\":[860.0,860.0,895.9375,895.9375],\"xaxis\":\"x\",\"y\":[0.39609004768916334,0.9446712956759078,0.9446712956759078,0.7603521882993043],\"yaxis\":\"y\"},{\"hoverinfo\":\"text\",\"marker\":{\"color\":\"rgb(255,220,0)\"},\"mode\":\"lines\",\"type\":\"scatter\",\"x\":[840.0,840.0,877.96875,877.96875],\"xaxis\":\"x\",\"y\":[0.5145990546015717,1.3010827583899174,1.3010827583899174,0.9446712956759078],\"yaxis\":\"y\"},{\"hoverinfo\":\"text\",\"marker\":{\"color\":\"rgb(255,220,0)\"},\"mode\":\"lines\",\"type\":\"scatter\",\"x\":[739.921875,739.921875,858.984375,858.984375],\"xaxis\":\"x\",\"y\":[0.7723968150753069,1.516398153627007,1.516398153627007,1.3010827583899174],\"yaxis\":\"y\"},{\"hoverinfo\":\"text\",\"marker\":{\"color\":\"rgb(255,220,0)\"},\"mode\":\"lines\",\"type\":\"scatter\",\"x\":[975.0,975.0,985.0,985.0],\"xaxis\":\"x\",\"y\":[0.0,0.0,0.0,0.0],\"yaxis\":\"y\"},{\"hoverinfo\":\"text\",\"marker\":{\"color\":\"rgb(255,220,0)\"},\"mode\":\"lines\",\"type\":\"scatter\",\"x\":[995.0,995.0,1005.0,1005.0],\"xaxis\":\"x\",\"y\":[0.0,0.14482898824748636,0.14482898824748636,0.0],\"yaxis\":\"y\"},{\"hoverinfo\":\"text\",\"marker\":{\"color\":\"rgb(255,220,0)\"},\"mode\":\"lines\",\"type\":\"scatter\",\"x\":[980.0,980.0,1000.0,1000.0],\"xaxis\":\"x\",\"y\":[0.0,0.4706942118043311,0.4706942118043311,0.14482898824748636],\"yaxis\":\"y\"},{\"hoverinfo\":\"text\",\"marker\":{\"color\":\"rgb(255,220,0)\"},\"mode\":\"lines\",\"type\":\"scatter\",\"x\":[965.0,965.0,990.0,990.0],\"xaxis\":\"x\",\"y\":[0.0,1.1528366741738558,1.1528366741738558,0.4706942118043311],\"yaxis\":\"y\"},{\"hoverinfo\":\"text\",\"marker\":{\"color\":\"rgb(255,220,0)\"},\"mode\":\"lines\",\"type\":\"scatter\",\"x\":[955.0,955.0,977.5,977.5],\"xaxis\":\"x\",\"y\":[0.0,1.6517070182575444,1.6517070182575444,1.1528366741738558],\"yaxis\":\"y\"},{\"hoverinfo\":\"text\",\"marker\":{\"color\":\"rgb(255,220,0)\"},\"mode\":\"lines\",\"type\":\"scatter\",\"x\":[799.453125,799.453125,966.25,966.25],\"xaxis\":\"x\",\"y\":[1.516398153627007,3.1678269045641128,3.1678269045641128,1.6517070182575444],\"yaxis\":\"y\"},{\"hoverinfo\":\"text\",\"marker\":{\"color\":\"rgb(255,220,0)\"},\"mode\":\"lines\",\"type\":\"scatter\",\"x\":[606.71875,606.71875,882.8515625,882.8515625],\"xaxis\":\"x\",\"y\":[2.285181441862426,3.400773554565266,3.400773554565266,3.1678269045641128],\"yaxis\":\"y\"},{\"hoverinfo\":\"text\",\"marker\":{\"color\":\"rgb(255,220,0)\"},\"mode\":\"lines\",\"type\":\"scatter\",\"x\":[530.0,530.0,744.78515625,744.78515625],\"xaxis\":\"x\",\"y\":[2.0288049249363125,4.601261070779569,4.601261070779569,3.400773554565266],\"yaxis\":\"y\"},{\"hoverinfo\":\"text\",\"marker\":{\"color\":\"rgb(255,220,0)\"},\"mode\":\"lines\",\"type\":\"scatter\",\"x\":[510.0,510.0,637.392578125,637.392578125],\"xaxis\":\"x\",\"y\":[1.8456724254545338,5.774344251332215,5.774344251332215,4.601261070779569],\"yaxis\":\"y\"},{\"hoverinfo\":\"text\",\"marker\":{\"color\":\"rgb(0,116,217)\"},\"mode\":\"lines\",\"type\":\"scatter\",\"x\":[444.0625,444.0625,573.6962890625,573.6962890625],\"xaxis\":\"x\",\"y\":[4.535305391143324,7.610270425694638,7.610270425694638,5.774344251332215],\"yaxis\":\"y\"},{\"hoverinfo\":\"text\",\"marker\":{\"color\":\"rgb(0,116,217)\"},\"mode\":\"lines\",\"type\":\"scatter\",\"x\":[198.45703125,198.45703125,508.87939453125,508.87939453125],\"xaxis\":\"x\",\"y\":[3.59910729507189,8.830208945507465,8.830208945507465,7.610270425694638],\"yaxis\":\"y\"},{\"hoverinfo\":\"text\",\"marker\":{\"color\":\"rgb(0,116,217)\"},\"mode\":\"lines\",\"type\":\"scatter\",\"x\":[51.25,51.25,353.668212890625,353.668212890625],\"xaxis\":\"x\",\"y\":[4.755667267447969,9.362644170250894,9.362644170250894,8.830208945507465],\"yaxis\":\"y\"},{\"hoverinfo\":\"text\",\"marker\":{\"color\":\"rgb(0,116,217)\"},\"mode\":\"lines\",\"type\":\"scatter\",\"x\":[12.5,12.5,202.4591064453125,202.4591064453125],\"xaxis\":\"x\",\"y\":[2.8149409000953307,11.946930869871604,11.946930869871604,9.362644170250894],\"yaxis\":\"y\"}],                        {\"autosize\":false,\"height\":800,\"hovermode\":\"closest\",\"showlegend\":false,\"template\":{\"data\":{\"bar\":[{\"error_x\":{\"color\":\"#2a3f5f\"},\"error_y\":{\"color\":\"#2a3f5f\"},\"marker\":{\"line\":{\"color\":\"#E5ECF6\",\"width\":0.5},\"pattern\":{\"fillmode\":\"overlay\",\"size\":10,\"solidity\":0.2}},\"type\":\"bar\"}],\"barpolar\":[{\"marker\":{\"line\":{\"color\":\"#E5ECF6\",\"width\":0.5},\"pattern\":{\"fillmode\":\"overlay\",\"size\":10,\"solidity\":0.2}},\"type\":\"barpolar\"}],\"carpet\":[{\"aaxis\":{\"endlinecolor\":\"#2a3f5f\",\"gridcolor\":\"white\",\"linecolor\":\"white\",\"minorgridcolor\":\"white\",\"startlinecolor\":\"#2a3f5f\"},\"baxis\":{\"endlinecolor\":\"#2a3f5f\",\"gridcolor\":\"white\",\"linecolor\":\"white\",\"minorgridcolor\":\"white\",\"startlinecolor\":\"#2a3f5f\"},\"type\":\"carpet\"}],\"choropleth\":[{\"colorbar\":{\"outlinewidth\":0,\"ticks\":\"\"},\"type\":\"choropleth\"}],\"contour\":[{\"colorbar\":{\"outlinewidth\":0,\"ticks\":\"\"},\"colorscale\":[[0.0,\"#0d0887\"],[0.1111111111111111,\"#46039f\"],[0.2222222222222222,\"#7201a8\"],[0.3333333333333333,\"#9c179e\"],[0.4444444444444444,\"#bd3786\"],[0.5555555555555556,\"#d8576b\"],[0.6666666666666666,\"#ed7953\"],[0.7777777777777778,\"#fb9f3a\"],[0.8888888888888888,\"#fdca26\"],[1.0,\"#f0f921\"]],\"type\":\"contour\"}],\"contourcarpet\":[{\"colorbar\":{\"outlinewidth\":0,\"ticks\":\"\"},\"type\":\"contourcarpet\"}],\"heatmap\":[{\"colorbar\":{\"outlinewidth\":0,\"ticks\":\"\"},\"colorscale\":[[0.0,\"#0d0887\"],[0.1111111111111111,\"#46039f\"],[0.2222222222222222,\"#7201a8\"],[0.3333333333333333,\"#9c179e\"],[0.4444444444444444,\"#bd3786\"],[0.5555555555555556,\"#d8576b\"],[0.6666666666666666,\"#ed7953\"],[0.7777777777777778,\"#fb9f3a\"],[0.8888888888888888,\"#fdca26\"],[1.0,\"#f0f921\"]],\"type\":\"heatmap\"}],\"heatmapgl\":[{\"colorbar\":{\"outlinewidth\":0,\"ticks\":\"\"},\"colorscale\":[[0.0,\"#0d0887\"],[0.1111111111111111,\"#46039f\"],[0.2222222222222222,\"#7201a8\"],[0.3333333333333333,\"#9c179e\"],[0.4444444444444444,\"#bd3786\"],[0.5555555555555556,\"#d8576b\"],[0.6666666666666666,\"#ed7953\"],[0.7777777777777778,\"#fb9f3a\"],[0.8888888888888888,\"#fdca26\"],[1.0,\"#f0f921\"]],\"type\":\"heatmapgl\"}],\"histogram\":[{\"marker\":{\"pattern\":{\"fillmode\":\"overlay\",\"size\":10,\"solidity\":0.2}},\"type\":\"histogram\"}],\"histogram2d\":[{\"colorbar\":{\"outlinewidth\":0,\"ticks\":\"\"},\"colorscale\":[[0.0,\"#0d0887\"],[0.1111111111111111,\"#46039f\"],[0.2222222222222222,\"#7201a8\"],[0.3333333333333333,\"#9c179e\"],[0.4444444444444444,\"#bd3786\"],[0.5555555555555556,\"#d8576b\"],[0.6666666666666666,\"#ed7953\"],[0.7777777777777778,\"#fb9f3a\"],[0.8888888888888888,\"#fdca26\"],[1.0,\"#f0f921\"]],\"type\":\"histogram2d\"}],\"histogram2dcontour\":[{\"colorbar\":{\"outlinewidth\":0,\"ticks\":\"\"},\"colorscale\":[[0.0,\"#0d0887\"],[0.1111111111111111,\"#46039f\"],[0.2222222222222222,\"#7201a8\"],[0.3333333333333333,\"#9c179e\"],[0.4444444444444444,\"#bd3786\"],[0.5555555555555556,\"#d8576b\"],[0.6666666666666666,\"#ed7953\"],[0.7777777777777778,\"#fb9f3a\"],[0.8888888888888888,\"#fdca26\"],[1.0,\"#f0f921\"]],\"type\":\"histogram2dcontour\"}],\"mesh3d\":[{\"colorbar\":{\"outlinewidth\":0,\"ticks\":\"\"},\"type\":\"mesh3d\"}],\"parcoords\":[{\"line\":{\"colorbar\":{\"outlinewidth\":0,\"ticks\":\"\"}},\"type\":\"parcoords\"}],\"pie\":[{\"automargin\":true,\"type\":\"pie\"}],\"scatter\":[{\"marker\":{\"colorbar\":{\"outlinewidth\":0,\"ticks\":\"\"}},\"type\":\"scatter\"}],\"scatter3d\":[{\"line\":{\"colorbar\":{\"outlinewidth\":0,\"ticks\":\"\"}},\"marker\":{\"colorbar\":{\"outlinewidth\":0,\"ticks\":\"\"}},\"type\":\"scatter3d\"}],\"scattercarpet\":[{\"marker\":{\"colorbar\":{\"outlinewidth\":0,\"ticks\":\"\"}},\"type\":\"scattercarpet\"}],\"scattergeo\":[{\"marker\":{\"colorbar\":{\"outlinewidth\":0,\"ticks\":\"\"}},\"type\":\"scattergeo\"}],\"scattergl\":[{\"marker\":{\"colorbar\":{\"outlinewidth\":0,\"ticks\":\"\"}},\"type\":\"scattergl\"}],\"scattermapbox\":[{\"marker\":{\"colorbar\":{\"outlinewidth\":0,\"ticks\":\"\"}},\"type\":\"scattermapbox\"}],\"scatterpolar\":[{\"marker\":{\"colorbar\":{\"outlinewidth\":0,\"ticks\":\"\"}},\"type\":\"scatterpolar\"}],\"scatterpolargl\":[{\"marker\":{\"colorbar\":{\"outlinewidth\":0,\"ticks\":\"\"}},\"type\":\"scatterpolargl\"}],\"scatterternary\":[{\"marker\":{\"colorbar\":{\"outlinewidth\":0,\"ticks\":\"\"}},\"type\":\"scatterternary\"}],\"surface\":[{\"colorbar\":{\"outlinewidth\":0,\"ticks\":\"\"},\"colorscale\":[[0.0,\"#0d0887\"],[0.1111111111111111,\"#46039f\"],[0.2222222222222222,\"#7201a8\"],[0.3333333333333333,\"#9c179e\"],[0.4444444444444444,\"#bd3786\"],[0.5555555555555556,\"#d8576b\"],[0.6666666666666666,\"#ed7953\"],[0.7777777777777778,\"#fb9f3a\"],[0.8888888888888888,\"#fdca26\"],[1.0,\"#f0f921\"]],\"type\":\"surface\"}],\"table\":[{\"cells\":{\"fill\":{\"color\":\"#EBF0F8\"},\"line\":{\"color\":\"white\"}},\"header\":{\"fill\":{\"color\":\"#C8D4E3\"},\"line\":{\"color\":\"white\"}},\"type\":\"table\"}]},\"layout\":{\"annotationdefaults\":{\"arrowcolor\":\"#2a3f5f\",\"arrowhead\":0,\"arrowwidth\":1},\"autotypenumbers\":\"strict\",\"coloraxis\":{\"colorbar\":{\"outlinewidth\":0,\"ticks\":\"\"}},\"colorscale\":{\"diverging\":[[0,\"#8e0152\"],[0.1,\"#c51b7d\"],[0.2,\"#de77ae\"],[0.3,\"#f1b6da\"],[0.4,\"#fde0ef\"],[0.5,\"#f7f7f7\"],[0.6,\"#e6f5d0\"],[0.7,\"#b8e186\"],[0.8,\"#7fbc41\"],[0.9,\"#4d9221\"],[1,\"#276419\"]],\"sequential\":[[0.0,\"#0d0887\"],[0.1111111111111111,\"#46039f\"],[0.2222222222222222,\"#7201a8\"],[0.3333333333333333,\"#9c179e\"],[0.4444444444444444,\"#bd3786\"],[0.5555555555555556,\"#d8576b\"],[0.6666666666666666,\"#ed7953\"],[0.7777777777777778,\"#fb9f3a\"],[0.8888888888888888,\"#fdca26\"],[1.0,\"#f0f921\"]],\"sequentialminus\":[[0.0,\"#0d0887\"],[0.1111111111111111,\"#46039f\"],[0.2222222222222222,\"#7201a8\"],[0.3333333333333333,\"#9c179e\"],[0.4444444444444444,\"#bd3786\"],[0.5555555555555556,\"#d8576b\"],[0.6666666666666666,\"#ed7953\"],[0.7777777777777778,\"#fb9f3a\"],[0.8888888888888888,\"#fdca26\"],[1.0,\"#f0f921\"]]},\"colorway\":[\"#636efa\",\"#EF553B\",\"#00cc96\",\"#ab63fa\",\"#FFA15A\",\"#19d3f3\",\"#FF6692\",\"#B6E880\",\"#FF97FF\",\"#FECB52\"],\"font\":{\"color\":\"#2a3f5f\"},\"geo\":{\"bgcolor\":\"white\",\"lakecolor\":\"white\",\"landcolor\":\"#E5ECF6\",\"showlakes\":true,\"showland\":true,\"subunitcolor\":\"white\"},\"hoverlabel\":{\"align\":\"left\"},\"hovermode\":\"closest\",\"mapbox\":{\"style\":\"light\"},\"paper_bgcolor\":\"white\",\"plot_bgcolor\":\"#E5ECF6\",\"polar\":{\"angularaxis\":{\"gridcolor\":\"white\",\"linecolor\":\"white\",\"ticks\":\"\"},\"bgcolor\":\"#E5ECF6\",\"radialaxis\":{\"gridcolor\":\"white\",\"linecolor\":\"white\",\"ticks\":\"\"}},\"scene\":{\"xaxis\":{\"backgroundcolor\":\"#E5ECF6\",\"gridcolor\":\"white\",\"gridwidth\":2,\"linecolor\":\"white\",\"showbackground\":true,\"ticks\":\"\",\"zerolinecolor\":\"white\"},\"yaxis\":{\"backgroundcolor\":\"#E5ECF6\",\"gridcolor\":\"white\",\"gridwidth\":2,\"linecolor\":\"white\",\"showbackground\":true,\"ticks\":\"\",\"zerolinecolor\":\"white\"},\"zaxis\":{\"backgroundcolor\":\"#E5ECF6\",\"gridcolor\":\"white\",\"gridwidth\":2,\"linecolor\":\"white\",\"showbackground\":true,\"ticks\":\"\",\"zerolinecolor\":\"white\"}},\"shapedefaults\":{\"line\":{\"color\":\"#2a3f5f\"}},\"ternary\":{\"aaxis\":{\"gridcolor\":\"white\",\"linecolor\":\"white\",\"ticks\":\"\"},\"baxis\":{\"gridcolor\":\"white\",\"linecolor\":\"white\",\"ticks\":\"\"},\"bgcolor\":\"#E5ECF6\",\"caxis\":{\"gridcolor\":\"white\",\"linecolor\":\"white\",\"ticks\":\"\"}},\"title\":{\"x\":0.05},\"xaxis\":{\"automargin\":true,\"gridcolor\":\"white\",\"linecolor\":\"white\",\"ticks\":\"\",\"title\":{\"standoff\":15},\"zerolinecolor\":\"white\",\"zerolinewidth\":2},\"yaxis\":{\"automargin\":true,\"gridcolor\":\"white\",\"linecolor\":\"white\",\"ticks\":\"\",\"title\":{\"standoff\":15},\"zerolinecolor\":\"white\",\"zerolinewidth\":2}}},\"width\":1000,\"xaxis\":{\"mirror\":\"allticks\",\"rangemode\":\"tozero\",\"showgrid\":false,\"showline\":true,\"showticklabels\":true,\"tickmode\":\"array\",\"ticks\":\"outside\",\"ticktext\":[\"20\",\"70\",\"87\",\"45\",\"7\",\"44\",\"26\",\"95\",\"80\",\"22\",\"27\",\"38\",\"61\",\"71\",\"90\",\"40\",\"52\",\"97\",\"47\",\"74\",\"60\",\"64\",\"73\",\"88\",\"82\",\"85\",\"77\",\"34\",\"93\",\"54\",\"89\",\"2\",\"14\",\"76\",\"92\",\"24\",\"6\",\"11\",\"43\",\"36\",\"98\",\"75\",\"12\",\"91\",\"99\",\"96\",\"30\",\"79\",\"0\",\"100\",\"23\",\"63\",\"69\",\"86\",\"48\",\"9\",\"13\",\"41\",\"65\",\"17\",\"55\",\"5\",\"25\",\"28\",\"16\",\"31\",\"39\",\"49\",\"67\",\"1\",\"33\",\"32\",\"72\",\"62\",\"94\",\"66\",\"84\",\"15\",\"50\",\"81\",\"21\",\"37\",\"53\",\"8\",\"42\",\"59\",\"83\",\"3\",\"68\",\"29\",\"58\",\"51\",\"56\",\"4\",\"46\",\"19\",\"18\",\"35\",\"57\",\"10\",\"78\"],\"tickvals\":[5,15,25,35,45,55,65,75,85,95,105,115,125,135,145,155,165,175,185,195,205,215,225,235,245,255,265,275,285,295,305,315,325,335,345,355,365,375,385,395,405,415,425,435,445,455,465,475,485,495,505,515,525,535,545,555,565,575,585,595,605,615,625,635,645,655,665,675,685,695,705,715,725,735,745,755,765,775,785,795,805,815,825,835,845,855,865,875,885,895,905,915,925,935,945,955,965,975,985,995,1005],\"type\":\"linear\",\"zeroline\":false},\"yaxis\":{\"mirror\":\"allticks\",\"rangemode\":\"tozero\",\"showgrid\":false,\"showline\":true,\"showticklabels\":true,\"ticks\":\"outside\",\"type\":\"linear\",\"zeroline\":false}},                        {\"responsive\": true}                    ).then(function(){\n",
       "                            \n",
       "var gd = document.getElementById('3880f800-9fc3-4917-9b94-7cc82b892c48');\n",
       "var x = new MutationObserver(function (mutations, observer) {{\n",
       "        var display = window.getComputedStyle(gd).display;\n",
       "        if (!display || display === 'none') {{\n",
       "            console.log([gd, 'removed!']);\n",
       "            Plotly.purge(gd);\n",
       "            observer.disconnect();\n",
       "        }}\n",
       "}});\n",
       "\n",
       "// Listen for the removal of the full notebook cells\n",
       "var notebookContainer = gd.closest('#notebook-container');\n",
       "if (notebookContainer) {{\n",
       "    x.observe(notebookContainer, {childList: true});\n",
       "}}\n",
       "\n",
       "// Listen for the clearing of the current output cell\n",
       "var outputEl = gd.closest('.output');\n",
       "if (outputEl) {{\n",
       "    x.observe(outputEl, {childList: true});\n",
       "}}\n",
       "\n",
       "                        })                };                });            </script>        </div>"
      ]
     },
     "metadata": {},
     "output_type": "display_data"
    }
   ],
   "source": [
    "# Create the dendrogram\n",
    "\n",
    "fig = ff.create_dendrogram(movies_pca_df, color_threshold = 6)\n",
    "fig.update_layout(width=1000, height=800)\n",
    "fig.show()\n"
   ]
  },
  {
   "cell_type": "code",
   "execution_count": 40,
   "metadata": {},
   "outputs": [],
   "source": [
    "# Run the Hierarchical Algorithm\n",
    "\n",
    "agg = AgglomerativeClustering(n_clusters = 5)\n",
    "model = agg.fit(movies_pca_df)\n"
   ]
  },
  {
   "cell_type": "code",
   "execution_count": 46,
   "metadata": {},
   "outputs": [
    {
     "name": "stdout",
     "output_type": "stream",
     "text": [
      "(101, 37)\n"
     ]
    },
    {
     "data": {
      "text/html": [
       "<div>\n",
       "<style scoped>\n",
       "    .dataframe tbody tr th:only-of-type {\n",
       "        vertical-align: middle;\n",
       "    }\n",
       "\n",
       "    .dataframe tbody tr th {\n",
       "        vertical-align: top;\n",
       "    }\n",
       "\n",
       "    .dataframe thead th {\n",
       "        text-align: right;\n",
       "    }\n",
       "</style>\n",
       "<table border=\"1\" class=\"dataframe\">\n",
       "  <thead>\n",
       "    <tr style=\"text-align: right;\">\n",
       "      <th></th>\n",
       "      <th>tconst</th>\n",
       "      <th>primaryTitle</th>\n",
       "      <th>originalTitle</th>\n",
       "      <th>startYear</th>\n",
       "      <th>runtimeMinutes</th>\n",
       "      <th>genres</th>\n",
       "      <th>averageRating</th>\n",
       "      <th>numVotes</th>\n",
       "      <th>url</th>\n",
       "      <th>genres_list</th>\n",
       "      <th>Action</th>\n",
       "      <th>Adventure</th>\n",
       "      <th>Animation</th>\n",
       "      <th>Biography</th>\n",
       "      <th>Comedy</th>\n",
       "      <th>Crime</th>\n",
       "      <th>Documentary</th>\n",
       "      <th>Drama</th>\n",
       "      <th>Family</th>\n",
       "      <th>Fantasy</th>\n",
       "      <th>Film-Noir</th>\n",
       "      <th>History</th>\n",
       "      <th>Horror</th>\n",
       "      <th>Music</th>\n",
       "      <th>Musical</th>\n",
       "      <th>Mystery</th>\n",
       "      <th>News</th>\n",
       "      <th>Romance</th>\n",
       "      <th>Sci-Fi</th>\n",
       "      <th>Sport</th>\n",
       "      <th>Thriller</th>\n",
       "      <th>War</th>\n",
       "      <th>Western</th>\n",
       "      <th>PC 1</th>\n",
       "      <th>PC 2</th>\n",
       "      <th>PC 3</th>\n",
       "      <th>Class</th>\n",
       "    </tr>\n",
       "  </thead>\n",
       "  <tbody>\n",
       "    <tr>\n",
       "      <th>0</th>\n",
       "      <td>tt0033870</td>\n",
       "      <td>The Maltese Falcon (1941)</td>\n",
       "      <td>The Maltese Falcon (1941)</td>\n",
       "      <td>1941</td>\n",
       "      <td>100</td>\n",
       "      <td>Crime,Film-Noir,Mystery</td>\n",
       "      <td>8.0</td>\n",
       "      <td>154114</td>\n",
       "      <td>https://www.imdb.com/title/tt0033870/</td>\n",
       "      <td>[Crime, Film-Noir, Mystery]</td>\n",
       "      <td>0</td>\n",
       "      <td>0</td>\n",
       "      <td>0</td>\n",
       "      <td>0</td>\n",
       "      <td>0</td>\n",
       "      <td>1</td>\n",
       "      <td>0</td>\n",
       "      <td>0</td>\n",
       "      <td>0</td>\n",
       "      <td>0</td>\n",
       "      <td>1</td>\n",
       "      <td>0</td>\n",
       "      <td>0</td>\n",
       "      <td>0</td>\n",
       "      <td>0</td>\n",
       "      <td>1</td>\n",
       "      <td>0</td>\n",
       "      <td>0</td>\n",
       "      <td>0</td>\n",
       "      <td>0</td>\n",
       "      <td>0</td>\n",
       "      <td>0</td>\n",
       "      <td>0</td>\n",
       "      <td>-1.342194</td>\n",
       "      <td>4.449498</td>\n",
       "      <td>-3.641010</td>\n",
       "      <td>1</td>\n",
       "    </tr>\n",
       "    <tr>\n",
       "      <th>1</th>\n",
       "      <td>tt0082639</td>\n",
       "      <td>Ladies and Gentlemen, the Fabulous Stains</td>\n",
       "      <td>Ladies and Gentlemen, the Fabulous Stains</td>\n",
       "      <td>1982</td>\n",
       "      <td>87</td>\n",
       "      <td>Comedy,Drama,Music</td>\n",
       "      <td>6.8</td>\n",
       "      <td>2633</td>\n",
       "      <td>https://www.imdb.com/title/tt0082639/</td>\n",
       "      <td>[Comedy, Drama, Music]</td>\n",
       "      <td>0</td>\n",
       "      <td>0</td>\n",
       "      <td>0</td>\n",
       "      <td>0</td>\n",
       "      <td>1</td>\n",
       "      <td>0</td>\n",
       "      <td>0</td>\n",
       "      <td>1</td>\n",
       "      <td>0</td>\n",
       "      <td>0</td>\n",
       "      <td>0</td>\n",
       "      <td>0</td>\n",
       "      <td>0</td>\n",
       "      <td>1</td>\n",
       "      <td>0</td>\n",
       "      <td>0</td>\n",
       "      <td>0</td>\n",
       "      <td>0</td>\n",
       "      <td>0</td>\n",
       "      <td>0</td>\n",
       "      <td>0</td>\n",
       "      <td>0</td>\n",
       "      <td>0</td>\n",
       "      <td>0.145914</td>\n",
       "      <td>1.170659</td>\n",
       "      <td>0.014516</td>\n",
       "      <td>0</td>\n",
       "    </tr>\n",
       "    <tr>\n",
       "      <th>2</th>\n",
       "      <td>tt6341286</td>\n",
       "      <td>Stoneland (2016)</td>\n",
       "      <td>Stoneland (2016)</td>\n",
       "      <td>2016</td>\n",
       "      <td>46</td>\n",
       "      <td>Documentary</td>\n",
       "      <td>9.2</td>\n",
       "      <td>21</td>\n",
       "      <td>https://www.imdb.com/title/tt6341286/</td>\n",
       "      <td>[Documentary]</td>\n",
       "      <td>0</td>\n",
       "      <td>0</td>\n",
       "      <td>0</td>\n",
       "      <td>0</td>\n",
       "      <td>0</td>\n",
       "      <td>0</td>\n",
       "      <td>1</td>\n",
       "      <td>0</td>\n",
       "      <td>0</td>\n",
       "      <td>0</td>\n",
       "      <td>0</td>\n",
       "      <td>0</td>\n",
       "      <td>0</td>\n",
       "      <td>0</td>\n",
       "      <td>0</td>\n",
       "      <td>0</td>\n",
       "      <td>0</td>\n",
       "      <td>0</td>\n",
       "      <td>0</td>\n",
       "      <td>0</td>\n",
       "      <td>0</td>\n",
       "      <td>0</td>\n",
       "      <td>0</td>\n",
       "      <td>-2.182739</td>\n",
       "      <td>-0.618947</td>\n",
       "      <td>0.591701</td>\n",
       "      <td>4</td>\n",
       "    </tr>\n",
       "    <tr>\n",
       "      <th>3</th>\n",
       "      <td>tt1263676</td>\n",
       "      <td>East L.A.</td>\n",
       "      <td>East L.A.</td>\n",
       "      <td>2008</td>\n",
       "      <td>\\N</td>\n",
       "      <td>Drama</td>\n",
       "      <td>8.8</td>\n",
       "      <td>24</td>\n",
       "      <td>https://www.imdb.com/title/tt1263676/</td>\n",
       "      <td>[Drama]</td>\n",
       "      <td>0</td>\n",
       "      <td>0</td>\n",
       "      <td>0</td>\n",
       "      <td>0</td>\n",
       "      <td>0</td>\n",
       "      <td>0</td>\n",
       "      <td>0</td>\n",
       "      <td>1</td>\n",
       "      <td>0</td>\n",
       "      <td>0</td>\n",
       "      <td>0</td>\n",
       "      <td>0</td>\n",
       "      <td>0</td>\n",
       "      <td>0</td>\n",
       "      <td>0</td>\n",
       "      <td>0</td>\n",
       "      <td>0</td>\n",
       "      <td>0</td>\n",
       "      <td>0</td>\n",
       "      <td>0</td>\n",
       "      <td>0</td>\n",
       "      <td>0</td>\n",
       "      <td>0</td>\n",
       "      <td>-0.796872</td>\n",
       "      <td>0.771669</td>\n",
       "      <td>0.040491</td>\n",
       "      <td>0</td>\n",
       "    </tr>\n",
       "    <tr>\n",
       "      <th>4</th>\n",
       "      <td>tt0027243</td>\n",
       "      <td>Édes mostoha</td>\n",
       "      <td>Édes mostoha</td>\n",
       "      <td>1935</td>\n",
       "      <td>90</td>\n",
       "      <td>Drama</td>\n",
       "      <td>6.7</td>\n",
       "      <td>27</td>\n",
       "      <td>https://www.imdb.com/title/tt0027243/</td>\n",
       "      <td>[Drama]</td>\n",
       "      <td>0</td>\n",
       "      <td>0</td>\n",
       "      <td>0</td>\n",
       "      <td>0</td>\n",
       "      <td>0</td>\n",
       "      <td>0</td>\n",
       "      <td>0</td>\n",
       "      <td>1</td>\n",
       "      <td>0</td>\n",
       "      <td>0</td>\n",
       "      <td>0</td>\n",
       "      <td>0</td>\n",
       "      <td>0</td>\n",
       "      <td>0</td>\n",
       "      <td>0</td>\n",
       "      <td>0</td>\n",
       "      <td>0</td>\n",
       "      <td>0</td>\n",
       "      <td>0</td>\n",
       "      <td>0</td>\n",
       "      <td>0</td>\n",
       "      <td>0</td>\n",
       "      <td>0</td>\n",
       "      <td>-0.046710</td>\n",
       "      <td>0.663807</td>\n",
       "      <td>0.101798</td>\n",
       "      <td>0</td>\n",
       "    </tr>\n",
       "  </tbody>\n",
       "</table>\n",
       "</div>"
      ],
      "text/plain": [
       "      tconst                               primaryTitle  \\\n",
       "0  tt0033870                  The Maltese Falcon (1941)   \n",
       "1  tt0082639  Ladies and Gentlemen, the Fabulous Stains   \n",
       "2  tt6341286                           Stoneland (2016)   \n",
       "3  tt1263676                                  East L.A.   \n",
       "4  tt0027243                               Édes mostoha   \n",
       "\n",
       "                               originalTitle  startYear runtimeMinutes  \\\n",
       "0                  The Maltese Falcon (1941)       1941            100   \n",
       "1  Ladies and Gentlemen, the Fabulous Stains       1982             87   \n",
       "2                           Stoneland (2016)       2016             46   \n",
       "3                                  East L.A.       2008             \\N   \n",
       "4                               Édes mostoha       1935             90   \n",
       "\n",
       "                    genres  averageRating  numVotes  \\\n",
       "0  Crime,Film-Noir,Mystery            8.0    154114   \n",
       "1       Comedy,Drama,Music            6.8      2633   \n",
       "2              Documentary            9.2        21   \n",
       "3                    Drama            8.8        24   \n",
       "4                    Drama            6.7        27   \n",
       "\n",
       "                                     url                  genres_list  Action  \\\n",
       "0  https://www.imdb.com/title/tt0033870/  [Crime, Film-Noir, Mystery]       0   \n",
       "1  https://www.imdb.com/title/tt0082639/       [Comedy, Drama, Music]       0   \n",
       "2  https://www.imdb.com/title/tt6341286/                [Documentary]       0   \n",
       "3  https://www.imdb.com/title/tt1263676/                      [Drama]       0   \n",
       "4  https://www.imdb.com/title/tt0027243/                      [Drama]       0   \n",
       "\n",
       "   Adventure  Animation  Biography  Comedy  Crime  Documentary  Drama  Family  \\\n",
       "0          0          0          0       0      1            0      0       0   \n",
       "1          0          0          0       1      0            0      1       0   \n",
       "2          0          0          0       0      0            1      0       0   \n",
       "3          0          0          0       0      0            0      1       0   \n",
       "4          0          0          0       0      0            0      1       0   \n",
       "\n",
       "   Fantasy  Film-Noir  History  Horror  Music  Musical  Mystery  News  \\\n",
       "0        0          1        0       0      0        0        1     0   \n",
       "1        0          0        0       0      1        0        0     0   \n",
       "2        0          0        0       0      0        0        0     0   \n",
       "3        0          0        0       0      0        0        0     0   \n",
       "4        0          0        0       0      0        0        0     0   \n",
       "\n",
       "   Romance  Sci-Fi  Sport  Thriller  War  Western      PC 1      PC 2  \\\n",
       "0        0       0      0         0    0        0 -1.342194  4.449498   \n",
       "1        0       0      0         0    0        0  0.145914  1.170659   \n",
       "2        0       0      0         0    0        0 -2.182739 -0.618947   \n",
       "3        0       0      0         0    0        0 -0.796872  0.771669   \n",
       "4        0       0      0         0    0        0 -0.046710  0.663807   \n",
       "\n",
       "       PC 3  Class  \n",
       "0 -3.641010      1  \n",
       "1  0.014516      0  \n",
       "2  0.591701      4  \n",
       "3  0.040491      0  \n",
       "4  0.101798      0  "
      ]
     },
     "execution_count": 46,
     "metadata": {},
     "output_type": "execute_result"
    }
   ],
   "source": [
    "# Add a new Class Column to movies_pca_df\n",
    "\n",
    "movies_pca_df['Class'] = model.labels_\n",
    "movies_pca_df.head()\n",
    "\n",
    "# Create overall clustered_df\n",
    "\n",
    "clustered_df = pd.concat([movies_df, movies_pca_df], axis=1, sort=False)\n",
    "\n",
    "print(clustered_df.shape)\n",
    "clustered_df.head()\n"
   ]
  },
  {
   "cell_type": "markdown",
   "metadata": {},
   "source": [
    "## Part 5: Generate Recommendation for User"
   ]
  },
  {
   "cell_type": "code",
   "execution_count": 47,
   "metadata": {},
   "outputs": [
    {
     "data": {
      "text/html": [
       "<div>\n",
       "<style scoped>\n",
       "    .dataframe tbody tr th:only-of-type {\n",
       "        vertical-align: middle;\n",
       "    }\n",
       "\n",
       "    .dataframe tbody tr th {\n",
       "        vertical-align: top;\n",
       "    }\n",
       "\n",
       "    .dataframe thead th {\n",
       "        text-align: right;\n",
       "    }\n",
       "</style>\n",
       "<table border=\"1\" class=\"dataframe\">\n",
       "  <thead>\n",
       "    <tr style=\"text-align: right;\">\n",
       "      <th></th>\n",
       "      <th>tconst</th>\n",
       "      <th>primaryTitle</th>\n",
       "      <th>originalTitle</th>\n",
       "      <th>startYear</th>\n",
       "      <th>runtimeMinutes</th>\n",
       "      <th>genres</th>\n",
       "      <th>averageRating</th>\n",
       "      <th>numVotes</th>\n",
       "      <th>url</th>\n",
       "      <th>genres_list</th>\n",
       "      <th>Action</th>\n",
       "      <th>Adventure</th>\n",
       "      <th>Animation</th>\n",
       "      <th>Biography</th>\n",
       "      <th>Comedy</th>\n",
       "      <th>Crime</th>\n",
       "      <th>Documentary</th>\n",
       "      <th>Drama</th>\n",
       "      <th>Family</th>\n",
       "      <th>Fantasy</th>\n",
       "      <th>Film-Noir</th>\n",
       "      <th>History</th>\n",
       "      <th>Horror</th>\n",
       "      <th>Music</th>\n",
       "      <th>Musical</th>\n",
       "      <th>Mystery</th>\n",
       "      <th>News</th>\n",
       "      <th>Romance</th>\n",
       "      <th>Sci-Fi</th>\n",
       "      <th>Sport</th>\n",
       "      <th>Thriller</th>\n",
       "      <th>War</th>\n",
       "      <th>Western</th>\n",
       "      <th>PC 1</th>\n",
       "      <th>PC 2</th>\n",
       "      <th>PC 3</th>\n",
       "      <th>Class</th>\n",
       "    </tr>\n",
       "  </thead>\n",
       "  <tbody>\n",
       "    <tr>\n",
       "      <th>0</th>\n",
       "      <td>tt0033870</td>\n",
       "      <td>The Maltese Falcon (1941)</td>\n",
       "      <td>The Maltese Falcon (1941)</td>\n",
       "      <td>1941</td>\n",
       "      <td>100</td>\n",
       "      <td>Crime,Film-Noir,Mystery</td>\n",
       "      <td>8.0</td>\n",
       "      <td>154114</td>\n",
       "      <td>https://www.imdb.com/title/tt0033870/</td>\n",
       "      <td>[Crime, Film-Noir, Mystery]</td>\n",
       "      <td>0</td>\n",
       "      <td>0</td>\n",
       "      <td>0</td>\n",
       "      <td>0</td>\n",
       "      <td>0</td>\n",
       "      <td>1</td>\n",
       "      <td>0</td>\n",
       "      <td>0</td>\n",
       "      <td>0</td>\n",
       "      <td>0</td>\n",
       "      <td>1</td>\n",
       "      <td>0</td>\n",
       "      <td>0</td>\n",
       "      <td>0</td>\n",
       "      <td>0</td>\n",
       "      <td>1</td>\n",
       "      <td>0</td>\n",
       "      <td>0</td>\n",
       "      <td>0</td>\n",
       "      <td>0</td>\n",
       "      <td>0</td>\n",
       "      <td>0</td>\n",
       "      <td>0</td>\n",
       "      <td>-1.342194</td>\n",
       "      <td>4.449498</td>\n",
       "      <td>-3.64101</td>\n",
       "      <td>1</td>\n",
       "    </tr>\n",
       "  </tbody>\n",
       "</table>\n",
       "</div>"
      ],
      "text/plain": [
       "      tconst               primaryTitle              originalTitle  startYear  \\\n",
       "0  tt0033870  The Maltese Falcon (1941)  The Maltese Falcon (1941)       1941   \n",
       "\n",
       "  runtimeMinutes                   genres  averageRating  numVotes  \\\n",
       "0            100  Crime,Film-Noir,Mystery            8.0    154114   \n",
       "\n",
       "                                     url                  genres_list  Action  \\\n",
       "0  https://www.imdb.com/title/tt0033870/  [Crime, Film-Noir, Mystery]       0   \n",
       "\n",
       "   Adventure  Animation  Biography  Comedy  Crime  Documentary  Drama  Family  \\\n",
       "0          0          0          0       0      1            0      0       0   \n",
       "\n",
       "   Fantasy  Film-Noir  History  Horror  Music  Musical  Mystery  News  \\\n",
       "0        0          1        0       0      0        0        1     0   \n",
       "\n",
       "   Romance  Sci-Fi  Sport  Thriller  War  Western      PC 1      PC 2  \\\n",
       "0        0       0      0         0    0        0 -1.342194  4.449498   \n",
       "\n",
       "      PC 3  Class  \n",
       "0 -3.64101      1  "
      ]
     },
     "execution_count": 47,
     "metadata": {},
     "output_type": "execute_result"
    }
   ],
   "source": [
    "# Find viewerTitle Data for Testing Purposes\n",
    "\n",
    "clustered_df.loc[(clustered_df['primaryTitle'] == viewerTitle)]\n"
   ]
  },
  {
   "cell_type": "code",
   "execution_count": 48,
   "metadata": {},
   "outputs": [
    {
     "data": {
      "text/plain": [
       "0    tt0033870\n",
       "Name: tconst, dtype: object"
      ]
     },
     "execution_count": 48,
     "metadata": {},
     "output_type": "execute_result"
    }
   ],
   "source": [
    "# Find tconst for viewerTitle\n",
    "\n",
    "viewer_tconst = clustered_df.loc[(clustered_df['primaryTitle'] == viewerTitle)]['tconst']\n",
    "viewer_tconst\n"
   ]
  },
  {
   "cell_type": "markdown",
   "metadata": {},
   "source": [
    "#### Take viewerTitle and find Closest Neighbors"
   ]
  },
  {
   "cell_type": "code",
   "execution_count": 49,
   "metadata": {},
   "outputs": [
    {
     "data": {
      "text/plain": [
       "1"
      ]
     },
     "execution_count": 49,
     "metadata": {},
     "output_type": "execute_result"
    }
   ],
   "source": [
    "# Find Class of viewerTitle\n",
    "\n",
    "#clustered_df.head()\n",
    "#clustered_df.loc[clustered_df['primaryTitle'] == viewerTitle]\n",
    "viewerTitleClass = clustered_df.loc[clustered_df['primaryTitle'] == viewerTitle]['Class'].values[0]\n",
    "viewerTitleClass\n"
   ]
  },
  {
   "cell_type": "code",
   "execution_count": 54,
   "metadata": {},
   "outputs": [
    {
     "name": "stdout",
     "output_type": "stream",
     "text": [
      "(11, 3)\n"
     ]
    },
    {
     "data": {
      "text/html": [
       "<div>\n",
       "<style scoped>\n",
       "    .dataframe tbody tr th:only-of-type {\n",
       "        vertical-align: middle;\n",
       "    }\n",
       "\n",
       "    .dataframe tbody tr th {\n",
       "        vertical-align: top;\n",
       "    }\n",
       "\n",
       "    .dataframe thead th {\n",
       "        text-align: right;\n",
       "    }\n",
       "</style>\n",
       "<table border=\"1\" class=\"dataframe\">\n",
       "  <thead>\n",
       "    <tr style=\"text-align: right;\">\n",
       "      <th></th>\n",
       "      <th>PC 1</th>\n",
       "      <th>PC 2</th>\n",
       "      <th>PC 3</th>\n",
       "    </tr>\n",
       "    <tr>\n",
       "      <th>tconst</th>\n",
       "      <th></th>\n",
       "      <th></th>\n",
       "      <th></th>\n",
       "    </tr>\n",
       "  </thead>\n",
       "  <tbody>\n",
       "    <tr>\n",
       "      <th>tt0033870</th>\n",
       "      <td>-1.342194</td>\n",
       "      <td>4.449498</td>\n",
       "      <td>-3.641010</td>\n",
       "    </tr>\n",
       "    <tr>\n",
       "      <th>tt2170744</th>\n",
       "      <td>-0.670650</td>\n",
       "      <td>1.303777</td>\n",
       "      <td>-1.441684</td>\n",
       "    </tr>\n",
       "    <tr>\n",
       "      <th>tt0115907</th>\n",
       "      <td>-0.029394</td>\n",
       "      <td>3.348105</td>\n",
       "      <td>-1.993530</td>\n",
       "    </tr>\n",
       "    <tr>\n",
       "      <th>tt0035199</th>\n",
       "      <td>0.751377</td>\n",
       "      <td>1.251212</td>\n",
       "      <td>-1.999624</td>\n",
       "    </tr>\n",
       "    <tr>\n",
       "      <th>tt4442758</th>\n",
       "      <td>0.072659</td>\n",
       "      <td>1.348802</td>\n",
       "      <td>-2.055092</td>\n",
       "    </tr>\n",
       "  </tbody>\n",
       "</table>\n",
       "</div>"
      ],
      "text/plain": [
       "               PC 1      PC 2      PC 3\n",
       "tconst                                 \n",
       "tt0033870 -1.342194  4.449498 -3.641010\n",
       "tt2170744 -0.670650  1.303777 -1.441684\n",
       "tt0115907 -0.029394  3.348105 -1.993530\n",
       "tt0035199  0.751377  1.251212 -1.999624\n",
       "tt4442758  0.072659  1.348802 -2.055092"
      ]
     },
     "execution_count": 54,
     "metadata": {},
     "output_type": "execute_result"
    }
   ],
   "source": [
    "# Create a Distance Matrix by 'tconst'\n",
    "\n",
    "# First, create a DataFrame of only the three Principal Components\n",
    "# of Titles in the same Class as viewerTitle\n",
    "\n",
    "clustered_df = clustered_df.loc[clustered_df['Class'] == viewerTitleClass]\n",
    "\n",
    "distance_inputs_df = clustered_df[['tconst', 'PC 1', 'PC 2', 'PC 3']]\n",
    "distance_inputs_df.set_index('tconst', inplace=True)\n",
    "\n",
    "print(distance_inputs_df.shape)\n",
    "distance_inputs_df.head()\n"
   ]
  },
  {
   "cell_type": "code",
   "execution_count": 55,
   "metadata": {},
   "outputs": [
    {
     "data": {
      "text/html": [
       "<div>\n",
       "<style scoped>\n",
       "    .dataframe tbody tr th:only-of-type {\n",
       "        vertical-align: middle;\n",
       "    }\n",
       "\n",
       "    .dataframe tbody tr th {\n",
       "        vertical-align: top;\n",
       "    }\n",
       "\n",
       "    .dataframe thead th {\n",
       "        text-align: right;\n",
       "    }\n",
       "</style>\n",
       "<table border=\"1\" class=\"dataframe\">\n",
       "  <thead>\n",
       "    <tr style=\"text-align: right;\">\n",
       "      <th></th>\n",
       "      <th>PC 1</th>\n",
       "      <th>PC 2</th>\n",
       "      <th>PC 3</th>\n",
       "    </tr>\n",
       "    <tr>\n",
       "      <th>tconst</th>\n",
       "      <th></th>\n",
       "      <th></th>\n",
       "      <th></th>\n",
       "    </tr>\n",
       "  </thead>\n",
       "  <tbody>\n",
       "    <tr>\n",
       "      <th>tt0033870</th>\n",
       "      <td>-1.342194</td>\n",
       "      <td>4.449498</td>\n",
       "      <td>-3.64101</td>\n",
       "    </tr>\n",
       "  </tbody>\n",
       "</table>\n",
       "</div>"
      ],
      "text/plain": [
       "               PC 1      PC 2     PC 3\n",
       "tconst                                \n",
       "tt0033870 -1.342194  4.449498 -3.64101"
      ]
     },
     "execution_count": 55,
     "metadata": {},
     "output_type": "execute_result"
    }
   ],
   "source": [
    "# Find Principal Component Coordinates\n",
    "# for viewer_tconst\n",
    "\n",
    "viewer_input_df = distance_inputs_df.loc[viewer_tconst]\n",
    "viewer_input_df\n"
   ]
  },
  {
   "cell_type": "code",
   "execution_count": 56,
   "metadata": {},
   "outputs": [
    {
     "data": {
      "text/plain": [
       "array([[-1.34219383,  4.44949813, -3.64101036]])"
      ]
     },
     "execution_count": 56,
     "metadata": {},
     "output_type": "execute_result"
    }
   ],
   "source": [
    "# Convert distance_inputs_df to Numpy Array\n",
    "\n",
    "distance_inputs = distance_inputs_df.to_numpy()\n",
    "distance_inputs\n",
    "\n",
    "viewer_input = viewer_input_df.to_numpy()\n",
    "viewer_input\n"
   ]
  },
  {
   "cell_type": "code",
   "execution_count": 59,
   "metadata": {},
   "outputs": [
    {
     "data": {
      "text/plain": [
       "array([0.        , 3.89660975, 2.37712022, 4.16007499, 3.75915737,\n",
       "       2.55304002, 3.42052428, 2.07400541, 4.53530539, 3.23880685,\n",
       "       1.28302866])"
      ]
     },
     "execution_count": 59,
     "metadata": {},
     "output_type": "execute_result"
    }
   ],
   "source": [
    "# Calculate Euclidean Distances\n",
    "\n",
    "distance_results = distance.cdist(viewer_input, distance_inputs, 'euclidean')\n",
    "distance_results[0]\n"
   ]
  },
  {
   "cell_type": "code",
   "execution_count": 60,
   "metadata": {},
   "outputs": [
    {
     "data": {
      "text/plain": [
       "10"
      ]
     },
     "execution_count": 60,
     "metadata": {},
     "output_type": "execute_result"
    }
   ],
   "source": [
    "# For each distance in distance_results, add a small random number\n",
    "# to help guarantee uniqueness of distances\n",
    "# (If distance is 0, leave it unchanged)\n",
    "\n",
    "distance_results_rand = []\n",
    "\n",
    "for distance in distance_results[0]:\n",
    "    if distance == 0:\n",
    "        continue\n",
    "    else:\n",
    "        distance = distance + random.randrange(1, 9, 1)/10e15\n",
    "        \n",
    "    distance_results_rand.append(distance)\n",
    "\n",
    "distance_results_rand = np.asarray(distance_results_rand)\n",
    "len(distance_results_rand)\n"
   ]
  },
  {
   "cell_type": "code",
   "execution_count": 61,
   "metadata": {},
   "outputs": [
    {
     "data": {
      "text/plain": [
       "9"
      ]
     },
     "execution_count": 61,
     "metadata": {},
     "output_type": "execute_result"
    }
   ],
   "source": [
    "# Find the Smallest Non-Zero Distance and its Position\n",
    "\n",
    "min_non_zero = np.min(distance_results_rand[np.nonzero(distance_results_rand)])\n",
    "min_non_zero\n",
    "\n",
    "recommendation_index = list(distance_results_rand).index(min_non_zero)\n",
    "recommendation_index\n"
   ]
  },
  {
   "cell_type": "code",
   "execution_count": 62,
   "metadata": {},
   "outputs": [
    {
     "name": "stdout",
     "output_type": "stream",
     "text": [
      "tt0045911\n",
      "Inferno (1953)\n",
      "https://www.imdb.com/title/tt0045911/\n"
     ]
    }
   ],
   "source": [
    "# Find Corresponding tconst for this index\n",
    "\n",
    "print(clustered_df.iloc[recommendation_index]['tconst'])\n",
    "print(clustered_df.iloc[recommendation_index]['primaryTitle'])\n",
    "print(clustered_df.iloc[recommendation_index]['url'])\n"
   ]
  },
  {
   "cell_type": "markdown",
   "metadata": {},
   "source": [
    "#### Output 5 Recommendations"
   ]
  },
  {
   "cell_type": "code",
   "execution_count": 63,
   "metadata": {},
   "outputs": [
    {
     "data": {
      "text/plain": [
       "array([2.37712022, 1.28302866, 2.07400541, 2.55304002, 3.23880685])"
      ]
     },
     "execution_count": 63,
     "metadata": {},
     "output_type": "execute_result"
    }
   ],
   "source": [
    "# Find the 5 Smallest Non-Zero Distance and their Positions\n",
    "\n",
    "k = 5\n",
    "five_min_non_zero = np.partition(distance_results_rand[np.nonzero(distance_results_rand)], k)[:k]\n",
    "five_min_non_zero\n"
   ]
  },
  {
   "cell_type": "code",
   "execution_count": 64,
   "metadata": {},
   "outputs": [
    {
     "name": "stdout",
     "output_type": "stream",
     "text": [
      "tt2170744\n",
      "1\n",
      "Who Killed Soul Glow?\n",
      "https://www.imdb.com/title/tt2170744/\n",
      "tt0045911\n",
      "1\n",
      "Inferno (1953)\n",
      "https://www.imdb.com/title/tt0045911/\n",
      "tt2466510\n",
      "1\n",
      "The Backpack\n",
      "https://www.imdb.com/title/tt2466510/\n",
      "tt4442758\n",
      "1\n",
      "Temper (2015)\n",
      "https://www.imdb.com/title/tt4442758/\n",
      "tt0100786\n",
      "1\n",
      "Till There Was You (1991)\n",
      "https://www.imdb.com/title/tt0100786/\n"
     ]
    }
   ],
   "source": [
    "# Loop through five_min_non_zero\n",
    "\n",
    "for entry in five_min_non_zero:\n",
    "    #print(entry)\n",
    "    recommendation_index = list(distance_results_rand).index(entry)\n",
    "    print(clustered_df.iloc[recommendation_index]['tconst'])\n",
    "    print(clustered_df.iloc[recommendation_index]['Class'])\n",
    "    print(clustered_df.iloc[recommendation_index]['primaryTitle'])\n",
    "    print(clustered_df.iloc[recommendation_index]['url'])\n"
   ]
  },
  {
   "cell_type": "code",
   "execution_count": null,
   "metadata": {},
   "outputs": [],
   "source": []
  }
 ],
 "metadata": {
  "kernelspec": {
   "display_name": "mlenv",
   "language": "python",
   "name": "mlenv"
  },
  "language_info": {
   "codemirror_mode": {
    "name": "ipython",
    "version": 3
   },
   "file_extension": ".py",
   "mimetype": "text/x-python",
   "name": "python",
   "nbconvert_exporter": "python",
   "pygments_lexer": "ipython3",
   "version": "3.7.10"
  }
 },
 "nbformat": 4,
 "nbformat_minor": 2
}
